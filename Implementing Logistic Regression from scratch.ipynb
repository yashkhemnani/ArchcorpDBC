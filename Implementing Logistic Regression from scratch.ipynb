{
 "cells": [
  {
   "cell_type": "markdown",
   "id": "b6dde35f",
   "metadata": {},
   "source": [
    "## Import Libraries"
   ]
  },
  {
   "cell_type": "code",
   "execution_count": 113,
   "id": "6cfb73b8",
   "metadata": {},
   "outputs": [],
   "source": [
    "import numpy as np\n",
    "from numpy import log,dot,e,shape\n",
    "import matplotlib.pyplot as plt\n"
   ]
  },
  {
   "cell_type": "code",
   "execution_count": 114,
   "id": "28e35115",
   "metadata": {},
   "outputs": [],
   "source": [
    "from sklearn.datasets import make_classification\n",
    "X, y = make_classification(n_features = 4, n_classes = 2)\n",
    "from sklearn.model_selection import train_test_split\n",
    "X_tr, X_te, y_tr, y_te = train_test_split(X,y,test_size = 0.1)\n"
   ]
  },
  {
   "cell_type": "markdown",
   "id": "a0583083",
   "metadata": {},
   "source": [
    "## Standardization"
   ]
  },
  {
   "cell_type": "code",
   "execution_count": 115,
   "id": "631e77ad",
   "metadata": {},
   "outputs": [
    {
     "name": "stdout",
     "output_type": "stream",
     "text": [
      "[ 0.54679785  1.10514732 -0.5303263  -1.0178851 ]\n"
     ]
    }
   ],
   "source": [
    "print(X_tr[1])"
   ]
  },
  {
   "cell_type": "code",
   "execution_count": 116,
   "id": "e37bfed1",
   "metadata": {},
   "outputs": [
    {
     "name": "stdout",
     "output_type": "stream",
     "text": [
      "[0 1 0 0 0 1 1 1 0 1 1 0 0 0 1 1 1 1 1 1 1 0 1 0 1 0 1 0 1 0 0 1 0 0 0 1 0\n",
      " 0 1 1 1 0 1 1 1 0 0 0 1 0 1 0 0 0 1 1 1 0 0 1 1 0 0 0 1 0 0 1 1 0 0 0 0 1\n",
      " 1 0 0 1 1 1 0 0 1 1 1 1 1 1 0 0]\n"
     ]
    }
   ],
   "source": [
    "print(y_tr)"
   ]
  },
  {
   "cell_type": "code",
   "execution_count": 117,
   "id": "98309545",
   "metadata": {},
   "outputs": [
    {
     "data": {
      "text/plain": [
       "(90, 4)"
      ]
     },
     "execution_count": 117,
     "metadata": {},
     "output_type": "execute_result"
    }
   ],
   "source": [
    "X_tr.shape"
   ]
  },
  {
   "cell_type": "code",
   "execution_count": 118,
   "id": "bca1c48d",
   "metadata": {},
   "outputs": [
    {
     "name": "stdout",
     "output_type": "stream",
     "text": [
      "[ 0.63799111  1.10514732  0.40245234  0.68200736 -0.93803248  1.23260754\n",
      "  1.08067232  1.3357591  -0.5701375   1.8752849   0.70372207 -1.56037042\n",
      "  0.46360059 -1.36813352  1.72422919  1.1216394   0.42260032  2.27042377\n",
      "  0.87805519  1.01334293  1.14943797 -2.24760372  0.96289555 -0.59052227\n",
      "  1.90305952 -0.1846584   0.90187429 -0.19157338  1.21863449 -0.62414334\n",
      " -0.83657735  1.57222298 -0.33059702 -0.55297307 -1.03692183  0.25148615\n",
      " -1.6683759  -1.43548676  0.91231606  1.50192163  0.34626118 -1.7086571\n",
      "  1.04144101  0.5366822   1.52281085 -1.43295206 -1.40403911 -1.29700498\n",
      "  0.85118574  0.34466765  2.00414064 -1.96227111 -3.54470385 -2.25590135\n",
      "  2.3201813   0.87704301 -0.17682657 -1.24328345 -0.69201386  0.45739828\n",
      "  1.86523148 -1.8065526   0.22223247  1.02661525  1.74752241 -1.47258772\n",
      " -1.97341682 -0.73985415  1.90725835 -1.23698892 -1.35917914 -2.40904337\n",
      " -3.09357109 -0.08168683  1.36787605 -1.62040065 -1.24588137  0.97302982\n",
      "  1.46235809  2.01486816 -0.42965159 -1.77604422  1.51636878  1.30402365\n",
      "  0.81853345  1.88021519  0.88895462  0.26617054 -0.41503258 -0.73423667]\n"
     ]
    }
   ],
   "source": [
    "print(X_tr[:,1])"
   ]
  },
  {
   "cell_type": "code",
   "execution_count": 119,
   "id": "cdc3606a",
   "metadata": {},
   "outputs": [
    {
     "data": {
      "text/plain": [
       "array([ 0.63799111,  1.10514732,  0.40245234,  0.68200736, -0.93803248])"
      ]
     },
     "execution_count": 119,
     "metadata": {},
     "output_type": "execute_result"
    }
   ],
   "source": [
    "X_tr[0:5,1]"
   ]
  },
  {
   "cell_type": "code",
   "execution_count": 120,
   "id": "08d985fa",
   "metadata": {},
   "outputs": [
    {
     "name": "stdout",
     "output_type": "stream",
     "text": [
      "[[-0.26199289  0.63799111 -0.64143763  0.18651656]\n",
      " [ 0.54679785  1.10514732 -0.5303263  -1.0178851 ]\n",
      " [-0.52850332  0.40245234 -0.61545741  0.60443936]\n",
      " [-0.18932766  0.68200736 -0.63302346  0.07778039]\n",
      " [ 1.08049482 -0.93803248  1.34666346 -1.20601179]\n",
      " [-1.32995306  1.23260754 -1.71740882  1.46432433]\n",
      " [ 0.11017133  1.08067232 -0.76498201 -0.42643447]\n",
      " [-1.04142236  1.3357591  -1.62906048  1.05104458]\n",
      " [-0.65166284 -0.5701375   0.0590814   1.02039671]\n",
      " [-1.79629181  1.8752849  -2.48104861  1.92348208]\n",
      " [-0.98283875  0.70372207 -1.11025388  1.13558701]\n",
      " [ 1.72685611 -1.56037042  2.19919161 -1.91167042]\n",
      " [-1.04418703  0.46360059 -0.96167713  1.27974796]\n",
      " [-0.36196171 -1.36813352  0.83933315  0.83802537]\n",
      " [-2.58064616  1.72422919 -2.82044089  3.01358857]\n",
      " [-0.79545355  1.1216394  -1.32205365  0.77665256]\n",
      " [ 0.19923126  0.42260032 -0.20851608 -0.37601783]\n",
      " [ 2.39966473  2.27042377 -0.34869863 -3.80158539]\n",
      " [ 0.63383442  0.87805519 -0.30561733 -1.07594052]\n",
      " [ 0.59207861  1.01334293 -0.43362575 -1.05488365]\n",
      " [-0.90663941  1.14943797 -1.40791162  0.9184847 ]\n",
      " [-0.29744352 -2.24760372  1.55137761  0.9784472 ]\n",
      " [ 0.31626775  0.96289555 -0.55501785 -0.67224671]\n",
      " [ 0.55515377 -0.59052227  0.7751848  -0.5916364 ]\n",
      " [-1.48085719  1.90305952 -2.31926675  1.49359322]\n",
      " [-0.17820001 -0.1846584   0.03821012  0.28644925]\n",
      " [ 0.12214739  0.90187429 -0.62088401 -0.39635786]\n",
      " [-0.66867244 -0.19157338 -0.24116852  0.9455303 ]\n",
      " [ 0.61638289  1.21863449 -0.57698754 -1.14041543]\n",
      " [-0.09399198 -0.62414334  0.42419297  0.28697726]\n",
      " [ 0.8450177  -0.83657735  1.13216548 -0.91661495]\n",
      " [-1.76482495  1.57222298 -2.23032119  1.95949591]\n",
      " [-0.64287131 -0.33059702 -0.11955498  0.94681856]\n",
      " [ 1.15509604 -0.55297307  1.09460461 -1.40532433]\n",
      " [ 0.65605028 -1.03692183  1.17615792 -0.6116893 ]\n",
      " [-0.20783374  0.25148615 -0.31353415  0.21364629]\n",
      " [ 0.93004794 -1.6683759   1.81954918 -0.81598023]\n",
      " [ 0.58984295 -1.43548676  1.44344818 -0.42014154]\n",
      " [-0.48224579  0.91231606 -0.97969864  0.41091421]\n",
      " [ 0.90764906  1.50192163 -0.62522422 -1.60383221]\n",
      " [-0.38493214  0.34626118 -0.48902366  0.42653135]\n",
      " [ 1.14496212 -1.7086571   1.97518853 -1.09360162]\n",
      " [ 0.66119135  1.04144101 -0.41506354 -1.15475245]\n",
      " [-0.93832197  0.5366822  -0.95628749  1.11902145]\n",
      " [-1.20975559  1.52281085 -1.8702432   1.22837773]\n",
      " [ 1.32261257 -1.43295206  1.86682222 -1.40280248]\n",
      " [-0.52067149 -1.40403911  0.77475527  1.05998009]\n",
      " [-0.48540128 -1.29700498  0.71312661  0.98510087]\n",
      " [-1.20487844  0.85118574 -1.35224322  1.39510672]\n",
      " [-0.94173752  0.34466765 -0.81098546  1.17313441]\n",
      " [-1.56078292  2.00414064 -2.44319184  1.57462736]\n",
      " [-0.37423394 -1.96227111  1.28794249  1.00774663]\n",
      " [ 2.99937932 -3.54470385  4.45987703 -3.10510194]\n",
      " [-0.39367135 -2.25590135  1.5018892   1.10954566]\n",
      " [-1.61282263  2.3201813  -2.71581559  1.5628356 ]\n",
      " [-0.03842477  0.87704301 -0.6950374  -0.17476425]\n",
      " [-1.4878085  -0.17682657 -0.7279276   2.0394753 ]\n",
      " [ 1.07383696 -1.24328345  1.57694142 -1.11834113]\n",
      " [ 0.36651765 -0.69201386  0.74354455 -0.31265667]\n",
      " [ 0.48129813  0.45739828 -0.07148898 -0.76300142]\n",
      " [-1.52924082  1.86523148 -2.3183339   1.56819243]\n",
      " [-0.47475021 -1.8065526   1.11015659  1.1022795 ]\n",
      " [-0.66149549  0.22223247 -0.55441205  0.82915914]\n",
      " [ 0.07777583  1.02661525 -0.74232078 -0.3690747 ]\n",
      " [-2.18500287  1.74752241 -2.60866641  2.4773657 ]\n",
      " [ 1.15465891 -1.47258772  1.79974008 -1.16749747]\n",
      " [ 1.45702789 -1.97341682  2.35940309 -1.44350814]\n",
      " [ 0.23513908 -0.73985415  0.70398489 -0.12425044]\n",
      " [-1.60111902  1.90725835 -2.3922905   1.65367657]\n",
      " [-0.58601102 -1.23698892  0.6086949   1.10444819]\n",
      " [ 1.59637963 -1.35917914  1.96913621 -1.78871796]\n",
      " [-0.32686266 -2.40904337  1.65813406  1.05952069]\n",
      " [-0.22779068 -3.09357109  2.24070406  1.10334489]\n",
      " [-0.76313822 -0.08168683 -0.38028721  1.0437784 ]\n",
      " [ 1.31675146  1.36787605 -0.28495121 -2.11750197]\n",
      " [-0.6047955  -1.62040065  0.89188736  1.22853393]\n",
      " [-0.52912564 -1.24588137  0.64853357  1.03050842]\n",
      " [-0.05925943  0.97302982 -0.78075693 -0.17160564]\n",
      " [ 1.24199733  1.46235809 -0.40081275 -2.04169603]\n",
      " [-1.63920186  2.01486816 -2.49693673  1.67695151]\n",
      " [-0.4498576  -0.42965159  0.0684548   0.71370894]\n",
      " [ 2.58658198 -1.77604422  2.86363085 -3.00817617]\n",
      " [ 1.64655765  1.51636878 -0.2074244  -2.59779333]\n",
      " [ 1.15769615  1.30402365 -0.32829309 -1.88787451]\n",
      " [ 0.17365891  0.81853345 -0.52705892 -0.44388987]\n",
      " [-2.31556569  1.88021519 -2.78623025  2.61810503]\n",
      " [ 0.64606313  0.88895462 -0.30687986 -1.09514042]\n",
      " [-0.45474525  0.26617054 -0.46811156  0.54075172]\n",
      " [-0.78493962 -0.41503258 -0.13724889  1.15899125]\n",
      " [-0.79025504 -0.73423667  0.10451098  1.24846248]]\n"
     ]
    }
   ],
   "source": [
    "print(X_tr)"
   ]
  },
  {
   "attachments": {
    "image.png": {
     "image/png": "[encoded data removed]"
    }
   },
   "cell_type": "markdown",
   "id": "eae23a96",
   "metadata": {},
   "source": [
    "## Standarization\n",
    " µ = Mean, And\n",
    " σ = Standard Deviation\n",
    "\n",
    "![image.png](attachment:image.png)"
   ]
  },
  {
   "cell_type": "code",
   "execution_count": 121,
   "id": "8f828410",
   "metadata": {},
   "outputs": [],
   "source": [
    "def standardize(X_tr):\n",
    "    for i in range(shape(X_tr)[1]):\n",
    "        X_tr[:,i] = (X_tr[:,i] - np.mean(X_tr[:,i]))/np.std(X_tr[:,i])"
   ]
  },
  {
   "cell_type": "code",
   "execution_count": 122,
   "id": "cde5f8f2",
   "metadata": {},
   "outputs": [
    {
     "data": {
      "text/plain": [
       "(4,)"
      ]
     },
     "execution_count": 122,
     "metadata": {},
     "output_type": "execute_result"
    }
   ],
   "source": [
    "shape(X_tr[1])"
   ]
  },
  {
   "cell_type": "code",
   "execution_count": 123,
   "id": "badd9ebe",
   "metadata": {},
   "outputs": [
    {
     "name": "stdout",
     "output_type": "stream",
     "text": [
      "[ 0.54679785  1.10514732 -0.5303263  -1.0178851 ]\n"
     ]
    }
   ],
   "source": [
    "print(X_tr[1])"
   ]
  },
  {
   "cell_type": "code",
   "execution_count": 124,
   "id": "525162a8",
   "metadata": {},
   "outputs": [
    {
     "name": "stdout",
     "output_type": "stream",
     "text": [
      "[[-0.26199289  0.63799111 -0.64143763  0.18651656]\n",
      " [ 0.54679785  1.10514732 -0.5303263  -1.0178851 ]\n",
      " [-0.52850332  0.40245234 -0.61545741  0.60443936]\n",
      " [-0.18932766  0.68200736 -0.63302346  0.07778039]\n",
      " [ 1.08049482 -0.93803248  1.34666346 -1.20601179]\n",
      " [-1.32995306  1.23260754 -1.71740882  1.46432433]\n",
      " [ 0.11017133  1.08067232 -0.76498201 -0.42643447]\n",
      " [-1.04142236  1.3357591  -1.62906048  1.05104458]\n",
      " [-0.65166284 -0.5701375   0.0590814   1.02039671]\n",
      " [-1.79629181  1.8752849  -2.48104861  1.92348208]\n",
      " [-0.98283875  0.70372207 -1.11025388  1.13558701]\n",
      " [ 1.72685611 -1.56037042  2.19919161 -1.91167042]\n",
      " [-1.04418703  0.46360059 -0.96167713  1.27974796]\n",
      " [-0.36196171 -1.36813352  0.83933315  0.83802537]\n",
      " [-2.58064616  1.72422919 -2.82044089  3.01358857]\n",
      " [-0.79545355  1.1216394  -1.32205365  0.77665256]\n",
      " [ 0.19923126  0.42260032 -0.20851608 -0.37601783]\n",
      " [ 2.39966473  2.27042377 -0.34869863 -3.80158539]\n",
      " [ 0.63383442  0.87805519 -0.30561733 -1.07594052]\n",
      " [ 0.59207861  1.01334293 -0.43362575 -1.05488365]\n",
      " [-0.90663941  1.14943797 -1.40791162  0.9184847 ]\n",
      " [-0.29744352 -2.24760372  1.55137761  0.9784472 ]\n",
      " [ 0.31626775  0.96289555 -0.55501785 -0.67224671]\n",
      " [ 0.55515377 -0.59052227  0.7751848  -0.5916364 ]\n",
      " [-1.48085719  1.90305952 -2.31926675  1.49359322]\n",
      " [-0.17820001 -0.1846584   0.03821012  0.28644925]\n",
      " [ 0.12214739  0.90187429 -0.62088401 -0.39635786]\n",
      " [-0.66867244 -0.19157338 -0.24116852  0.9455303 ]\n",
      " [ 0.61638289  1.21863449 -0.57698754 -1.14041543]\n",
      " [-0.09399198 -0.62414334  0.42419297  0.28697726]\n",
      " [ 0.8450177  -0.83657735  1.13216548 -0.91661495]\n",
      " [-1.76482495  1.57222298 -2.23032119  1.95949591]\n",
      " [-0.64287131 -0.33059702 -0.11955498  0.94681856]\n",
      " [ 1.15509604 -0.55297307  1.09460461 -1.40532433]\n",
      " [ 0.65605028 -1.03692183  1.17615792 -0.6116893 ]\n",
      " [-0.20783374  0.25148615 -0.31353415  0.21364629]\n",
      " [ 0.93004794 -1.6683759   1.81954918 -0.81598023]\n",
      " [ 0.58984295 -1.43548676  1.44344818 -0.42014154]\n",
      " [-0.48224579  0.91231606 -0.97969864  0.41091421]\n",
      " [ 0.90764906  1.50192163 -0.62522422 -1.60383221]\n",
      " [-0.38493214  0.34626118 -0.48902366  0.42653135]\n",
      " [ 1.14496212 -1.7086571   1.97518853 -1.09360162]\n",
      " [ 0.66119135  1.04144101 -0.41506354 -1.15475245]\n",
      " [-0.93832197  0.5366822  -0.95628749  1.11902145]\n",
      " [-1.20975559  1.52281085 -1.8702432   1.22837773]\n",
      " [ 1.32261257 -1.43295206  1.86682222 -1.40280248]\n",
      " [-0.52067149 -1.40403911  0.77475527  1.05998009]\n",
      " [-0.48540128 -1.29700498  0.71312661  0.98510087]\n",
      " [-1.20487844  0.85118574 -1.35224322  1.39510672]\n",
      " [-0.94173752  0.34466765 -0.81098546  1.17313441]\n",
      " [-1.56078292  2.00414064 -2.44319184  1.57462736]\n",
      " [-0.37423394 -1.96227111  1.28794249  1.00774663]\n",
      " [ 2.99937932 -3.54470385  4.45987703 -3.10510194]\n",
      " [-0.39367135 -2.25590135  1.5018892   1.10954566]\n",
      " [-1.61282263  2.3201813  -2.71581559  1.5628356 ]\n",
      " [-0.03842477  0.87704301 -0.6950374  -0.17476425]\n",
      " [-1.4878085  -0.17682657 -0.7279276   2.0394753 ]\n",
      " [ 1.07383696 -1.24328345  1.57694142 -1.11834113]\n",
      " [ 0.36651765 -0.69201386  0.74354455 -0.31265667]\n",
      " [ 0.48129813  0.45739828 -0.07148898 -0.76300142]\n",
      " [-1.52924082  1.86523148 -2.3183339   1.56819243]\n",
      " [-0.47475021 -1.8065526   1.11015659  1.1022795 ]\n",
      " [-0.66149549  0.22223247 -0.55441205  0.82915914]\n",
      " [ 0.07777583  1.02661525 -0.74232078 -0.3690747 ]\n",
      " [-2.18500287  1.74752241 -2.60866641  2.4773657 ]\n",
      " [ 1.15465891 -1.47258772  1.79974008 -1.16749747]\n",
      " [ 1.45702789 -1.97341682  2.35940309 -1.44350814]\n",
      " [ 0.23513908 -0.73985415  0.70398489 -0.12425044]\n",
      " [-1.60111902  1.90725835 -2.3922905   1.65367657]\n",
      " [-0.58601102 -1.23698892  0.6086949   1.10444819]\n",
      " [ 1.59637963 -1.35917914  1.96913621 -1.78871796]\n",
      " [-0.32686266 -2.40904337  1.65813406  1.05952069]\n",
      " [-0.22779068 -3.09357109  2.24070406  1.10334489]\n",
      " [-0.76313822 -0.08168683 -0.38028721  1.0437784 ]\n",
      " [ 1.31675146  1.36787605 -0.28495121 -2.11750197]\n",
      " [-0.6047955  -1.62040065  0.89188736  1.22853393]\n",
      " [-0.52912564 -1.24588137  0.64853357  1.03050842]\n",
      " [-0.05925943  0.97302982 -0.78075693 -0.17160564]\n",
      " [ 1.24199733  1.46235809 -0.40081275 -2.04169603]\n",
      " [-1.63920186  2.01486816 -2.49693673  1.67695151]\n",
      " [-0.4498576  -0.42965159  0.0684548   0.71370894]\n",
      " [ 2.58658198 -1.77604422  2.86363085 -3.00817617]\n",
      " [ 1.64655765  1.51636878 -0.2074244  -2.59779333]\n",
      " [ 1.15769615  1.30402365 -0.32829309 -1.88787451]\n",
      " [ 0.17365891  0.81853345 -0.52705892 -0.44388987]\n",
      " [-2.31556569  1.88021519 -2.78623025  2.61810503]\n",
      " [ 0.64606313  0.88895462 -0.30687986 -1.09514042]\n",
      " [-0.45474525  0.26617054 -0.46811156  0.54075172]\n",
      " [-0.78493962 -0.41503258 -0.13724889  1.15899125]\n",
      " [-0.79025504 -0.73423667  0.10451098  1.24846248]]\n"
     ]
    }
   ],
   "source": [
    "print(X_tr)"
   ]
  },
  {
   "attachments": {
    "image.png": {
     "image/png": "[encoded data removed]"
    }
   },
   "cell_type": "markdown",
   "id": "1c8506a1",
   "metadata": {},
   "source": [
    "## Inititalising the Parameters\n",
    "\n",
    "\n",
    "![image.png](attachment:image.png)"
   ]
  },
  {
   "cell_type": "code",
   "execution_count": 125,
   "id": "333f664b",
   "metadata": {},
   "outputs": [
    {
     "name": "stdout",
     "output_type": "stream",
     "text": [
      "(90, 5)\n"
     ]
    }
   ],
   "source": [
    "print(shape(np.c_[np.ones((90,1)),X_tr]))"
   ]
  },
  {
   "cell_type": "code",
   "execution_count": 126,
   "id": "83e93aa8",
   "metadata": {},
   "outputs": [
    {
     "name": "stdout",
     "output_type": "stream",
     "text": [
      "[[ 1.         -0.26199289  0.63799111 -0.64143763  0.18651656]\n",
      " [ 1.          0.54679785  1.10514732 -0.5303263  -1.0178851 ]\n",
      " [ 1.         -0.52850332  0.40245234 -0.61545741  0.60443936]\n",
      " [ 1.         -0.18932766  0.68200736 -0.63302346  0.07778039]\n",
      " [ 1.          1.08049482 -0.93803248  1.34666346 -1.20601179]\n",
      " [ 1.         -1.32995306  1.23260754 -1.71740882  1.46432433]\n",
      " [ 1.          0.11017133  1.08067232 -0.76498201 -0.42643447]\n",
      " [ 1.         -1.04142236  1.3357591  -1.62906048  1.05104458]\n",
      " [ 1.         -0.65166284 -0.5701375   0.0590814   1.02039671]\n",
      " [ 1.         -1.79629181  1.8752849  -2.48104861  1.92348208]\n",
      " [ 1.         -0.98283875  0.70372207 -1.11025388  1.13558701]\n",
      " [ 1.          1.72685611 -1.56037042  2.19919161 -1.91167042]\n",
      " [ 1.         -1.04418703  0.46360059 -0.96167713  1.27974796]\n",
      " [ 1.         -0.36196171 -1.36813352  0.83933315  0.83802537]\n",
      " [ 1.         -2.58064616  1.72422919 -2.82044089  3.01358857]\n",
      " [ 1.         -0.79545355  1.1216394  -1.32205365  0.77665256]\n",
      " [ 1.          0.19923126  0.42260032 -0.20851608 -0.37601783]\n",
      " [ 1.          2.39966473  2.27042377 -0.34869863 -3.80158539]\n",
      " [ 1.          0.63383442  0.87805519 -0.30561733 -1.07594052]\n",
      " [ 1.          0.59207861  1.01334293 -0.43362575 -1.05488365]\n",
      " [ 1.         -0.90663941  1.14943797 -1.40791162  0.9184847 ]\n",
      " [ 1.         -0.29744352 -2.24760372  1.55137761  0.9784472 ]\n",
      " [ 1.          0.31626775  0.96289555 -0.55501785 -0.67224671]\n",
      " [ 1.          0.55515377 -0.59052227  0.7751848  -0.5916364 ]\n",
      " [ 1.         -1.48085719  1.90305952 -2.31926675  1.49359322]\n",
      " [ 1.         -0.17820001 -0.1846584   0.03821012  0.28644925]\n",
      " [ 1.          0.12214739  0.90187429 -0.62088401 -0.39635786]\n",
      " [ 1.         -0.66867244 -0.19157338 -0.24116852  0.9455303 ]\n",
      " [ 1.          0.61638289  1.21863449 -0.57698754 -1.14041543]\n",
      " [ 1.         -0.09399198 -0.62414334  0.42419297  0.28697726]\n",
      " [ 1.          0.8450177  -0.83657735  1.13216548 -0.91661495]\n",
      " [ 1.         -1.76482495  1.57222298 -2.23032119  1.95949591]\n",
      " [ 1.         -0.64287131 -0.33059702 -0.11955498  0.94681856]\n",
      " [ 1.          1.15509604 -0.55297307  1.09460461 -1.40532433]\n",
      " [ 1.          0.65605028 -1.03692183  1.17615792 -0.6116893 ]\n",
      " [ 1.         -0.20783374  0.25148615 -0.31353415  0.21364629]\n",
      " [ 1.          0.93004794 -1.6683759   1.81954918 -0.81598023]\n",
      " [ 1.          0.58984295 -1.43548676  1.44344818 -0.42014154]\n",
      " [ 1.         -0.48224579  0.91231606 -0.97969864  0.41091421]\n",
      " [ 1.          0.90764906  1.50192163 -0.62522422 -1.60383221]\n",
      " [ 1.         -0.38493214  0.34626118 -0.48902366  0.42653135]\n",
      " [ 1.          1.14496212 -1.7086571   1.97518853 -1.09360162]\n",
      " [ 1.          0.66119135  1.04144101 -0.41506354 -1.15475245]\n",
      " [ 1.         -0.93832197  0.5366822  -0.95628749  1.11902145]\n",
      " [ 1.         -1.20975559  1.52281085 -1.8702432   1.22837773]\n",
      " [ 1.          1.32261257 -1.43295206  1.86682222 -1.40280248]\n",
      " [ 1.         -0.52067149 -1.40403911  0.77475527  1.05998009]\n",
      " [ 1.         -0.48540128 -1.29700498  0.71312661  0.98510087]\n",
      " [ 1.         -1.20487844  0.85118574 -1.35224322  1.39510672]\n",
      " [ 1.         -0.94173752  0.34466765 -0.81098546  1.17313441]\n",
      " [ 1.         -1.56078292  2.00414064 -2.44319184  1.57462736]\n",
      " [ 1.         -0.37423394 -1.96227111  1.28794249  1.00774663]\n",
      " [ 1.          2.99937932 -3.54470385  4.45987703 -3.10510194]\n",
      " [ 1.         -0.39367135 -2.25590135  1.5018892   1.10954566]\n",
      " [ 1.         -1.61282263  2.3201813  -2.71581559  1.5628356 ]\n",
      " [ 1.         -0.03842477  0.87704301 -0.6950374  -0.17476425]\n",
      " [ 1.         -1.4878085  -0.17682657 -0.7279276   2.0394753 ]\n",
      " [ 1.          1.07383696 -1.24328345  1.57694142 -1.11834113]\n",
      " [ 1.          0.36651765 -0.69201386  0.74354455 -0.31265667]\n",
      " [ 1.          0.48129813  0.45739828 -0.07148898 -0.76300142]\n",
      " [ 1.         -1.52924082  1.86523148 -2.3183339   1.56819243]\n",
      " [ 1.         -0.47475021 -1.8065526   1.11015659  1.1022795 ]\n",
      " [ 1.         -0.66149549  0.22223247 -0.55441205  0.82915914]\n",
      " [ 1.          0.07777583  1.02661525 -0.74232078 -0.3690747 ]\n",
      " [ 1.         -2.18500287  1.74752241 -2.60866641  2.4773657 ]\n",
      " [ 1.          1.15465891 -1.47258772  1.79974008 -1.16749747]\n",
      " [ 1.          1.45702789 -1.97341682  2.35940309 -1.44350814]\n",
      " [ 1.          0.23513908 -0.73985415  0.70398489 -0.12425044]\n",
      " [ 1.         -1.60111902  1.90725835 -2.3922905   1.65367657]\n",
      " [ 1.         -0.58601102 -1.23698892  0.6086949   1.10444819]\n",
      " [ 1.          1.59637963 -1.35917914  1.96913621 -1.78871796]\n",
      " [ 1.         -0.32686266 -2.40904337  1.65813406  1.05952069]\n",
      " [ 1.         -0.22779068 -3.09357109  2.24070406  1.10334489]\n",
      " [ 1.         -0.76313822 -0.08168683 -0.38028721  1.0437784 ]\n",
      " [ 1.          1.31675146  1.36787605 -0.28495121 -2.11750197]\n",
      " [ 1.         -0.6047955  -1.62040065  0.89188736  1.22853393]\n",
      " [ 1.         -0.52912564 -1.24588137  0.64853357  1.03050842]\n",
      " [ 1.         -0.05925943  0.97302982 -0.78075693 -0.17160564]\n",
      " [ 1.          1.24199733  1.46235809 -0.40081275 -2.04169603]\n",
      " [ 1.         -1.63920186  2.01486816 -2.49693673  1.67695151]\n",
      " [ 1.         -0.4498576  -0.42965159  0.0684548   0.71370894]\n",
      " [ 1.          2.58658198 -1.77604422  2.86363085 -3.00817617]\n",
      " [ 1.          1.64655765  1.51636878 -0.2074244  -2.59779333]\n",
      " [ 1.          1.15769615  1.30402365 -0.32829309 -1.88787451]\n",
      " [ 1.          0.17365891  0.81853345 -0.52705892 -0.44388987]\n",
      " [ 1.         -2.31556569  1.88021519 -2.78623025  2.61810503]\n",
      " [ 1.          0.64606313  0.88895462 -0.30687986 -1.09514042]\n",
      " [ 1.         -0.45474525  0.26617054 -0.46811156  0.54075172]\n",
      " [ 1.         -0.78493962 -0.41503258 -0.13724889  1.15899125]\n",
      " [ 1.         -0.79025504 -0.73423667  0.10451098  1.24846248]]\n"
     ]
    }
   ],
   "source": [
    "print(np.c_[np.ones((90,1)),X_tr])"
   ]
  },
  {
   "cell_type": "code",
   "execution_count": 127,
   "id": "1badc11d",
   "metadata": {},
   "outputs": [],
   "source": [
    "def initialize(self, X):\n",
    "    weights = np.zeros((shape(X)[1]+1,1))\n",
    "    X  = np.c_[np.ones((shape(X)[0],1)),X]\n",
    "    return weights, X"
   ]
  },
  {
   "cell_type": "code",
   "execution_count": 128,
   "id": "6e5315bc",
   "metadata": {},
   "outputs": [],
   "source": [
    "# w, xdemo = initialize(X_tr)"
   ]
  },
  {
   "cell_type": "code",
   "execution_count": 129,
   "id": "32a67203",
   "metadata": {},
   "outputs": [],
   "source": [
    "# print(w)"
   ]
  },
  {
   "cell_type": "code",
   "execution_count": 130,
   "id": "ae82d0a3",
   "metadata": {},
   "outputs": [],
   "source": [
    "# print(xdemo)"
   ]
  },
  {
   "cell_type": "code",
   "execution_count": 131,
   "id": "60a45430",
   "metadata": {},
   "outputs": [],
   "source": [
    "cl = np.zeros(100,)"
   ]
  },
  {
   "cell_type": "code",
   "execution_count": null,
   "id": "60572b9c",
   "metadata": {},
   "outputs": [],
   "source": []
  },
  {
   "cell_type": "code",
   "execution_count": 132,
   "id": "851ba17a",
   "metadata": {},
   "outputs": [
    {
     "name": "stdout",
     "output_type": "stream",
     "text": [
      "[0. 0. 0. 0. 0. 0. 0. 0. 0. 0. 0. 0. 0. 0. 0. 0. 0. 0. 0. 0. 0. 0. 0. 0.\n",
      " 0. 0. 0. 0. 0. 0. 0. 0. 0. 0. 0. 0. 0. 0. 0. 0. 0. 0. 0. 0. 0. 0. 0. 0.\n",
      " 0. 0. 0. 0. 0. 0. 0. 0. 0. 0. 0. 0. 0. 0. 0. 0. 0. 0. 0. 0. 0. 0. 0. 0.\n",
      " 0. 0. 0. 0. 0. 0. 0. 0. 0. 0. 0. 0. 0. 0. 0. 0. 0. 0. 0. 0. 0. 0. 0. 0.\n",
      " 0. 0. 0. 0.]\n"
     ]
    }
   ],
   "source": [
    "print(cl)"
   ]
  },
  {
   "cell_type": "code",
   "execution_count": 133,
   "id": "04700047",
   "metadata": {},
   "outputs": [
    {
     "data": {
      "text/plain": [
       "range(0, 100)"
      ]
     },
     "execution_count": 133,
     "metadata": {},
     "output_type": "execute_result"
    }
   ],
   "source": [
    "range(100)"
   ]
  },
  {
   "cell_type": "code",
   "execution_count": 134,
   "id": "f3b5b75b",
   "metadata": {},
   "outputs": [],
   "source": [
    "#Activation Function\n",
    "\n",
    "def sigmoid(self, z):\n",
    "    sig = 1/(1+e**(-z))\n",
    "    return sig"
   ]
  },
  {
   "attachments": {
    "image.png": {
     "image/png": "[encoded data removed]"
    }
   },
   "cell_type": "markdown",
   "id": "62af20e7",
   "metadata": {},
   "source": [
    "## Cost Function\n",
    "\n",
    "![image.png](attachment:image.png)"
   ]
  },
  {
   "cell_type": "code",
   "execution_count": 135,
   "id": "36113fb8",
   "metadata": {},
   "outputs": [],
   "source": [
    "def cost(theta):\n",
    "    z = dot(X,theta)\n",
    "    cost0 = y.T.dot(log(self.sigmoid(z)))\n",
    "    cost1 = (1-y).T.dot(log(1-self.sigmoid(z)))\n",
    "    cost = -((cost1 + cost0))/len(y) \n",
    "    return cost"
   ]
  },
  {
   "attachments": {
    "image.png": {
     "image/png": "[encoded data removed]"
    }
   },
   "cell_type": "markdown",
   "id": "f4565a9f",
   "metadata": {},
   "source": [
    "## Gradient Descent\n",
    "\n",
    "![image.png](attachment:image.png)"
   ]
  },
  {
   "cell_type": "code",
   "execution_count": 136,
   "id": "1a662c6c",
   "metadata": {},
   "outputs": [],
   "source": [
    "def fit(self,X,y,alpha=0.001,iter=100):\n",
    "    params,X = self.initialize(X)\n",
    "    cost_list = np.zeros(iter,)\n",
    "    for i in range(iter):\n",
    "        params = params - alpha * dot(X.T, self.sigmoid(dot(X,params)) - np.reshape(y,(len(y),1)))\n",
    "        cost_list[i] = cost(params)\n",
    "    self.params = params\n",
    "    return cost_list"
   ]
  },
  {
   "cell_type": "markdown",
   "id": "a9d53150",
   "metadata": {},
   "source": [
    "## Prediction"
   ]
  },
  {
   "cell_type": "code",
   "execution_count": 137,
   "id": "29a92a8d",
   "metadata": {},
   "outputs": [],
   "source": [
    "def predict(self,X):\n",
    "    z = dot(self.initialize(X)[1],self.weights)\n",
    "    lis = []\n",
    "    for i in self.sigmoid(z):\n",
    "        if i>0.5:\n",
    "            lis.append(1)\n",
    "        else:\n",
    "            lis.append(0)\n",
    "    return lis"
   ]
  },
  {
   "cell_type": "markdown",
   "id": "cc6e9ac4",
   "metadata": {},
   "source": [
    "## F1 Score"
   ]
  },
  {
   "cell_type": "code",
   "execution_count": 138,
   "id": "66c96a9f",
   "metadata": {},
   "outputs": [],
   "source": [
    "def F1_score(y,y_hat):\n",
    "    tp,tn,fp,fn = 0,0,0,0\n",
    "    for i in range(len(y)):\n",
    "        if y[i] == 1 and y_hat[i] == 1:\n",
    "            tp += 1\n",
    "        elif y[i] == 1 and y_hat[i] == 0:\n",
    "            fn += 1\n",
    "        elif y[i] == 0 and y_hat[i] == 1:\n",
    "            fp += 1\n",
    "        elif y[i] == 0 and y_hat[i] == 0:\n",
    "            tn += 1\n",
    "    precision = tp/(tp+fp)\n",
    "    recall = tp/(tp+fn)\n",
    "    f1_score = 2*precision*recall/(precision+recall)\n",
    "    return f1_score"
   ]
  },
  {
   "cell_type": "markdown",
   "id": "37c0a987",
   "metadata": {},
   "source": [
    "## Putting Everything together\n"
   ]
  },
  {
   "cell_type": "code",
   "execution_count": 139,
   "id": "4beb59df",
   "metadata": {},
   "outputs": [
    {
     "name": "stdout",
     "output_type": "stream",
     "text": [
      "0.8958333333333334\n",
      "1.0\n"
     ]
    }
   ],
   "source": [
    "from numpy import log,dot,exp,shape\n",
    "class LogidticRegression:\n",
    "    def sigmoid(self,z):\n",
    "        sig = 1/(1+exp(-z))\n",
    "        return sig\n",
    "    def initialize(self,X):\n",
    "        weights = np.zeros((shape(X)[1]+1,1))\n",
    "        X = np.c_[np.ones((shape(X)[0],1)),X]\n",
    "        return weights,X\n",
    "    def fit(self,X,y,alpha=0.001,iter=400):\n",
    "        weights,X = self.initialize(X)\n",
    "        def cost(theta):\n",
    "            z = dot(X,theta)\n",
    "            cost0 = y.T.dot(log(self.sigmoid(z)))\n",
    "            cost1 = (1-y).T.dot(log(1-self.sigmoid(z)))\n",
    "            cost = -((cost1 + cost0))/len(y)\n",
    "            return cost\n",
    "        cost_list = np.zeros(iter,)\n",
    "        for i in range(iter):\n",
    "            weights = weights - alpha*dot(X.T,self.sigmoid(dot(X,weights))-np.reshape(y,(len(y),1)))\n",
    "            cost_list[i] = cost(weights)\n",
    "        self.weights = weights\n",
    "        return cost_list\n",
    "    def predict(self,X):\n",
    "        z = dot(self.initialize(X)[1],self.weights)\n",
    "        lis = []\n",
    "        for i in self.sigmoid(z):\n",
    "            if i>0.5:\n",
    "                lis.append(1)\n",
    "            else:\n",
    "                lis.append(0)\n",
    "        return lis\n",
    "standardize(X_tr)\n",
    "standardize(X_te)\n",
    "obj1 = LogidticRegression()\n",
    "model= obj1.fit(X_tr,y_tr)\n",
    "y_pred = obj1.predict(X_te)\n",
    "y_train = obj1.predict(X_tr)\n",
    "#Let's see the f1-score for training and testing data\n",
    "f1_score_tr = F1_score(y_tr,y_train)\n",
    "f1_score_te = F1_score(y_te,y_pred)\n",
    "print(f1_score_tr)\n",
    "print(f1_score_te)"
   ]
  },
  {
   "cell_type": "markdown",
   "id": "ea75ffdf",
   "metadata": {},
   "source": [
    "## Using Logistic Regression from Sklearn"
   ]
  },
  {
   "cell_type": "code",
   "execution_count": 140,
   "id": "cfcaa2ff",
   "metadata": {},
   "outputs": [
    {
     "name": "stdout",
     "output_type": "stream",
     "text": [
      "1.0\n"
     ]
    }
   ],
   "source": [
    "from sklearn.linear_model import LogisticRegression\n",
    "from sklearn.metrics import f1_score\n",
    "model = LogisticRegression().fit(X_tr,y_tr)\n",
    "y_pred = model.predict(X_te)\n",
    "print(f1_score(y_te,y_pred))"
   ]
  },
  {
   "cell_type": "code",
   "execution_count": null,
   "id": "9852cadf",
   "metadata": {},
   "outputs": [],
   "source": []
  }
 ],
 "metadata": {
  "kernelspec": {
   "display_name": "Python 3 (ipykernel)",
   "language": "python",
   "name": "python3"
  },
  "language_info": {
   "codemirror_mode": {
    "name": "ipython",
    "version": 3
   },
   "file_extension": ".py",
   "mimetype": "text/x-python",
   "name": "python",
   "nbconvert_exporter": "python",
   "pygments_lexer": "ipython3",
   "version": "3.9.12"
  }
 },
 "nbformat": 4,
 "nbformat_minor": 5
}
