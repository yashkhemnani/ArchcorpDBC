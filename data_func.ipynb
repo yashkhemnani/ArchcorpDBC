{
 "cells": [
  {
   "cell_type": "code",
   "execution_count": 1,
   "id": "f76d26c1",
   "metadata": {},
   "outputs": [],
   "source": [
    "from io import StringIO\n",
    "\n",
    "from pdfminer.converter import TextConverter\n",
    "from pdfminer.layout import LAParams\n",
    "from pdfminer.pdfdocument import PDFDocument\n",
    "from pdfminer.pdfinterp import PDFResourceManager, PDFPageInterpreter\n",
    "from pdfminer.pdfpage import PDFPage\n",
    "from pdfminer.pdfparser import PDFParser\n",
    "\n",
    "def convert_pdf_to_string(file_path):\n",
    "\n",
    "\toutput_string = StringIO()\n",
    "\twith open(file_path, 'rb') as in_file:\n",
    "\t    parser = PDFParser(in_file)\n",
    "\t    doc = PDFDocument(parser)\n",
    "\t    rsrcmgr = PDFResourceManager()\n",
    "\t    device = TextConverter(rsrcmgr, output_string, laparams=LAParams())\n",
    "\t    interpreter = PDFPageInterpreter(rsrcmgr, device)\n",
    "\t    for page in PDFPage.create_pages(doc):\n",
    "\t        interpreter.process_page(page)\n",
    "\n",
    "\treturn(output_string.getvalue())\n",
    "\n",
    "                \n",
    "def convert_title_to_filename(title):\n",
    "    filename = title.lower()\n",
    "    filename = filename.replace(' ', '_')\n",
    "    return filename\n",
    "\n",
    "\n",
    "def split_to_title_and_pagenum(table_of_contents_entry):\n",
    "    title_and_pagenum = table_of_contents_entry.strip()\n",
    "    \n",
    "    title = None\n",
    "    pagenum = None\n",
    "    \n",
    "    if len(title_and_pagenum) > 0:\n",
    "        if title_and_pagenum[-1].isdigit():\n",
    "            i = -2\n",
    "            while title_and_pagenum[i].isdigit():\n",
    "                i -= 1\n",
    "\n",
    "            title = title_and_pagenum[:i].strip()\n",
    "            pagenum = int(title_and_pagenum[i:].strip())\n",
    "        \n",
    "    return title, pagenum"
   ]
  },
  {
   "cell_type": "code",
   "execution_count": 3,
   "id": "9245d423",
   "metadata": {},
   "outputs": [
    {
     "name": "stdout",
     "output_type": "stream",
     "text": [
      "3\n",
      "2\n",
      "String 23\n"
     ]
    }
   ],
   "source": [
    "List11 = \"String 23\"\n",
    "t = None\n",
    "p = None\n",
    "\n",
    "print(List11[-1])\n",
    "print(List11[-2])\n",
    "if List11[-1].isdigit():\n",
    "    i = -2\n",
    "    while List11[i].isdigit():\n",
    "        i -= 1\n",
    "        \n",
    "    t = List11[:i].strip()\n",
    "    p = int(List11[i:].strip())\n",
    "    \n",
    "print(t,p)"
   ]
  },
  {
   "cell_type": "code",
   "execution_count": null,
   "id": "b79fa318",
   "metadata": {},
   "outputs": [],
   "source": []
  }
 ],
 "metadata": {
  "kernelspec": {
   "display_name": "Python 3 (ipykernel)",
   "language": "python",
   "name": "python3"
  },
  "language_info": {
   "codemirror_mode": {
    "name": "ipython",
    "version": 3
   },
   "file_extension": ".py",
   "mimetype": "text/x-python",
   "name": "python",
   "nbconvert_exporter": "python",
   "pygments_lexer": "ipython3",
   "version": "3.9.12"
  }
 },
 "nbformat": 4,
 "nbformat_minor": 5
}
