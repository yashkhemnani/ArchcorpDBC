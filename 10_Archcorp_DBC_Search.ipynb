{
 "cells": [
  {
   "cell_type": "markdown",
   "id": "04e4906e",
   "metadata": {},
   "source": [
    "# Importing Libraries"
   ]
  },
  {
   "cell_type": "code",
   "execution_count": 1,
   "id": "80f3b8b7",
   "metadata": {},
   "outputs": [],
   "source": [
    "# Importing Libraries\n",
    "\n",
    "import pandas as pd\n",
    "import numpy as np\n",
    "import seaborn as sns\n",
    "import matplotlib as mpl\n",
    "import matplotlib.pyplot as plt\n",
    "from datetime import datetime\n",
    "\n",
    "import re\n",
    "from nltk.corpus import stopwords\n",
    "\n",
    "import json"
   ]
  },
  {
   "cell_type": "markdown",
   "id": "1cc928f2",
   "metadata": {},
   "source": [
    "## Loading Cleaned Data Headings and Sentences Separated"
   ]
  },
  {
   "cell_type": "code",
   "execution_count": 2,
   "id": "80980c6f",
   "metadata": {},
   "outputs": [
    {
     "data": {
      "text/html": [
       "<div>\n",
       "<style scoped>\n",
       "    .dataframe tbody tr th:only-of-type {\n",
       "        vertical-align: middle;\n",
       "    }\n",
       "\n",
       "    .dataframe tbody tr th {\n",
       "        vertical-align: top;\n",
       "    }\n",
       "\n",
       "    .dataframe thead th {\n",
       "        text-align: right;\n",
       "    }\n",
       "</style>\n",
       "<table border=\"1\" class=\"dataframe\">\n",
       "  <thead>\n",
       "    <tr style=\"text-align: right;\">\n",
       "      <th></th>\n",
       "      <th>headings</th>\n",
       "      <th>Description</th>\n",
       "    </tr>\n",
       "  </thead>\n",
       "  <tbody>\n",
       "    <tr>\n",
       "      <th>0</th>\n",
       "      <td>scope</td>\n",
       "      <td>dubai building code 2021 edition contents part...</td>\n",
       "    </tr>\n",
       "    <tr>\n",
       "      <th>1</th>\n",
       "      <td>NaN</td>\n",
       "      <td>content of dbc based on following inputs 1) ex...</td>\n",
       "    </tr>\n",
       "    <tr>\n",
       "      <th>2</th>\n",
       "      <td>standards</td>\n",
       "      <td>dbc arranged under themes to integrate all rel...</td>\n",
       "    </tr>\n",
       "    <tr>\n",
       "      <th>3</th>\n",
       "      <td>NaN</td>\n",
       "      <td>2 dubai building code part general a.2 definit...</td>\n",
       "    </tr>\n",
       "    <tr>\n",
       "      <th>4</th>\n",
       "      <td>built-up area</td>\n",
       "      <td>a.2.1 terms addition increase to buildings gro...</td>\n",
       "    </tr>\n",
       "  </tbody>\n",
       "</table>\n",
       "</div>"
      ],
      "text/plain": [
       "        headings                                        Description\n",
       "0          scope  dubai building code 2021 edition contents part...\n",
       "1            NaN  content of dbc based on following inputs 1) ex...\n",
       "2      standards  dbc arranged under themes to integrate all rel...\n",
       "3            NaN  2 dubai building code part general a.2 definit...\n",
       "4  built-up area  a.2.1 terms addition increase to buildings gro..."
      ]
     },
     "execution_count": 2,
     "metadata": {},
     "output_type": "execute_result"
    }
   ],
   "source": [
    "#File Input - Cleaned heading and Sentence data with separate sentences from df_hns_s.csv\n",
    "df_hns_s = pd.read_csv('df_hns_s.csv',  index_col = [0])\n",
    "df_hns_s.head()\n"
   ]
  },
  {
   "cell_type": "markdown",
   "id": "06929728",
   "metadata": {},
   "source": [
    "### Basic Exploration and Visualisation"
   ]
  },
  {
   "cell_type": "code",
   "execution_count": 3,
   "id": "821b5aa4",
   "metadata": {},
   "outputs": [
    {
     "data": {
      "text/html": [
       "<div>\n",
       "<style scoped>\n",
       "    .dataframe tbody tr th:only-of-type {\n",
       "        vertical-align: middle;\n",
       "    }\n",
       "\n",
       "    .dataframe tbody tr th {\n",
       "        vertical-align: top;\n",
       "    }\n",
       "\n",
       "    .dataframe thead th {\n",
       "        text-align: right;\n",
       "    }\n",
       "</style>\n",
       "<table border=\"1\" class=\"dataframe\">\n",
       "  <thead>\n",
       "    <tr style=\"text-align: right;\">\n",
       "      <th></th>\n",
       "      <th>headings</th>\n",
       "      <th>Description</th>\n",
       "    </tr>\n",
       "  </thead>\n",
       "  <tbody>\n",
       "    <tr>\n",
       "      <th>0</th>\n",
       "      <td>scope</td>\n",
       "      <td>dubai building code 2021 edition contents part...</td>\n",
       "    </tr>\n",
       "    <tr>\n",
       "      <th>1</th>\n",
       "      <td>NaN</td>\n",
       "      <td>content of dbc based on following inputs 1) ex...</td>\n",
       "    </tr>\n",
       "    <tr>\n",
       "      <th>2</th>\n",
       "      <td>standards</td>\n",
       "      <td>dbc arranged under themes to integrate all rel...</td>\n",
       "    </tr>\n",
       "    <tr>\n",
       "      <th>3</th>\n",
       "      <td>NaN</td>\n",
       "      <td>2 dubai building code part general a.2 definit...</td>\n",
       "    </tr>\n",
       "    <tr>\n",
       "      <th>4</th>\n",
       "      <td>built-up area</td>\n",
       "      <td>a.2.1 terms addition increase to buildings gro...</td>\n",
       "    </tr>\n",
       "    <tr>\n",
       "      <th>5</th>\n",
       "      <td>commissioning</td>\n",
       "      <td>architect physical or legal person in charge o...</td>\n",
       "    </tr>\n",
       "    <tr>\n",
       "      <th>6</th>\n",
       "      <td>built-up area</td>\n",
       "      <td>built-up area total constructed area in buildi...</td>\n",
       "    </tr>\n",
       "    <tr>\n",
       "      <th>7</th>\n",
       "      <td>occupancy</td>\n",
       "      <td>change of use alteration to use of building to...</td>\n",
       "    </tr>\n",
       "    <tr>\n",
       "      <th>8</th>\n",
       "      <td>NaN</td>\n",
       "      <td>civil engineer physical or legal person in cha...</td>\n",
       "    </tr>\n",
       "    <tr>\n",
       "      <th>9</th>\n",
       "      <td>NaN</td>\n",
       "      <td>consultant physical or legal person in charge ...</td>\n",
       "    </tr>\n",
       "    <tr>\n",
       "      <th>10</th>\n",
       "      <td>NaN</td>\n",
       "      <td>contractor physical or legal person in charge ...</td>\n",
       "    </tr>\n",
       "    <tr>\n",
       "      <th>11</th>\n",
       "      <td>NaN</td>\n",
       "      <td>development general term for construction, ere...</td>\n",
       "    </tr>\n",
       "    <tr>\n",
       "      <th>12</th>\n",
       "      <td>commissioning</td>\n",
       "      <td>existing building building that completed, inc...</td>\n",
       "    </tr>\n",
       "    <tr>\n",
       "      <th>13</th>\n",
       "      <td>gross floor area (gfa)</td>\n",
       "      <td>floor area ratio (far) ratio of gross floor ar...</td>\n",
       "    </tr>\n",
       "    <tr>\n",
       "      <th>14</th>\n",
       "      <td>atria</td>\n",
       "      <td>gross area (ga) floor area within inside perim...</td>\n",
       "    </tr>\n",
       "    <tr>\n",
       "      <th>15</th>\n",
       "      <td>courtyards</td>\n",
       "      <td>gross area (ga) floor area within inside perim...</td>\n",
       "    </tr>\n",
       "    <tr>\n",
       "      <th>16</th>\n",
       "      <td>gross floor area (gfa)</td>\n",
       "      <td>gross area (ga) floor area within inside perim...</td>\n",
       "    </tr>\n",
       "    <tr>\n",
       "      <th>17</th>\n",
       "      <td>occupancy</td>\n",
       "      <td>gross area (ga) floor area within inside perim...</td>\n",
       "    </tr>\n",
       "    <tr>\n",
       "      <th>18</th>\n",
       "      <td>shafts</td>\n",
       "      <td>gross area (ga) floor area within inside perim...</td>\n",
       "    </tr>\n",
       "    <tr>\n",
       "      <th>19</th>\n",
       "      <td>stairways</td>\n",
       "      <td>gross area (ga) floor area within inside perim...</td>\n",
       "    </tr>\n",
       "  </tbody>\n",
       "</table>\n",
       "</div>"
      ],
      "text/plain": [
       "                  headings                                        Description\n",
       "0                    scope  dubai building code 2021 edition contents part...\n",
       "1                      NaN  content of dbc based on following inputs 1) ex...\n",
       "2                standards  dbc arranged under themes to integrate all rel...\n",
       "3                      NaN  2 dubai building code part general a.2 definit...\n",
       "4            built-up area  a.2.1 terms addition increase to buildings gro...\n",
       "5            commissioning  architect physical or legal person in charge o...\n",
       "6            built-up area  built-up area total constructed area in buildi...\n",
       "7                occupancy  change of use alteration to use of building to...\n",
       "8                      NaN  civil engineer physical or legal person in cha...\n",
       "9                      NaN  consultant physical or legal person in charge ...\n",
       "10                     NaN  contractor physical or legal person in charge ...\n",
       "11                     NaN  development general term for construction, ere...\n",
       "12           commissioning  existing building building that completed, inc...\n",
       "13  gross floor area (gfa)  floor area ratio (far) ratio of gross floor ar...\n",
       "14                   atria  gross area (ga) floor area within inside perim...\n",
       "15              courtyards  gross area (ga) floor area within inside perim...\n",
       "16  gross floor area (gfa)  gross area (ga) floor area within inside perim...\n",
       "17               occupancy  gross area (ga) floor area within inside perim...\n",
       "18                  shafts  gross area (ga) floor area within inside perim...\n",
       "19               stairways  gross area (ga) floor area within inside perim..."
      ]
     },
     "execution_count": 3,
     "metadata": {},
     "output_type": "execute_result"
    }
   ],
   "source": [
    "df_hns_s.head(20)"
   ]
  },
  {
   "cell_type": "code",
   "execution_count": 4,
   "id": "c3f0ed8a",
   "metadata": {},
   "outputs": [
    {
     "data": {
      "text/plain": [
       "headings                                                   scope\n",
       "Description    dubai building code 2021 edition contents part...\n",
       "Name: 0, dtype: object"
      ]
     },
     "execution_count": 4,
     "metadata": {},
     "output_type": "execute_result"
    }
   ],
   "source": [
    "df_hns_s.iloc[0]\n"
   ]
  },
  {
   "cell_type": "code",
   "execution_count": 5,
   "id": "15ed244e",
   "metadata": {},
   "outputs": [
    {
     "name": "stdout",
     "output_type": "stream",
     "text": [
      "<class 'pandas.core.frame.DataFrame'>\n",
      "Int64Index: 5943 entries, 0 to 5942\n",
      "Data columns (total 2 columns):\n",
      " #   Column       Non-Null Count  Dtype \n",
      "---  ------       --------------  ----- \n",
      " 0   headings     3264 non-null   object\n",
      " 1   Description  5943 non-null   object\n",
      "dtypes: object(2)\n",
      "memory usage: 139.3+ KB\n"
     ]
    }
   ],
   "source": [
    "df_hns_s.info()"
   ]
  },
  {
   "cell_type": "code",
   "execution_count": 6,
   "id": "c71e16b0",
   "metadata": {},
   "outputs": [
    {
     "data": {
      "text/html": [
       "<div>\n",
       "<style scoped>\n",
       "    .dataframe tbody tr th:only-of-type {\n",
       "        vertical-align: middle;\n",
       "    }\n",
       "\n",
       "    .dataframe tbody tr th {\n",
       "        vertical-align: top;\n",
       "    }\n",
       "\n",
       "    .dataframe thead th {\n",
       "        text-align: right;\n",
       "    }\n",
       "</style>\n",
       "<table border=\"1\" class=\"dataframe\">\n",
       "  <thead>\n",
       "    <tr style=\"text-align: right;\">\n",
       "      <th></th>\n",
       "      <th>headings</th>\n",
       "      <th>Description</th>\n",
       "    </tr>\n",
       "  </thead>\n",
       "  <tbody>\n",
       "    <tr>\n",
       "      <th>count</th>\n",
       "      <td>3264</td>\n",
       "      <td>5943</td>\n",
       "    </tr>\n",
       "    <tr>\n",
       "      <th>unique</th>\n",
       "      <td>596</td>\n",
       "      <td>4660</td>\n",
       "    </tr>\n",
       "    <tr>\n",
       "      <th>top</th>\n",
       "      <td>standards</td>\n",
       "      <td>f 43 dubai building code part f structure f.8 ...</td>\n",
       "    </tr>\n",
       "    <tr>\n",
       "      <th>freq</th>\n",
       "      <td>148</td>\n",
       "      <td>9</td>\n",
       "    </tr>\n",
       "  </tbody>\n",
       "</table>\n",
       "</div>"
      ],
      "text/plain": [
       "         headings                                        Description\n",
       "count        3264                                               5943\n",
       "unique        596                                               4660\n",
       "top     standards  f 43 dubai building code part f structure f.8 ...\n",
       "freq          148                                                  9"
      ]
     },
     "execution_count": 6,
     "metadata": {},
     "output_type": "execute_result"
    }
   ],
   "source": [
    "df_hns_s.describe()"
   ]
  },
  {
   "cell_type": "code",
   "execution_count": 7,
   "id": "6b5c9b14",
   "metadata": {},
   "outputs": [
    {
     "data": {
      "text/plain": [
       "2679"
      ]
     },
     "execution_count": 7,
     "metadata": {},
     "output_type": "execute_result"
    }
   ],
   "source": [
    "len(df_hns_s[df_hns_s.headings.isnull()])"
   ]
  },
  {
   "cell_type": "code",
   "execution_count": 8,
   "id": "23d83aaf",
   "metadata": {},
   "outputs": [],
   "source": [
    "df_hns_s.fillna('NULL',inplace=True)"
   ]
  },
  {
   "cell_type": "code",
   "execution_count": 9,
   "id": "a4130225",
   "metadata": {},
   "outputs": [
    {
     "name": "stdout",
     "output_type": "stream",
     "text": [
      "<class 'pandas.core.frame.DataFrame'>\n",
      "Int64Index: 5943 entries, 0 to 5942\n",
      "Data columns (total 2 columns):\n",
      " #   Column       Non-Null Count  Dtype \n",
      "---  ------       --------------  ----- \n",
      " 0   headings     5943 non-null   object\n",
      " 1   Description  5943 non-null   object\n",
      "dtypes: object(2)\n",
      "memory usage: 139.3+ KB\n"
     ]
    }
   ],
   "source": [
    "df_hns_s.info()"
   ]
  },
  {
   "cell_type": "code",
   "execution_count": 10,
   "id": "45fe9121",
   "metadata": {},
   "outputs": [
    {
     "data": {
      "text/html": [
       "<div>\n",
       "<style scoped>\n",
       "    .dataframe tbody tr th:only-of-type {\n",
       "        vertical-align: middle;\n",
       "    }\n",
       "\n",
       "    .dataframe tbody tr th {\n",
       "        vertical-align: top;\n",
       "    }\n",
       "\n",
       "    .dataframe thead th {\n",
       "        text-align: right;\n",
       "    }\n",
       "</style>\n",
       "<table border=\"1\" class=\"dataframe\">\n",
       "  <thead>\n",
       "    <tr style=\"text-align: right;\">\n",
       "      <th></th>\n",
       "      <th>headings</th>\n",
       "      <th>Description</th>\n",
       "    </tr>\n",
       "  </thead>\n",
       "  <tbody>\n",
       "    <tr>\n",
       "      <th>count</th>\n",
       "      <td>5943</td>\n",
       "      <td>5943</td>\n",
       "    </tr>\n",
       "    <tr>\n",
       "      <th>unique</th>\n",
       "      <td>597</td>\n",
       "      <td>4660</td>\n",
       "    </tr>\n",
       "    <tr>\n",
       "      <th>top</th>\n",
       "      <td>NULL</td>\n",
       "      <td>f 43 dubai building code part f structure f.8 ...</td>\n",
       "    </tr>\n",
       "    <tr>\n",
       "      <th>freq</th>\n",
       "      <td>2679</td>\n",
       "      <td>9</td>\n",
       "    </tr>\n",
       "  </tbody>\n",
       "</table>\n",
       "</div>"
      ],
      "text/plain": [
       "       headings                                        Description\n",
       "count      5943                                               5943\n",
       "unique      597                                               4660\n",
       "top        NULL  f 43 dubai building code part f structure f.8 ...\n",
       "freq       2679                                                  9"
      ]
     },
     "execution_count": 10,
     "metadata": {},
     "output_type": "execute_result"
    }
   ],
   "source": [
    "df_hns_s.describe()"
   ]
  },
  {
   "cell_type": "code",
   "execution_count": 11,
   "id": "efacb408",
   "metadata": {},
   "outputs": [
    {
     "data": {
      "text/plain": [
       "Text(0.5, 1.0, 'Null Values in given data')"
      ]
     },
     "execution_count": 11,
     "metadata": {},
     "output_type": "execute_result"
    },
    {
     "data": {
      "image/png": "[encoded data removed]",
      "text/plain": [
       "<Figure size 432x288 with 2 Axes>"
      ]
     },
     "metadata": {
      "needs_background": "light"
     },
     "output_type": "display_data"
    }
   ],
   "source": [
    "# Heatmap to check null/NaN values\n",
    "sns.heatmap(df_hns_s.isnull(),cbar=True,yticklabels=False)\n",
    "plt.title('Null Values in given data')"
   ]
  },
  {
   "cell_type": "markdown",
   "id": "6c7de44c",
   "metadata": {},
   "source": [
    "## Text Processing and Normalization"
   ]
  },
  {
   "cell_type": "code",
   "execution_count": 12,
   "id": "090a3bbd",
   "metadata": {},
   "outputs": [],
   "source": [
    "# !pip install lime"
   ]
  },
  {
   "cell_type": "code",
   "execution_count": 13,
   "id": "bc8cb392",
   "metadata": {},
   "outputs": [],
   "source": [
    "# !pip install transformers"
   ]
  },
  {
   "cell_type": "code",
   "execution_count": 14,
   "id": "8b4f84fd",
   "metadata": {},
   "outputs": [
    {
     "name": "stderr",
     "output_type": "stream",
     "text": [
      "[nltk_data] Downloading package stopwords to\n",
      "[nltk_data]     C:\\Users\\yash.hemnani\\AppData\\Roaming\\nltk_data...\n",
      "[nltk_data]   Package stopwords is already up-to-date!\n",
      "C:\\Users\\yash.hemnani\\Anaconda3\\envs\\Python38\\lib\\site-packages\\tqdm\\auto.py:22: TqdmWarning: IProgress not found. Please update jupyter and ipywidgets. See https://ipywidgets.readthedocs.io/en/stable/user_install.html\n",
      "  from .autonotebook import tqdm as notebook_tqdm\n",
      "[nltk_data] Downloading package wordnet to\n",
      "[nltk_data]     C:\\Users\\yash.hemnani\\AppData\\Roaming\\nltk_data...\n",
      "[nltk_data]   Package wordnet is already up-to-date!\n",
      "C:\\Users\\yash.hemnani\\Anaconda3\\envs\\Python38\\lib\\site-packages\\gensim\\similarities\\__init__.py:15: UserWarning: The gensim.similarities.levenshtein submodule is disabled, because the optional Levenshtein package <https://pypi.org/project/python-Levenshtein/> is unavailable. Install Levenhstein (e.g. `pip install python-Levenshtein`) to suppress this warning.\n",
      "  warnings.warn(msg)\n"
     ]
    }
   ],
   "source": [
    "#importing Libraries Required for Text Processing\n",
    "#NLTK Imports\n",
    "\n",
    "import nltk\n",
    "nltk.download(\"stopwords\")\n",
    "from nltk.corpus import stopwords\n",
    "from nltk import FreqDist\n",
    "import spacy\n",
    "from nltk.stem.porter import PorterStemmer\n",
    "from nltk.stem import WordNetLemmatizer\n",
    "nltk.download('wordnet')\n",
    "stop = stopwords.words('english')\n",
    "## for bag-of-words\n",
    "from sklearn import feature_extraction, model_selection, naive_bayes, pipeline, manifold, preprocessing\n",
    "## for explainer\n",
    "from lime import lime_text\n",
    "## for word embedding\n",
    "import gensim\n",
    "import gensim.downloader as gensim_api\n",
    "## for deep learning\n",
    "from tensorflow.keras import models, layers, preprocessing as kprocessing\n",
    "from tensorflow.keras import backend as K\n",
    "## for bert language model\n",
    "import transformers"
   ]
  },
  {
   "cell_type": "markdown",
   "id": "8e2e3bb2",
   "metadata": {},
   "source": [
    "## Vector Space and Feature Representation\n"
   ]
  },
  {
   "cell_type": "code",
   "execution_count": 15,
   "id": "472edfc3",
   "metadata": {},
   "outputs": [],
   "source": [
    "import torch\n",
    "from transformers import BertTokenizer, BertModel\n",
    "\n",
    "\n",
    "import matplotlib.pyplot as plt\n",
    "%matplotlib inline\n",
    "\n",
    "# Load pre-trained model tokenizer (vocabulary) distil-bert tokenizer\n",
    "tokenizer = transformers.AutoTokenizer.from_pretrained('distilbert-base-uncased')"
   ]
  },
  {
   "cell_type": "markdown",
   "id": "ff2bb2c8",
   "metadata": {},
   "source": [
    "# Training on Various Sentence Transformer Models"
   ]
  },
  {
   "cell_type": "code",
   "execution_count": 16,
   "id": "60b1fdb9",
   "metadata": {},
   "outputs": [],
   "source": [
    "# !pip install -U sentence-transformers"
   ]
  },
  {
   "cell_type": "code",
   "execution_count": 17,
   "id": "e284e370",
   "metadata": {},
   "outputs": [],
   "source": [
    "from tensorflow.keras.callbacks import CSVLogger\n",
    "from sentence_transformers import SentenceTransformer"
   ]
  },
  {
   "cell_type": "code",
   "execution_count": 18,
   "id": "a772cafa",
   "metadata": {},
   "outputs": [
    {
     "name": "stdout",
     "output_type": "stream",
     "text": [
      "1.12.0+cpu\n"
     ]
    }
   ],
   "source": [
    "import torch\n",
    "print(torch.__version__)"
   ]
  },
  {
   "cell_type": "markdown",
   "id": "ab31fd35",
   "metadata": {},
   "source": [
    "### Loadiing the Distil BERT model"
   ]
  },
  {
   "cell_type": "code",
   "execution_count": 19,
   "id": "24dce155",
   "metadata": {},
   "outputs": [
    {
     "name": "stderr",
     "output_type": "stream",
     "text": [
      "No sentence-transformers model found with name C:\\Users\\yash.hemnani/.cache\\torch\\sentence_transformers\\distilbert-base-uncased. Creating a new one with MEAN pooling.\n",
      "Some weights of the model checkpoint at C:\\Users\\yash.hemnani/.cache\\torch\\sentence_transformers\\distilbert-base-uncased were not used when initializing DistilBertModel: ['vocab_transform.bias', 'vocab_transform.weight', 'vocab_projector.bias', 'vocab_layer_norm.bias', 'vocab_layer_norm.weight', 'vocab_projector.weight']\n",
      "- This IS expected if you are initializing DistilBertModel from the checkpoint of a model trained on another task or with another architecture (e.g. initializing a BertForSequenceClassification model from a BertForPreTraining model).\n",
      "- This IS NOT expected if you are initializing DistilBertModel from the checkpoint of a model that you expect to be exactly identical (initializing a BertForSequenceClassification model from a BertForSequenceClassification model).\n"
     ]
    }
   ],
   "source": [
    "#load the distilbert model \n",
    "distilbert = SentenceTransformer('distilbert-base-uncased')\n",
    "#generate the embeddings for the DBC SENTENCES\n",
    "embeddings = distilbert.encode(df_hns_s['Description'], convert_to_tensor=True)"
   ]
  },
  {
   "cell_type": "code",
   "execution_count": 20,
   "id": "2ae2dd27",
   "metadata": {},
   "outputs": [
    {
     "data": {
      "text/html": [
       "<div>\n",
       "<style scoped>\n",
       "    .dataframe tbody tr th:only-of-type {\n",
       "        vertical-align: middle;\n",
       "    }\n",
       "\n",
       "    .dataframe tbody tr th {\n",
       "        vertical-align: top;\n",
       "    }\n",
       "\n",
       "    .dataframe thead th {\n",
       "        text-align: right;\n",
       "    }\n",
       "</style>\n",
       "<table border=\"1\" class=\"dataframe\">\n",
       "  <thead>\n",
       "    <tr style=\"text-align: right;\">\n",
       "      <th></th>\n",
       "      <th>headings</th>\n",
       "      <th>Description</th>\n",
       "      <th>distilbert</th>\n",
       "    </tr>\n",
       "  </thead>\n",
       "  <tbody>\n",
       "    <tr>\n",
       "      <th>0</th>\n",
       "      <td>scope</td>\n",
       "      <td>dubai building code 2021 edition contents part...</td>\n",
       "      <td>[-0.05723663419485092, 0.32458847761154175, 0....</td>\n",
       "    </tr>\n",
       "  </tbody>\n",
       "</table>\n",
       "</div>"
      ],
      "text/plain": [
       "  headings                                        Description  \\\n",
       "0    scope  dubai building code 2021 edition contents part...   \n",
       "\n",
       "                                          distilbert  \n",
       "0  [-0.05723663419485092, 0.32458847761154175, 0....  "
      ]
     },
     "execution_count": 20,
     "metadata": {},
     "output_type": "execute_result"
    }
   ],
   "source": [
    "#add embeddings to dataframe\n",
    "df_hns_s['distilbert'] = np.array(embeddings.cpu()).tolist()\n",
    "#show the top row\n",
    "df_hns_s.head(1)"
   ]
  },
  {
   "cell_type": "markdown",
   "id": "06574e3f",
   "metadata": {},
   "source": [
    "### Loading the MS Macro Model"
   ]
  },
  {
   "cell_type": "code",
   "execution_count": 22,
   "id": "32b7d7b8",
   "metadata": {},
   "outputs": [],
   "source": [
    "#load the MS MACRO model \n",
    "msmacrobert = SentenceTransformer('msmarco-bert-base-dot-v5')\n",
    "#generate the embeddings for the DBC SENTENCES\n",
    "mmembeddings = msmacrobert.encode(df_hns_s['Description'], convert_to_tensor=True)"
   ]
  },
  {
   "cell_type": "code",
   "execution_count": 23,
   "id": "3afc5795",
   "metadata": {},
   "outputs": [
    {
     "data": {
      "text/html": [
       "<div>\n",
       "<style scoped>\n",
       "    .dataframe tbody tr th:only-of-type {\n",
       "        vertical-align: middle;\n",
       "    }\n",
       "\n",
       "    .dataframe tbody tr th {\n",
       "        vertical-align: top;\n",
       "    }\n",
       "\n",
       "    .dataframe thead th {\n",
       "        text-align: right;\n",
       "    }\n",
       "</style>\n",
       "<table border=\"1\" class=\"dataframe\">\n",
       "  <thead>\n",
       "    <tr style=\"text-align: right;\">\n",
       "      <th></th>\n",
       "      <th>headings</th>\n",
       "      <th>Description</th>\n",
       "      <th>distilbert</th>\n",
       "      <th>msmacrobert</th>\n",
       "    </tr>\n",
       "  </thead>\n",
       "  <tbody>\n",
       "    <tr>\n",
       "      <th>0</th>\n",
       "      <td>scope</td>\n",
       "      <td>dubai building code 2021 edition contents part...</td>\n",
       "      <td>[-0.05723663419485092, 0.32458847761154175, 0....</td>\n",
       "      <td>[-0.004908490926027298, 0.43045637011528015, 0...</td>\n",
       "    </tr>\n",
       "  </tbody>\n",
       "</table>\n",
       "</div>"
      ],
      "text/plain": [
       "  headings                                        Description  \\\n",
       "0    scope  dubai building code 2021 edition contents part...   \n",
       "\n",
       "                                          distilbert  \\\n",
       "0  [-0.05723663419485092, 0.32458847761154175, 0....   \n",
       "\n",
       "                                         msmacrobert  \n",
       "0  [-0.004908490926027298, 0.43045637011528015, 0...  "
      ]
     },
     "execution_count": 23,
     "metadata": {},
     "output_type": "execute_result"
    }
   ],
   "source": [
    "#add embeddings to dataframe\n",
    "df_hns_s['msmacrobert'] = np.array(mmembeddings.cpu()).tolist()\n",
    "#show the top row\n",
    "df_hns_s.head(1)\n"
   ]
  },
  {
   "cell_type": "markdown",
   "id": "c7681e2d",
   "metadata": {},
   "source": [
    "### Load the Multilingual BERT model "
   ]
  },
  {
   "cell_type": "code",
   "execution_count": 24,
   "id": "0927d231",
   "metadata": {},
   "outputs": [],
   "source": [
    "\n",
    "#load the Multilingual BERT model \n",
    "mulilingualbert = SentenceTransformer('distiluse-base-multilingual-cased-v2')\n",
    "#generate the embeddings for the wine reviews\n",
    "mlembeddings = mulilingualbert.encode(df_hns_s['Description'], convert_to_tensor=True)"
   ]
  },
  {
   "cell_type": "code",
   "execution_count": 25,
   "id": "6c9ee837",
   "metadata": {},
   "outputs": [
    {
     "data": {
      "text/html": [
       "<div>\n",
       "<style scoped>\n",
       "    .dataframe tbody tr th:only-of-type {\n",
       "        vertical-align: middle;\n",
       "    }\n",
       "\n",
       "    .dataframe tbody tr th {\n",
       "        vertical-align: top;\n",
       "    }\n",
       "\n",
       "    .dataframe thead th {\n",
       "        text-align: right;\n",
       "    }\n",
       "</style>\n",
       "<table border=\"1\" class=\"dataframe\">\n",
       "  <thead>\n",
       "    <tr style=\"text-align: right;\">\n",
       "      <th></th>\n",
       "      <th>headings</th>\n",
       "      <th>Description</th>\n",
       "      <th>distilbert</th>\n",
       "      <th>msmacrobert</th>\n",
       "      <th>mulilingualbert</th>\n",
       "    </tr>\n",
       "  </thead>\n",
       "  <tbody>\n",
       "    <tr>\n",
       "      <th>0</th>\n",
       "      <td>scope</td>\n",
       "      <td>dubai building code 2021 edition contents part...</td>\n",
       "      <td>[-0.05723663419485092, 0.32458847761154175, 0....</td>\n",
       "      <td>[-0.004908490926027298, 0.43045637011528015, 0...</td>\n",
       "      <td>[0.04508763179183006, -0.022537995129823685, 0...</td>\n",
       "    </tr>\n",
       "    <tr>\n",
       "      <th>1</th>\n",
       "      <td>NULL</td>\n",
       "      <td>content of dbc based on following inputs 1) ex...</td>\n",
       "      <td>[0.0017879038350656629, 0.38066378235816956, 0...</td>\n",
       "      <td>[0.09734278917312622, 0.3688492476940155, 0.29...</td>\n",
       "      <td>[0.016477515920996666, -0.04879196733236313, -...</td>\n",
       "    </tr>\n",
       "    <tr>\n",
       "      <th>2</th>\n",
       "      <td>standards</td>\n",
       "      <td>dbc arranged under themes to integrate all rel...</td>\n",
       "      <td>[0.09700190275907516, 0.32356229424476624, 0.1...</td>\n",
       "      <td>[0.047584887593984604, 0.5162714123725891, 0.3...</td>\n",
       "      <td>[0.033759597688913345, -0.027963601052761078, ...</td>\n",
       "    </tr>\n",
       "    <tr>\n",
       "      <th>3</th>\n",
       "      <td>NULL</td>\n",
       "      <td>2 dubai building code part general a.2 definit...</td>\n",
       "      <td>[0.07687629014253616, 0.16949360072612762, 0.1...</td>\n",
       "      <td>[0.16047324240207672, 0.4372338354587555, 0.12...</td>\n",
       "      <td>[0.03745026886463165, -0.024706697091460228, 0...</td>\n",
       "    </tr>\n",
       "    <tr>\n",
       "      <th>4</th>\n",
       "      <td>built-up area</td>\n",
       "      <td>a.2.1 terms addition increase to buildings gro...</td>\n",
       "      <td>[0.05973900109529495, 0.07687541842460632, 0.4...</td>\n",
       "      <td>[0.1239137202501297, 0.28907841444015503, 0.11...</td>\n",
       "      <td>[0.01883588172495365, 0.06832122057676315, -0....</td>\n",
       "    </tr>\n",
       "    <tr>\n",
       "      <th>5</th>\n",
       "      <td>commissioning</td>\n",
       "      <td>architect physical or legal person in charge o...</td>\n",
       "      <td>[0.13330179452896118, 0.40652841329574585, 0.2...</td>\n",
       "      <td>[0.1807652860879898, 0.7577441930770874, 0.171...</td>\n",
       "      <td>[0.0698452815413475, 0.006084001157432795, 0.0...</td>\n",
       "    </tr>\n",
       "  </tbody>\n",
       "</table>\n",
       "</div>"
      ],
      "text/plain": [
       "        headings                                        Description  \\\n",
       "0          scope  dubai building code 2021 edition contents part...   \n",
       "1           NULL  content of dbc based on following inputs 1) ex...   \n",
       "2      standards  dbc arranged under themes to integrate all rel...   \n",
       "3           NULL  2 dubai building code part general a.2 definit...   \n",
       "4  built-up area  a.2.1 terms addition increase to buildings gro...   \n",
       "5  commissioning  architect physical or legal person in charge o...   \n",
       "\n",
       "                                          distilbert  \\\n",
       "0  [-0.05723663419485092, 0.32458847761154175, 0....   \n",
       "1  [0.0017879038350656629, 0.38066378235816956, 0...   \n",
       "2  [0.09700190275907516, 0.32356229424476624, 0.1...   \n",
       "3  [0.07687629014253616, 0.16949360072612762, 0.1...   \n",
       "4  [0.05973900109529495, 0.07687541842460632, 0.4...   \n",
       "5  [0.13330179452896118, 0.40652841329574585, 0.2...   \n",
       "\n",
       "                                         msmacrobert  \\\n",
       "0  [-0.004908490926027298, 0.43045637011528015, 0...   \n",
       "1  [0.09734278917312622, 0.3688492476940155, 0.29...   \n",
       "2  [0.047584887593984604, 0.5162714123725891, 0.3...   \n",
       "3  [0.16047324240207672, 0.4372338354587555, 0.12...   \n",
       "4  [0.1239137202501297, 0.28907841444015503, 0.11...   \n",
       "5  [0.1807652860879898, 0.7577441930770874, 0.171...   \n",
       "\n",
       "                                     mulilingualbert  \n",
       "0  [0.04508763179183006, -0.022537995129823685, 0...  \n",
       "1  [0.016477515920996666, -0.04879196733236313, -...  \n",
       "2  [0.033759597688913345, -0.027963601052761078, ...  \n",
       "3  [0.03745026886463165, -0.024706697091460228, 0...  \n",
       "4  [0.01883588172495365, 0.06832122057676315, -0....  \n",
       "5  [0.0698452815413475, 0.006084001157432795, 0.0...  "
      ]
     },
     "execution_count": 25,
     "metadata": {},
     "output_type": "execute_result"
    }
   ],
   "source": [
    "#add embeddings to dataframe\n",
    "df_hns_s['mulilingualbert'] = np.array(mlembeddings.cpu()).tolist()\n",
    "#show the top row\n",
    "df_hns_s.head(6)"
   ]
  },
  {
   "cell_type": "code",
   "execution_count": 26,
   "id": "315e2ea6",
   "metadata": {},
   "outputs": [
    {
     "data": {
      "text/plain": [
       "'content of dbc based on following inputs 1) existing regulations and technical requirements produced by various authorities and service providers 2) interviews with government authorities, service providers, master developers, consultants and other stakeholders to understand gaps or inconsistencies between existing regulations 3) benchmarking to international and regional codes'"
      ]
     },
     "execution_count": 26,
     "metadata": {},
     "output_type": "execute_result"
    }
   ],
   "source": [
    "df_hns_s.iloc[1]['Description']\n"
   ]
  },
  {
   "cell_type": "markdown",
   "id": "3bed2b46",
   "metadata": {},
   "source": [
    "## Creating a Search Index\n",
    "\n",
    "Discussion: When using a search engine like Google or Bing, users expect to get results pretty quickly. To search through our result set at lightning speed, we can use the lightweight and efficient Non-Metric Space Library (NMSLIB)."
   ]
  },
  {
   "cell_type": "code",
   "execution_count": 27,
   "id": "b4b97fec",
   "metadata": {},
   "outputs": [],
   "source": [
    "# !pip install nmslib"
   ]
  },
  {
   "cell_type": "code",
   "execution_count": 21,
   "id": "f6994f7f",
   "metadata": {},
   "outputs": [],
   "source": [
    "import nmslib"
   ]
  },
  {
   "cell_type": "markdown",
   "id": "4e59174f",
   "metadata": {},
   "source": [
    "Discussion: we will use cosine similarity as the measure for which we compare the user input to the Item Summary. We need to be able to find the closest vectors to our search vector. Searching and sorting the data using brute force techniques can be expensive and slow. Instead, create an index for the data points."
   ]
  },
  {
   "cell_type": "markdown",
   "id": "6f86236b",
   "metadata": {},
   "source": [
    "### Initialize a new index, using a HNSW index on Cosine Similarity and Euclidean Distances (L2)"
   ]
  },
  {
   "cell_type": "code",
   "execution_count": 28,
   "id": "dd696723",
   "metadata": {},
   "outputs": [],
   "source": [
    "# initialize a new index, using a HNSW index on Euclidiean Distance Similarity\n",
    "distilbert_l2index = nmslib.init(method='hnsw', space='l2')\n",
    "distilbert_l2index.addDataPointBatch(embeddings)\n",
    "distilbert_l2index.createIndex({'post': 2}, print_progress=True)"
   ]
  },
  {
   "cell_type": "code",
   "execution_count": 29,
   "id": "d9b42319",
   "metadata": {},
   "outputs": [],
   "source": [
    "# initialize a new index, using a HNSW index on Euclidean Distance\n",
    "msmacrobert_l2index = nmslib.init(method='hnsw', space='l2')\n",
    "msmacrobert_l2index.addDataPointBatch(mmembeddings.cpu())\n",
    "msmacrobert_l2index.createIndex({'post': 2}, print_progress=True)"
   ]
  },
  {
   "cell_type": "code",
   "execution_count": 32,
   "id": "b7a8ec11",
   "metadata": {},
   "outputs": [],
   "source": [
    "# initialize a new index, using a HNSW index on Cosine Similarity \n",
    "distilbert_index_cs = nmslib.init(method='hnsw', space='cosinesimil')\n",
    "distilbert_index_cs.addDataPointBatch(embeddings)\n",
    "distilbert_index_cs.createIndex({'post': 2}, print_progress=True)"
   ]
  },
  {
   "cell_type": "code",
   "execution_count": 31,
   "id": "a0881619",
   "metadata": {},
   "outputs": [],
   "source": [
    "# initialize a new index, using a HNSW index on Cosine Similarity\n",
    "msmacrobert_index_cs = nmslib.init(method='hnsw', space='cosinesimil')\n",
    "msmacrobert_index_cs.addDataPointBatch(mmembeddings.cpu())\n",
    "msmacrobert_index_cs.createIndex({'post': 2}, print_progress=True)"
   ]
  },
  {
   "cell_type": "code",
   "execution_count": 33,
   "id": "4d5964e5",
   "metadata": {},
   "outputs": [],
   "source": [
    "# initialize a new index, using a HNSW index on Cosine Similarity\n",
    "mulilingualbert_index_cs = nmslib.init(method='hnsw', space='cosinesimil')\n",
    "mulilingualbert_index_cs.addDataPointBatch(mlembeddings.cpu())\n",
    "mulilingualbert_index_cs.createIndex({'post': 2}, print_progress=True)"
   ]
  },
  {
   "cell_type": "code",
   "execution_count": 34,
   "id": "40090e2d",
   "metadata": {},
   "outputs": [],
   "source": [
    "# initialize a new index, using a HNSW index on Euclidean Distance\n",
    "mulilingualbert_l2index = nmslib.init(method='hnsw', space='l2')\n",
    "mulilingualbert_l2index.addDataPointBatch(mlembeddings.cpu())\n",
    "mulilingualbert_l2index.createIndex({'post': 2}, print_progress=True)"
   ]
  },
  {
   "cell_type": "markdown",
   "id": "7d7a64ff",
   "metadata": {},
   "source": [
    "## Creating a Search Function"
   ]
  },
  {
   "cell_type": "code",
   "execution_count": 43,
   "id": "abb13b24",
   "metadata": {},
   "outputs": [],
   "source": [
    "def search_data_dl(dataframe, userQuery):\n",
    "    \n",
    "    if dataframe is not None and userQuery is not None:\n",
    "        df = dataframe.copy()\n",
    "        query = distilbert.encode([userQuery], convert_to_tensor=True)\n",
    "        ids, distances = distilbert_l2index.knnQuery(query.cpu(), k=10)\n",
    "    matches = []\n",
    "    for i, j in zip(ids, distances):\n",
    "        matches.append({'Description' : df.Description.values[i]\n",
    "                       })\n",
    "    return pd.DataFrame(matches)"
   ]
  },
  {
   "cell_type": "code",
   "execution_count": 36,
   "id": "2719908e",
   "metadata": {},
   "outputs": [],
   "source": [
    "def search_data_mml(dataframe, userQuery):\n",
    "    \n",
    "    if dataframe is not None and userQuery is not None:\n",
    "        df = dataframe.copy()\n",
    "        query = msmacrobert.encode([userQuery], convert_to_tensor=True)\n",
    "        ids, distances = msmacrobert_l2index.knnQuery(query.cpu(), k=10)\n",
    "    matches = []\n",
    "    for i, j in zip(ids, distances):\n",
    "        matches.append({'Description' : df.Description.values[i]\n",
    "                        , 'Heading' : df.headings.values[i]\n",
    "                       })\n",
    "    return pd.DataFrame(matches)"
   ]
  },
  {
   "cell_type": "code",
   "execution_count": 37,
   "id": "2c499113",
   "metadata": {},
   "outputs": [],
   "source": [
    "def search_data_dcs(dataframe, userQuery):\n",
    "    \n",
    "    if dataframe is not None and userQuery is not None:\n",
    "        df = dataframe.copy()\n",
    "        query = distilbert.encode([userQuery], convert_to_tensor=True)\n",
    "        ids, distances = distilbert_index_cs.knnQuery(query.cpu(), k=10)\n",
    "    matches = []\n",
    "    for i, j in zip(ids, distances):\n",
    "        matches.append({'Description' : df.Description.values[i]\n",
    "                        , 'Heading' : df.headings.values[i]\n",
    "                       })\n",
    "    return pd.DataFrame(matches)"
   ]
  },
  {
   "cell_type": "code",
   "execution_count": 49,
   "id": "d1ca852d",
   "metadata": {},
   "outputs": [],
   "source": [
    "def search_data_mmcs(dataframe, userQuery):\n",
    "    \n",
    "    if dataframe is not None and userQuery is not None:\n",
    "        df = dataframe.copy()\n",
    "        query = msmacrobert.encode([userQuery], convert_to_tensor=True)\n",
    "        ids, distances = msmacrobert_index_cs.knnQuery(query.cpu(), k=10)\n",
    "    matches = []\n",
    "    for i, j in zip(ids, distances):\n",
    "        matches.append({'Description' : df.Description.values[i]\n",
    "                       })\n",
    "    return pd.DataFrame(matches)"
   ]
  },
  {
   "cell_type": "code",
   "execution_count": 39,
   "id": "8715e559",
   "metadata": {},
   "outputs": [],
   "source": [
    "def search_data_mll(dataframe, userQuery):\n",
    "    \n",
    "    if dataframe is not None and userQuery is not None:\n",
    "        df = dataframe.copy()\n",
    "        query = mulilingualbert.encode([userQuery], convert_to_tensor=True)\n",
    "        ids, distances = mulilingualbert_l2index.knnQuery(query.cpu(), k=10)\n",
    "    matches = []\n",
    "    for i, j in zip(ids, distances):\n",
    "        matches.append({'Description' : df.Description.values[i]\n",
    "                        , 'Heading' : df.headings.values[i]\n",
    "                       })\n",
    "    return pd.DataFrame(matches)"
   ]
  },
  {
   "cell_type": "code",
   "execution_count": 40,
   "id": "52c32503",
   "metadata": {},
   "outputs": [],
   "source": [
    "def search_data_mlcs(dataframe, userQuery):\n",
    "    \n",
    "    if dataframe is not None and userQuery is not None:\n",
    "        df = dataframe.copy()\n",
    "        query = mulilingualbert.encode([userQuery], convert_to_tensor=True)\n",
    "        ids, distances = mulilingualbert_index_cs.knnQuery(query.cpu(), k=10)\n",
    "    matches = []\n",
    "    for i, j in zip(ids, distances):\n",
    "        matches.append({'Description' : df.Description.values[i]\n",
    "                        , 'Heading' : df.headings.values[i]\n",
    "                       })\n",
    "    return pd.DataFrame(matches)"
   ]
  },
  {
   "cell_type": "markdown",
   "id": "882740fd",
   "metadata": {},
   "source": [
    "## Testing Search Function"
   ]
  },
  {
   "cell_type": "code",
   "execution_count": 45,
   "id": "11be954c",
   "metadata": {},
   "outputs": [
    {
     "name": "stdout",
     "output_type": "stream",
     "text": [
      "                    Description\n",
      "0            one room earth bar\n",
      "1        labelling floor number\n",
      "2                  14 steps max\n",
      "3       isolation and switching\n",
      "4     for unique identification\n",
      "5      indirect design approach\n",
      "6         name at entrance door\n",
      "7     accommodation unit number\n",
      "8  two dedicated telecom risers\n",
      "9               indicating such\n"
     ]
    }
   ],
   "source": [
    "print(search_data_dl(df_hns_s, \"Bathroom Doors\"))"
   ]
  },
  {
   "cell_type": "code",
   "execution_count": 46,
   "id": "91086297",
   "metadata": {},
   "outputs": [
    {
     "name": "stdout",
     "output_type": "stream",
     "text": [
      "                                         Description         Heading\n",
      "0                              name at entrance door            NULL\n",
      "1  c) single doors, except toilet doors, shall ha...            NULL\n",
      "2  a) accessible toilet doors shall have minimum ...            NULL\n",
      "3  , 0 2 2 1 - 0 5 8 0 0 4 , 1 - 0 0 1 , 1 figure...            NULL\n",
      "4  c) public toilets, including their entry point...            NULL\n",
      "5  h) width of door opening shall be not less tha...            NULL\n",
      "6  interior signage at doors should be positioned...            NULL\n",
      "7  figure c.85 types of toilet stall arrangements...           types\n",
      "8  d) individual toilet stalls and single-user to...            NULL\n",
      "9  revolving entrance doors not considered access...  entrance doors\n"
     ]
    }
   ],
   "source": [
    "print(search_data_mml(df_hns_s, \"Bathroom Doors\"))"
   ]
  },
  {
   "cell_type": "code",
   "execution_count": 47,
   "id": "23878c2e",
   "metadata": {},
   "outputs": [
    {
     "name": "stdout",
     "output_type": "stream",
     "text": [
      "                                    Description Heading\n",
      "0                            one room earth bar    NULL\n",
      "1                        labelling floor number    NULL\n",
      "2                                  14 steps max    NULL\n",
      "3                       isolation and switching    NULL\n",
      "4                         name at entrance door    NULL\n",
      "5                      indirect design approach    NULL\n",
      "6                     for unique identification    NULL\n",
      "7                     accommodation unit number    NULL\n",
      "8                               indicating such    NULL\n",
      "9  connecting rooms shall have accessible doors    NULL\n"
     ]
    }
   ],
   "source": [
    "print(search_data_dcs(df_hns_s, \"Bathroom Doors\"))"
   ]
  },
  {
   "cell_type": "code",
   "execution_count": 50,
   "id": "60ba151a",
   "metadata": {},
   "outputs": [
    {
     "name": "stdout",
     "output_type": "stream",
     "text": [
      "                                         Description\n",
      "0                              name at entrance door\n",
      "1  c) single doors, except toilet doors, shall ha...\n",
      "2  a) accessible toilet doors shall have minimum ...\n",
      "3  , 0 2 2 1 - 0 5 8 0 0 4 , 1 - 0 0 1 , 1 figure...\n",
      "4  c) public toilets, including their entry point...\n",
      "5  h) width of door opening shall be not less tha...\n",
      "6  figure c.85 types of toilet stall arrangements...\n",
      "7  entrance doors to prayer halls shall be sized ...\n",
      "8  interior signage at doors should be positioned...\n",
      "9  d) individual toilet stalls and single-user to...\n"
     ]
    }
   ],
   "source": [
    "print(search_data_mmcs(df_hns_s, \"Bathroom Doors\"))"
   ]
  },
  {
   "cell_type": "code",
   "execution_count": 51,
   "id": "3f614089",
   "metadata": {},
   "outputs": [
    {
     "name": "stdout",
     "output_type": "stream",
     "text": [
      "                                         Description  \\\n",
      "0                                 0 1.00 01 1.55 3 0   \n",
      "1  , 0 2 2 1 - 0 5 8 0 0 4 , 1 - 0 0 1 , 1 figure...   \n",
      "2  elevators b 52 figure b.42 examples of complia...   \n",
      "3                                  0 06 02 07 08 2 9   \n",
      "4  doors door location entry doors, general bathr...   \n",
      "5  n equipment access doors may include louvers, ...   \n",
      "6  dubai building code part c accessibility 915 9...   \n",
      "7  dubai building code part c accessibility 915 9...   \n",
      "8  1.00 1.68 3.05 1.68 figure g.39 typical 1  1,0...   \n",
      "9                                  0 0.20 0.40 7 7 0   \n",
      "\n",
      "                                Heading  \n",
      "0                                  NULL  \n",
      "1                                  NULL  \n",
      "2                          access doors  \n",
      "3                                  NULL  \n",
      "4                           daylighting  \n",
      "5                          access doors  \n",
      "6                             standards  \n",
      "7  minimum accessible door requirements  \n",
      "8                                  NULL  \n",
      "9                                  NULL  \n"
     ]
    }
   ],
   "source": [
    "print(search_data_mll(df_hns_s, \"Bathroom Doors\"))"
   ]
  },
  {
   "cell_type": "code",
   "execution_count": 52,
   "id": "f7a4ff6f",
   "metadata": {},
   "outputs": [
    {
     "name": "stdout",
     "output_type": "stream",
     "text": [
      "                                         Description         Heading\n",
      "0                              name at entrance door            NULL\n",
      "1       connecting rooms shall have accessible doors            NULL\n",
      "2  interior signage at doors should be positioned...            NULL\n",
      "3  revolving entrance doors not considered access...  entrance doors\n",
      "4     doors with du and etisalat telecom room labels            NULL\n",
      "5  elevators b 52 figure b.42 examples of complia...    access doors\n",
      "6  a) accessible toilet doors shall have minimum ...            NULL\n",
      "7  doors door location entry doors, general bathr...     daylighting\n",
      "8  c) single doors, except toilet doors, shall ha...            NULL\n",
      "9  3 door opening time period of time (s) measure...            NULL\n"
     ]
    }
   ],
   "source": [
    "print(search_data_mlcs(df_hns_s, \"Bathroom Doors\"))"
   ]
  },
  {
   "cell_type": "markdown",
   "id": "6ad67a0b",
   "metadata": {},
   "source": [
    "## Creating the User Interface\n",
    "Discussion: To allow users to interact with the search functionality, we can build a simple user interface using Dash by Plotly. Dash is a framework for Python written on top of Flask, Plotly.js, and React.js"
   ]
  },
  {
   "cell_type": "code",
   "execution_count": 53,
   "id": "d3884db4",
   "metadata": {},
   "outputs": [
    {
     "name": "stdout",
     "output_type": "stream",
     "text": [
      "Collecting dash\n",
      "  Downloading dash-2.5.1-py3-none-any.whl (9.8 MB)\n",
      "     ---------------------------------------- 9.8/9.8 MB 12.8 MB/s eta 0:00:00\n",
      "Collecting Flask>=1.0.4\n",
      "  Using cached Flask-2.1.2-py3-none-any.whl (95 kB)\n",
      "Collecting plotly>=5.0.0\n",
      "  Downloading plotly-5.9.0-py2.py3-none-any.whl (15.2 MB)\n",
      "     --------------------------------------- 15.2/15.2 MB 10.2 MB/s eta 0:00:00\n",
      "Collecting dash-table==5.0.0\n",
      "  Downloading dash_table-5.0.0-py3-none-any.whl (3.9 kB)\n",
      "Collecting dash-html-components==2.0.0\n",
      "  Downloading dash_html_components-2.0.0-py3-none-any.whl (4.1 kB)\n",
      "Collecting dash-core-components==2.0.0\n",
      "  Downloading dash_core_components-2.0.0-py3-none-any.whl (3.8 kB)\n",
      "Collecting flask-compress\n",
      "  Downloading Flask_Compress-1.12-py3-none-any.whl (7.9 kB)\n",
      "Collecting itsdangerous>=2.0\n",
      "  Downloading itsdangerous-2.1.2-py3-none-any.whl (15 kB)\n",
      "Requirement already satisfied: importlib-metadata>=3.6.0 in c:\\users\\yash.hemnani\\anaconda3\\envs\\python38\\lib\\site-packages (from Flask>=1.0.4->dash) (4.11.3)\n",
      "Requirement already satisfied: Jinja2>=3.0 in c:\\users\\yash.hemnani\\anaconda3\\envs\\python38\\lib\\site-packages (from Flask>=1.0.4->dash) (3.0.3)\n",
      "Requirement already satisfied: Werkzeug>=2.0 in c:\\users\\yash.hemnani\\anaconda3\\envs\\python38\\lib\\site-packages (from Flask>=1.0.4->dash) (2.0.3)\n",
      "Requirement already satisfied: click>=8.0 in c:\\users\\yash.hemnani\\anaconda3\\envs\\python38\\lib\\site-packages (from Flask>=1.0.4->dash) (8.0.4)\n",
      "Collecting tenacity>=6.2.0\n",
      "  Downloading tenacity-8.0.1-py3-none-any.whl (24 kB)\n",
      "Collecting brotli\n",
      "  Downloading Brotli-1.0.9-cp38-cp38-win_amd64.whl (365 kB)\n",
      "     -------------------------------------- 365.3/365.3 kB 7.7 MB/s eta 0:00:00\n",
      "Requirement already satisfied: colorama in c:\\users\\yash.hemnani\\anaconda3\\envs\\python38\\lib\\site-packages (from click>=8.0->Flask>=1.0.4->dash) (0.4.5)\n",
      "Requirement already satisfied: zipp>=0.5 in c:\\users\\yash.hemnani\\anaconda3\\envs\\python38\\lib\\site-packages (from importlib-metadata>=3.6.0->Flask>=1.0.4->dash) (3.8.0)\n",
      "Requirement already satisfied: MarkupSafe>=2.0 in c:\\users\\yash.hemnani\\anaconda3\\envs\\python38\\lib\\site-packages (from Jinja2>=3.0->Flask>=1.0.4->dash) (2.0.1)\n",
      "Installing collected packages: dash-table, dash-html-components, dash-core-components, brotli, tenacity, itsdangerous, plotly, Flask, flask-compress, dash\n",
      "Successfully installed Flask-2.1.2 brotli-1.0.9 dash-2.5.1 dash-core-components-2.0.0 dash-html-components-2.0.0 dash-table-5.0.0 flask-compress-1.12 itsdangerous-2.1.2 plotly-5.9.0 tenacity-8.0.1\n"
     ]
    },
    {
     "name": "stderr",
     "output_type": "stream",
     "text": [
      "WARNING: Ignoring invalid distribution -umpy (c:\\users\\yash.hemnani\\anaconda3\\envs\\python38\\lib\\site-packages)\n",
      "WARNING: Ignoring invalid distribution -umpy (c:\\users\\yash.hemnani\\anaconda3\\envs\\python38\\lib\\site-packages)\n",
      "WARNING: Ignoring invalid distribution -umpy (c:\\users\\yash.hemnani\\anaconda3\\envs\\python38\\lib\\site-packages)\n",
      "WARNING: Ignoring invalid distribution -umpy (c:\\users\\yash.hemnani\\anaconda3\\envs\\python38\\lib\\site-packages)\n",
      "WARNING: Ignoring invalid distribution -umpy (c:\\users\\yash.hemnani\\anaconda3\\envs\\python38\\lib\\site-packages)\n",
      "WARNING: Ignoring invalid distribution -umpy (c:\\users\\yash.hemnani\\anaconda3\\envs\\python38\\lib\\site-packages)\n",
      "WARNING: Ignoring invalid distribution -umpy (c:\\users\\yash.hemnani\\anaconda3\\envs\\python38\\lib\\site-packages)\n",
      "WARNING: Ignoring invalid distribution -umpy (c:\\users\\yash.hemnani\\anaconda3\\envs\\python38\\lib\\site-packages)\n",
      "WARNING: Ignoring invalid distribution -umpy (c:\\users\\yash.hemnani\\anaconda3\\envs\\python38\\lib\\site-packages)\n",
      "WARNING: Ignoring invalid distribution -umpy (c:\\users\\yash.hemnani\\anaconda3\\envs\\python38\\lib\\site-packages)\n",
      "WARNING: Ignoring invalid distribution -umpy (c:\\users\\yash.hemnani\\anaconda3\\envs\\python38\\lib\\site-packages)\n",
      "WARNING: Ignoring invalid distribution -umpy (c:\\users\\yash.hemnani\\anaconda3\\envs\\python38\\lib\\site-packages)\n",
      "WARNING: Ignoring invalid distribution -umpy (c:\\users\\yash.hemnani\\anaconda3\\envs\\python38\\lib\\site-packages)\n",
      "WARNING: Ignoring invalid distribution -umpy (c:\\users\\yash.hemnani\\anaconda3\\envs\\python38\\lib\\site-packages)\n",
      "WARNING: Ignoring invalid distribution -umpy (c:\\users\\yash.hemnani\\anaconda3\\envs\\python38\\lib\\site-packages)\n",
      "WARNING: Ignoring invalid distribution -umpy (c:\\users\\yash.hemnani\\anaconda3\\envs\\python38\\lib\\site-packages)\n"
     ]
    },
    {
     "name": "stdout",
     "output_type": "stream",
     "text": [
      "Collecting dash-bootstrap-components\n",
      "  Downloading dash_bootstrap_components-1.2.0-py3-none-any.whl (216 kB)\n",
      "     -------------------------------------- 216.1/216.1 kB 6.6 MB/s eta 0:00:00\n",
      "Requirement already satisfied: dash>=2.0.0 in c:\\users\\yash.hemnani\\anaconda3\\envs\\python38\\lib\\site-packages (from dash-bootstrap-components) (2.5.1)\n",
      "Requirement already satisfied: plotly>=5.0.0 in c:\\users\\yash.hemnani\\anaconda3\\envs\\python38\\lib\\site-packages (from dash>=2.0.0->dash-bootstrap-components) (5.9.0)\n",
      "Requirement already satisfied: dash-table==5.0.0 in c:\\users\\yash.hemnani\\anaconda3\\envs\\python38\\lib\\site-packages (from dash>=2.0.0->dash-bootstrap-components) (5.0.0)\n",
      "Requirement already satisfied: dash-core-components==2.0.0 in c:\\users\\yash.hemnani\\anaconda3\\envs\\python38\\lib\\site-packages (from dash>=2.0.0->dash-bootstrap-components) (2.0.0)\n",
      "Requirement already satisfied: flask-compress in c:\\users\\yash.hemnani\\anaconda3\\envs\\python38\\lib\\site-packages (from dash>=2.0.0->dash-bootstrap-components) (1.12)\n",
      "Requirement already satisfied: Flask>=1.0.4 in c:\\users\\yash.hemnani\\anaconda3\\envs\\python38\\lib\\site-packages (from dash>=2.0.0->dash-bootstrap-components) (2.1.2)\n",
      "Requirement already satisfied: dash-html-components==2.0.0 in c:\\users\\yash.hemnani\\anaconda3\\envs\\python38\\lib\\site-packages (from dash>=2.0.0->dash-bootstrap-components) (2.0.0)\n",
      "Requirement already satisfied: click>=8.0 in c:\\users\\yash.hemnani\\anaconda3\\envs\\python38\\lib\\site-packages (from Flask>=1.0.4->dash>=2.0.0->dash-bootstrap-components) (8.0.4)\n",
      "Requirement already satisfied: importlib-metadata>=3.6.0 in c:\\users\\yash.hemnani\\anaconda3\\envs\\python38\\lib\\site-packages (from Flask>=1.0.4->dash>=2.0.0->dash-bootstrap-components) (4.11.3)\n",
      "Requirement already satisfied: itsdangerous>=2.0 in c:\\users\\yash.hemnani\\anaconda3\\envs\\python38\\lib\\site-packages (from Flask>=1.0.4->dash>=2.0.0->dash-bootstrap-components) (2.1.2)\n",
      "Requirement already satisfied: Jinja2>=3.0 in c:\\users\\yash.hemnani\\anaconda3\\envs\\python38\\lib\\site-packages (from Flask>=1.0.4->dash>=2.0.0->dash-bootstrap-components) (3.0.3)\n",
      "Requirement already satisfied: Werkzeug>=2.0 in c:\\users\\yash.hemnani\\anaconda3\\envs\\python38\\lib\\site-packages (from Flask>=1.0.4->dash>=2.0.0->dash-bootstrap-components) (2.0.3)\n",
      "Requirement already satisfied: tenacity>=6.2.0 in c:\\users\\yash.hemnani\\anaconda3\\envs\\python38\\lib\\site-packages (from plotly>=5.0.0->dash>=2.0.0->dash-bootstrap-components) (8.0.1)\n",
      "Requirement already satisfied: brotli in c:\\users\\yash.hemnani\\anaconda3\\envs\\python38\\lib\\site-packages (from flask-compress->dash>=2.0.0->dash-bootstrap-components) (1.0.9)\n",
      "Requirement already satisfied: colorama in c:\\users\\yash.hemnani\\anaconda3\\envs\\python38\\lib\\site-packages (from click>=8.0->Flask>=1.0.4->dash>=2.0.0->dash-bootstrap-components) (0.4.5)\n",
      "Requirement already satisfied: zipp>=0.5 in c:\\users\\yash.hemnani\\anaconda3\\envs\\python38\\lib\\site-packages (from importlib-metadata>=3.6.0->Flask>=1.0.4->dash>=2.0.0->dash-bootstrap-components) (3.8.0)\n",
      "Requirement already satisfied: MarkupSafe>=2.0 in c:\\users\\yash.hemnani\\anaconda3\\envs\\python38\\lib\\site-packages (from Jinja2>=3.0->Flask>=1.0.4->dash>=2.0.0->dash-bootstrap-components) (2.0.1)\n",
      "Installing collected packages: dash-bootstrap-components\n",
      "Successfully installed dash-bootstrap-components-1.2.0\n"
     ]
    },
    {
     "name": "stderr",
     "output_type": "stream",
     "text": [
      "WARNING: Ignoring invalid distribution -umpy (c:\\users\\yash.hemnani\\anaconda3\\envs\\python38\\lib\\site-packages)\n",
      "WARNING: Ignoring invalid distribution -umpy (c:\\users\\yash.hemnani\\anaconda3\\envs\\python38\\lib\\site-packages)\n",
      "WARNING: Ignoring invalid distribution -umpy (c:\\users\\yash.hemnani\\anaconda3\\envs\\python38\\lib\\site-packages)\n",
      "WARNING: Ignoring invalid distribution -umpy (c:\\users\\yash.hemnani\\anaconda3\\envs\\python38\\lib\\site-packages)\n",
      "WARNING: Ignoring invalid distribution -umpy (c:\\users\\yash.hemnani\\anaconda3\\envs\\python38\\lib\\site-packages)\n",
      "WARNING: Ignoring invalid distribution -umpy (c:\\users\\yash.hemnani\\anaconda3\\envs\\python38\\lib\\site-packages)\n",
      "WARNING: Ignoring invalid distribution -umpy (c:\\users\\yash.hemnani\\anaconda3\\envs\\python38\\lib\\site-packages)\n",
      "WARNING: Ignoring invalid distribution -umpy (c:\\users\\yash.hemnani\\anaconda3\\envs\\python38\\lib\\site-packages)\n",
      "ERROR: Invalid requirement: '#if'\n",
      "WARNING: Ignoring invalid distribution -umpy (c:\\users\\yash.hemnani\\anaconda3\\envs\\python38\\lib\\site-packages)\n",
      "WARNING: Ignoring invalid distribution -umpy (c:\\users\\yash.hemnani\\anaconda3\\envs\\python38\\lib\\site-packages)\n",
      "WARNING: Ignoring invalid distribution -umpy (c:\\users\\yash.hemnani\\anaconda3\\envs\\python38\\lib\\site-packages)\n"
     ]
    }
   ],
   "source": [
    "!pip install dash\n",
    "!pip install dash-bootstrap-components\n",
    "!pip install jupyter-dash #if you want to build in a jupyter notebook"
   ]
  },
  {
   "cell_type": "code",
   "execution_count": 63,
   "id": "4a784363",
   "metadata": {},
   "outputs": [],
   "source": [
    "\n",
    "import dash\n",
    "from jupyter_dash import JupyterDash\n",
    "import dash_bootstrap_components as dbc\n",
    "import dash_html_components as html\n",
    "import dash_core_components as dcc\n",
    "from dash.dependencies import Input, Output\n",
    "external_stylesheets = [dbc.themes.BOOTSTRAP]\n",
    "app = JupyterDash(__name__, external_stylesheets = external_stylesheets)\n",
    "# Create server variable with Flask server object for use with gunicorn\n",
    "server = app.server"
   ]
  },
  {
   "cell_type": "code",
   "execution_count": 64,
   "id": "857faf5c",
   "metadata": {},
   "outputs": [],
   "source": [
    "\n",
    "search_card = dbc.Card(\n",
    "    dbc.CardBody(\n",
    "        [\n",
    "            html.H5(\"Look For Your Item\", className=\"card-title\")\n",
    "            , dbc.Textarea(id = 'user-input', size=\"lg\"\n",
    "                     , placeholder=\"Describe Ideal Item\")\n",
    "             ,dbc.Button('search', id = 'search', color=\"danger\")\n",
    "        ]\n",
    "    )\n",
    ")"
   ]
  },
  {
   "cell_type": "code",
   "execution_count": 65,
   "id": "1d947986",
   "metadata": {},
   "outputs": [],
   "source": [
    "\n",
    "app.layout = html.Div([html.H1(\"Search Your Item!\")\n",
    "                   , html.Br()\n",
    "                   , dbc.Row(dbc.Col(search_card,\n",
    "                        width={\"size\": 6, \"offset\": 3}))#end row\n",
    "                  , html.Br()\n",
    "                  , dbc.Card(dbc.CardBody(html.Div(id = 'results')))\n",
    "                  ])"
   ]
  },
  {
   "cell_type": "code",
   "execution_count": 66,
   "id": "b6afc13d",
   "metadata": {},
   "outputs": [],
   "source": [
    "@app.callback(Output(\"results\", \"children\")\n",
    "              , [Input(\"user-input\", \"value\")\n",
    "                , Input(\"search\", \"n_clicks\")\n",
    "                ])\n",
    "def return_item(userquery, n):\n",
    "  # search_dataml(dfClean, \"Google Chromecast ile eğlence dünyası\")\n",
    "    \n",
    "    if userquery is not None and n is not None:\n",
    "        \n",
    "        dff = df_hns_s.copy()\n",
    "        results = search_data_mmcs(dff, userquery)\n",
    "        table = dbc.Table.from_dataframe(results, striped=True, bordered=True, hover=True)\n",
    "    \n",
    "        return table"
   ]
  },
  {
   "cell_type": "markdown",
   "id": "47bc6b69",
   "metadata": {},
   "source": [
    "Discussion: Notice the dataframe is transformed into an HTML table using the bootstrap Table component.\n",
    "\n",
    "To run the Dash application use this"
   ]
  },
  {
   "cell_type": "code",
   "execution_count": 67,
   "id": "83368928",
   "metadata": {},
   "outputs": [
    {
     "name": "stdout",
     "output_type": "stream",
     "text": [
      "Dash app running on http://127.0.0.1:8050/\n"
     ]
    }
   ],
   "source": [
    "app.run_server()\n",
    "#Dash app running on http://127.0.0.1:8050/"
   ]
  },
  {
   "cell_type": "code",
   "execution_count": null,
   "id": "ff1926b0",
   "metadata": {},
   "outputs": [],
   "source": []
  },
  {
   "cell_type": "code",
   "execution_count": null,
   "id": "27dc96e8",
   "metadata": {},
   "outputs": [],
   "source": []
  },
  {
   "cell_type": "code",
   "execution_count": null,
   "id": "5ed30039",
   "metadata": {},
   "outputs": [],
   "source": []
  }
 ],
 "metadata": {
  "kernelspec": {
   "display_name": "Python 3 (ipykernel)",
   "language": "python",
   "name": "python3"
  },
  "language_info": {
   "codemirror_mode": {
    "name": "ipython",
    "version": 3
   },
   "file_extension": ".py",
   "mimetype": "text/x-python",
   "name": "python",
   "nbconvert_exporter": "python",
   "pygments_lexer": "ipython3",
   "version": "3.8.13"
  }
 },
 "nbformat": 4,
 "nbformat_minor": 5
}
