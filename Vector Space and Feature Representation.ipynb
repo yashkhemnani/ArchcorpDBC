{
 "cells": [
  {
   "cell_type": "markdown",
   "id": "d140dd1c",
   "metadata": {},
   "source": [
    "# Vector Space and Feature Representation"
   ]
  },
  {
   "cell_type": "markdown",
   "id": "521ad0ad",
   "metadata": {},
   "source": [
    "## Importing Libraries"
   ]
  },
  {
   "cell_type": "code",
   "execution_count": 19,
   "id": "d55279b7",
   "metadata": {},
   "outputs": [],
   "source": [
    "import pandas as pd\n",
    "import numpy as np\n",
    "from sklearn.feature_extraction.text import CountVectorizer\n",
    "from sklearn.feature_extraction.text import TfidfVectorizer\n",
    "from sklearn.feature_extraction.text import TfidfTransformer\n",
    "from sklearn.metrics import confusion_matrix, classification_report\n",
    "\n",
    "from sklearn.pipeline import Pipeline\n",
    "from sklearn.model_selection import GridSearchCV\n",
    "from sklearn.neighbors import KNeighborsClassifier\n",
    "from sklearn.svm import LinearSVC\n",
    "\n",
    "from sklearn.model_selection import cross_val_score\n",
    "from sklearn.decomposition import LatentDirichletAllocation\n",
    "\n",
    "\n",
    "import mglearn\n",
    "\n",
    "\n",
    "import seaborn as sns\n",
    "import matplotlib.pyplot as plt\n"
   ]
  },
  {
   "cell_type": "markdown",
   "id": "2e8252dd",
   "metadata": {},
   "source": [
    "## File Input"
   ]
  },
  {
   "cell_type": "code",
   "execution_count": 10,
   "id": "180c11d4",
   "metadata": {},
   "outputs": [
    {
     "data": {
      "text/html": [
       "<div>\n",
       "<style scoped>\n",
       "    .dataframe tbody tr th:only-of-type {\n",
       "        vertical-align: middle;\n",
       "    }\n",
       "\n",
       "    .dataframe tbody tr th {\n",
       "        vertical-align: top;\n",
       "    }\n",
       "\n",
       "    .dataframe thead th {\n",
       "        text-align: right;\n",
       "    }\n",
       "</style>\n",
       "<table border=\"1\" class=\"dataframe\">\n",
       "  <thead>\n",
       "    <tr style=\"text-align: right;\">\n",
       "      <th></th>\n",
       "      <th>Sentences</th>\n",
       "      <th>length</th>\n",
       "      <th>word_count</th>\n",
       "      <th>length_change</th>\n",
       "      <th>wordcount_change</th>\n",
       "    </tr>\n",
       "  </thead>\n",
       "  <tbody>\n",
       "    <tr>\n",
       "      <th>0</th>\n",
       "      <td>dubai build code 2021 edit content part part b...</td>\n",
       "      <td>791</td>\n",
       "      <td>134</td>\n",
       "      <td>183</td>\n",
       "      <td>0</td>\n",
       "    </tr>\n",
       "    <tr>\n",
       "      <th>1</th>\n",
       "      <td>content dbc base follow input 1) exist regul t...</td>\n",
       "      <td>251</td>\n",
       "      <td>35</td>\n",
       "      <td>76</td>\n",
       "      <td>0</td>\n",
       "    </tr>\n",
       "    <tr>\n",
       "      <th>2</th>\n",
       "      <td>dbc arrang theme integr relev element build de...</td>\n",
       "      <td>166</td>\n",
       "      <td>26</td>\n",
       "      <td>42</td>\n",
       "      <td>0</td>\n",
       "    </tr>\n",
       "    <tr>\n",
       "      <th>3</th>\n",
       "      <td>2 dubai build code part gener a.2 definit note...</td>\n",
       "      <td>131</td>\n",
       "      <td>22</td>\n",
       "      <td>17</td>\n",
       "      <td>0</td>\n",
       "    </tr>\n",
       "    <tr>\n",
       "      <th>4</th>\n",
       "      <td>a.2.1 term addit increas building’ gross area ...</td>\n",
       "      <td>80</td>\n",
       "      <td>12</td>\n",
       "      <td>6</td>\n",
       "      <td>0</td>\n",
       "    </tr>\n",
       "  </tbody>\n",
       "</table>\n",
       "</div>"
      ],
      "text/plain": [
       "                                           Sentences  length  word_count  \\\n",
       "0  dubai build code 2021 edit content part part b...     791         134   \n",
       "1  content dbc base follow input 1) exist regul t...     251          35   \n",
       "2  dbc arrang theme integr relev element build de...     166          26   \n",
       "3  2 dubai build code part gener a.2 definit note...     131          22   \n",
       "4  a.2.1 term addit increas building’ gross area ...      80          12   \n",
       "\n",
       "   length_change  wordcount_change  \n",
       "0            183                 0  \n",
       "1             76                 0  \n",
       "2             42                 0  \n",
       "3             17                 0  \n",
       "4              6                 0  "
      ]
     },
     "execution_count": 10,
     "metadata": {},
     "output_type": "execute_result"
    }
   ],
   "source": [
    "#File Input - Preprocessed and Stemming Normalised Sentence data from SentenceTextPreprocessingAndNormalisation\n",
    "df_sc_s = pd.read_csv('df_sc_s.csv',  index_col = [0])\n",
    "df_sc_s.head()"
   ]
  },
  {
   "cell_type": "code",
   "execution_count": 16,
   "id": "e617399a",
   "metadata": {},
   "outputs": [
    {
     "data": {
      "text/plain": [
       "(4672, 5)"
      ]
     },
     "execution_count": 16,
     "metadata": {},
     "output_type": "execute_result"
    }
   ],
   "source": [
    "df_sc_s.shape"
   ]
  },
  {
   "cell_type": "markdown",
   "id": "1a55bae2",
   "metadata": {},
   "source": [
    "## Vectorization Experiments"
   ]
  },
  {
   "cell_type": "markdown",
   "id": "d404532f",
   "metadata": {},
   "source": [
    "### Bag of Words - Count Vectorizer"
   ]
  },
  {
   "cell_type": "code",
   "execution_count": 4,
   "id": "f3a6c9d5",
   "metadata": {},
   "outputs": [
    {
     "data": {
      "text/html": [
       "<style>#sk-container-id-1 {color: black;background-color: white;}#sk-container-id-1 pre{padding: 0;}#sk-container-id-1 div.sk-toggleable {background-color: white;}#sk-container-id-1 label.sk-toggleable__label {cursor: pointer;display: block;width: 100%;margin-bottom: 0;padding: 0.3em;box-sizing: border-box;text-align: center;}#sk-container-id-1 label.sk-toggleable__label-arrow:before {content: \"▸\";float: left;margin-right: 0.25em;color: #696969;}#sk-container-id-1 label.sk-toggleable__label-arrow:hover:before {color: black;}#sk-container-id-1 div.sk-estimator:hover label.sk-toggleable__label-arrow:before {color: black;}#sk-container-id-1 div.sk-toggleable__content {max-height: 0;max-width: 0;overflow: hidden;text-align: left;background-color: #f0f8ff;}#sk-container-id-1 div.sk-toggleable__content pre {margin: 0.2em;color: black;border-radius: 0.25em;background-color: #f0f8ff;}#sk-container-id-1 input.sk-toggleable__control:checked~div.sk-toggleable__content {max-height: 200px;max-width: 100%;overflow: auto;}#sk-container-id-1 input.sk-toggleable__control:checked~label.sk-toggleable__label-arrow:before {content: \"▾\";}#sk-container-id-1 div.sk-estimator input.sk-toggleable__control:checked~label.sk-toggleable__label {background-color: #d4ebff;}#sk-container-id-1 div.sk-label input.sk-toggleable__control:checked~label.sk-toggleable__label {background-color: #d4ebff;}#sk-container-id-1 input.sk-hidden--visually {border: 0;clip: rect(1px 1px 1px 1px);clip: rect(1px, 1px, 1px, 1px);height: 1px;margin: -1px;overflow: hidden;padding: 0;position: absolute;width: 1px;}#sk-container-id-1 div.sk-estimator {font-family: monospace;background-color: #f0f8ff;border: 1px dotted black;border-radius: 0.25em;box-sizing: border-box;margin-bottom: 0.5em;}#sk-container-id-1 div.sk-estimator:hover {background-color: #d4ebff;}#sk-container-id-1 div.sk-parallel-item::after {content: \"\";width: 100%;border-bottom: 1px solid gray;flex-grow: 1;}#sk-container-id-1 div.sk-label:hover label.sk-toggleable__label {background-color: #d4ebff;}#sk-container-id-1 div.sk-serial::before {content: \"\";position: absolute;border-left: 1px solid gray;box-sizing: border-box;top: 0;bottom: 0;left: 50%;z-index: 0;}#sk-container-id-1 div.sk-serial {display: flex;flex-direction: column;align-items: center;background-color: white;padding-right: 0.2em;padding-left: 0.2em;position: relative;}#sk-container-id-1 div.sk-item {position: relative;z-index: 1;}#sk-container-id-1 div.sk-parallel {display: flex;align-items: stretch;justify-content: center;background-color: white;position: relative;}#sk-container-id-1 div.sk-item::before, #sk-container-id-1 div.sk-parallel-item::before {content: \"\";position: absolute;border-left: 1px solid gray;box-sizing: border-box;top: 0;bottom: 0;left: 50%;z-index: -1;}#sk-container-id-1 div.sk-parallel-item {display: flex;flex-direction: column;z-index: 1;position: relative;background-color: white;}#sk-container-id-1 div.sk-parallel-item:first-child::after {align-self: flex-end;width: 50%;}#sk-container-id-1 div.sk-parallel-item:last-child::after {align-self: flex-start;width: 50%;}#sk-container-id-1 div.sk-parallel-item:only-child::after {width: 0;}#sk-container-id-1 div.sk-dashed-wrapped {border: 1px dashed gray;margin: 0 0.4em 0.5em 0.4em;box-sizing: border-box;padding-bottom: 0.4em;background-color: white;}#sk-container-id-1 div.sk-label label {font-family: monospace;font-weight: bold;display: inline-block;line-height: 1.2em;}#sk-container-id-1 div.sk-label-container {text-align: center;}#sk-container-id-1 div.sk-container {/* jupyter's `normalize.less` sets `[hidden] { display: none; }` but bootstrap.min.css set `[hidden] { display: none !important; }` so we also need the `!important` here to be able to override the default hidden behavior on the sphinx rendered scikit-learn.org. See: https://github.com/scikit-learn/scikit-learn/issues/21755 */display: inline-block !important;position: relative;}#sk-container-id-1 div.sk-text-repr-fallback {display: none;}</style><div id=\"sk-container-id-1\" class=\"sk-top-container\"><div class=\"sk-text-repr-fallback\"><pre>CountVectorizer()</pre><b>In a Jupyter environment, please rerun this cell to show the HTML representation or trust the notebook. <br />On GitHub, the HTML representation is unable to render, please try loading this page with nbviewer.org.</b></div><div class=\"sk-container\" hidden><div class=\"sk-item\"><div class=\"sk-estimator sk-toggleable\"><input class=\"sk-toggleable__control sk-hidden--visually\" id=\"sk-estimator-id-1\" type=\"checkbox\" checked><label for=\"sk-estimator-id-1\" class=\"sk-toggleable__label sk-toggleable__label-arrow\">CountVectorizer</label><div class=\"sk-toggleable__content\"><pre>CountVectorizer()</pre></div></div></div></div></div>"
      ],
      "text/plain": [
       "CountVectorizer()"
      ]
     },
     "execution_count": 4,
     "metadata": {},
     "output_type": "execute_result"
    }
   ],
   "source": [
    "# Using Preprocessed with Stemming\n",
    "vect = CountVectorizer()\n",
    "vect.fit(df_sc_s['Sentences'])\n"
   ]
  },
  {
   "cell_type": "code",
   "execution_count": 11,
   "id": "8ae0ac05",
   "metadata": {},
   "outputs": [],
   "source": [
    "X = vect.fit_transform(df_sc_s['Sentences'])\n"
   ]
  },
  {
   "cell_type": "code",
   "execution_count": 7,
   "id": "353485e0",
   "metadata": {},
   "outputs": [
    {
     "name": "stdout",
     "output_type": "stream",
     "text": [
      "Number of Features: 7336\n",
      "Every 200th Feature:\n",
      "['00', '1703', '44', '800mm', 'administration', 'appropriate', 'bandwidth', 'breakage', 'cathod', 'coastlin', 'contamination', 'damag', 'dimension', 'e84', 'equat', 'feder', 'front', 'guarante', 'hunt', 'insulated', 'label', 'look', 'metering', 'necessit', 'outbreak', 'pew', 'prime', 'rcbo', 'resourc', 'school', 'sifton', 'spill', 'subsection', 'terminated', 'triple', 'vapour', 'winder']\n"
     ]
    }
   ],
   "source": [
    "feature_names = vect.get_feature_names()\n",
    "print(\"Number of Features: {}\".format(len(feature_names)))\n",
    "print(\"Every 200th Feature:\\n{}\".format(feature_names[::200]))"
   ]
  },
  {
   "cell_type": "markdown",
   "id": "75b4fa51",
   "metadata": {},
   "source": [
    "# Topic Modelling"
   ]
  },
  {
   "cell_type": "markdown",
   "id": "ac35ef63",
   "metadata": {},
   "source": [
    "## Using Latent Dirichlet Allocation Algorithm to build Vacabulary for 10 topics"
   ]
  },
  {
   "cell_type": "code",
   "execution_count": 12,
   "id": "42cdb6b1",
   "metadata": {},
   "outputs": [],
   "source": [
    "lda = LatentDirichletAllocation(n_components = 10, learning_method=\"batch\",\n",
    "                               max_iter = 25, random_state=0)"
   ]
  },
  {
   "cell_type": "code",
   "execution_count": 13,
   "id": "b8ee3daa",
   "metadata": {},
   "outputs": [],
   "source": [
    "document_topics = lda.fit_transform(X)"
   ]
  },
  {
   "cell_type": "markdown",
   "id": "2b811d31",
   "metadata": {},
   "source": [
    "### Checking the shape of the model"
   ]
  },
  {
   "cell_type": "code",
   "execution_count": 14,
   "id": "2216c5e7",
   "metadata": {},
   "outputs": [
    {
     "name": "stdout",
     "output_type": "stream",
     "text": [
      "lda.components_.shape: (10, 7336)\n"
     ]
    }
   ],
   "source": [
    "print(\"lda.components_.shape: {}\".format(lda.components_.shape))"
   ]
  },
  {
   "cell_type": "markdown",
   "id": "a7ae88a6",
   "metadata": {},
   "source": [
    "### Sort and Get Feature Names"
   ]
  },
  {
   "cell_type": "code",
   "execution_count": 17,
   "id": "d669735b",
   "metadata": {},
   "outputs": [
    {
     "name": "stderr",
     "output_type": "stream",
     "text": [
      "C:\\Users\\yash.hemnani\\AppData\\Roaming\\Python\\Python39\\site-packages\\sklearn\\utils\\deprecation.py:87: FutureWarning: Function get_feature_names is deprecated; get_feature_names is deprecated in 1.0 and will be removed in 1.2. Please use get_feature_names_out instead.\n",
      "  warnings.warn(msg, category=FutureWarning)\n"
     ]
    }
   ],
   "source": [
    "# for each topic (a row in the components_), sort teh features (ascending)\n",
    "# Invert each row with [:, ::-1] to make sorting descending\n",
    "sorting = np.argsort (lda.components_, axis = 1)[:, ::-1]\n",
    "\n",
    "# get the feature names from the vectorizer:\n",
    "feature_names = np.array(vect.get_feature_names())\n"
   ]
  },
  {
   "cell_type": "markdown",
   "id": "0ad82e7b",
   "metadata": {},
   "source": [
    "### Displaying 10 topics"
   ]
  },
  {
   "cell_type": "code",
   "execution_count": 20,
   "id": "4baae64c",
   "metadata": {},
   "outputs": [
    {
     "name": "stdout",
     "output_type": "stream",
     "text": [
      "topic 0       topic 1       topic 2       topic 3       topic 4       \n",
      "--------      --------      --------      --------      --------      \n",
      "shall         shall         cabl          shall         shall         \n",
      "mm            load          shall         air           water         \n",
      "access        build         build         system        system        \n",
      "figur         structur      fibr          instal        ref           \n",
      "provid        design        plot          bs            uae           \n",
      "minimum       use           provid        cabl          fire          \n",
      "space         area          core          en            requir        \n",
      "height        tabl          servic        electr        flsc          \n",
      "door          includ        requir        ventil        build         \n",
      "side          requir        apc           use           ch            \n",
      "\n",
      "\n",
      "topic 5       topic 6       topic 7       topic 8       topic 9       \n",
      "--------      --------      --------      --------      --------      \n",
      "shall         figur         build         dubai         elev          \n",
      "circuit       01            part          bs            shall         \n",
      "earth         02            code          en            build         \n",
      "instal        03            dubai         ref           area          \n",
      "dewa          key           design        geotechn      room          \n",
      "connect       build         system        health        tabl          \n",
      "protect       dubai         standard      test          occup         \n",
      "electr        04            energi        design        number        \n",
      "current       part          use           soil          minimum       \n",
      "suppli        code          ref           shall         one           \n",
      "\n",
      "\n"
     ]
    }
   ],
   "source": [
    "# Print out the 10 topics\n",
    "mglearn.tools.print_topics(topics = range(10), feature_names= feature_names,\n",
    "                           sorting = sorting, topics_per_chunk = 5, n_words = 10)"
   ]
  },
  {
   "cell_type": "markdown",
   "id": "c0381d6e",
   "metadata": {},
   "source": [
    "###  Remodelling for 100 topics"
   ]
  },
  {
   "cell_type": "code",
   "execution_count": 21,
   "id": "7bea8604",
   "metadata": {},
   "outputs": [],
   "source": [
    "lda100 = LatentDirichletAllocation(n_components = 100, learning_method = \"batch\", \n",
    "                                  max_iter = 25, random_state = 0)"
   ]
  },
  {
   "cell_type": "code",
   "execution_count": 22,
   "id": "57e550e7",
   "metadata": {},
   "outputs": [],
   "source": [
    "document_topics100 = lda100.fit_transform(X)\n"
   ]
  },
  {
   "cell_type": "markdown",
   "id": "0cd6434d",
   "metadata": {},
   "source": [
    "#### Randomly choosing 15 Topics to display"
   ]
  },
  {
   "cell_type": "code",
   "execution_count": 23,
   "id": "2614d570",
   "metadata": {},
   "outputs": [],
   "source": [
    "topics  = np.array([3, 8, 16, 24, 35, 45, 49, 53, 58, 62, 74, 86, 90, 97, 99])"
   ]
  },
  {
   "cell_type": "markdown",
   "id": "c63f3d8c",
   "metadata": {},
   "source": [
    "#### Sort and Display Topics"
   ]
  },
  {
   "cell_type": "code",
   "execution_count": 24,
   "id": "22db97d0",
   "metadata": {
    "scrolled": false
   },
   "outputs": [
    {
     "name": "stdout",
     "output_type": "stream",
     "text": [
      "topic 3       topic 8       topic 16      topic 24      topic 35      \n",
      "--------      --------      --------      --------      --------      \n",
      "shall         site          shall         requir        tank          \n",
      "ref           geotechn      network       follow        water         \n",
      "regul         shall         within        shall         shall         \n",
      "design        work          stack         meet          hold          \n",
      "avoid         investig      control       build         network       \n",
      "corner        precast       build         perform       locat         \n",
      "wat           engin         topolog       met           non           \n",
      "way           design        institut      design        septic        \n",
      "fittings      specialist    technology    servic        provid        \n",
      "provid        contractor    sanit         statement     connect       \n",
      "compli        2019          ventil        limit         twist         \n",
      "includ        figur         discharg      provid        pipe          \n",
      "42            report        engin         11            pair          \n",
      "part          excav         base          provis        build         \n",
      "56            accord        vent          includ        sewag         \n",
      "sand          land          fit           requirements  divis         \n",
      "instal        situ          connect       base          ip            \n",
      "direction     condit        figur         specif        reinforc      \n",
      "respect       issu          rod           develop       grp           \n",
      "specif        provid        deflect       also          dubai         \n",
      "\n",
      "\n",
      "topic 45      topic 49      topic 53      topic 58      topic 62      \n",
      "--------      --------      --------      --------      --------      \n",
      "unless        plot          floor         build         shall         \n",
      "wall          limit         level         part          pipe          \n",
      "shall         build         ground        code          slab          \n",
      "breaker       setback       basement      dubai         size          \n",
      "circuit       road          surfac        villa         attic         \n",
      "exterior      plan          finish        gener         passiv        \n",
      "four          figur         shall         indoor        pon           \n",
      "kv            shall         area          environ       electr        \n",
      "consum        affect        roof          architectur   signal        \n",
      "premis        within        contrast      10            floor         \n",
      "premises      architectur   height        envelop       fttx          \n",
      "main          project       build         shall         ratio         \n",
      "includ        height        room          design        optic         \n",
      "need          dcr           locat         requir        louver        \n",
      "conform       allow         counter       building      cover         \n",
      "point         neighbour     wall          section       enclosur      \n",
      "specifi       villa         visual        safe          aluminium     \n",
      "equip         see           gate          structur      separ         \n",
      "spread        structur      reflect       perform       use           \n",
      "provid        balconi       point         system        80            \n",
      "\n",
      "\n",
      "topic 74      topic 86      topic 90      topic 97      topic 99      \n",
      "--------      --------      --------      --------      --------      \n",
      "10            door          shall         iec           chang         \n",
      "30            shall         load          iso           courtyard     \n",
      "12            access        cool          inform        toilet        \n",
      "15            open          water         test          bathroom      \n",
      "tabl          locat         use           technolog     accessori     \n",
      "20            minimum       recycl        specif        block         \n",
      "000           width         requir        part          mount         \n",
      "16            requir        sampl         build         famili        \n",
      "11            area          forc          telecommun    heavi         \n",
      "500           clear         tower         cabl          shall         \n",
      "13            swing         includ        11801         toilets       \n",
      "25            entranc       minimum       custom        duti          \n",
      "14            vehicular     draw          premis        includ        \n",
      "17            figur         provid        regulatori    sect          \n",
      "18            lux           direct        pile          babi          \n",
      "60            posit         provided      gener         112           \n",
      "300           adjac         system        duct          figur         \n",
      "21            vehicl        reus          industri      exit          \n",
      "figur         outsid        strain        tra           cross         \n",
      "chart         side          meter         procedur      maximum       \n",
      "\n",
      "\n"
     ]
    },
    {
     "name": "stderr",
     "output_type": "stream",
     "text": [
      "C:\\Users\\yash.hemnani\\AppData\\Roaming\\Python\\Python39\\site-packages\\sklearn\\utils\\deprecation.py:87: FutureWarning: Function get_feature_names is deprecated; get_feature_names is deprecated in 1.0 and will be removed in 1.2. Please use get_feature_names_out instead.\n",
      "  warnings.warn(msg, category=FutureWarning)\n"
     ]
    }
   ],
   "source": [
    "sorting = np.argsort(lda100.components_, axis = 1)[:, ::-1]\n",
    "feature_names = np.array(vect.get_feature_names())\n",
    "mglearn.tools.print_topics(topics = topics, feature_names= feature_names,\n",
    "                           sorting = sorting, topics_per_chunk = 5, n_words = 20)"
   ]
  },
  {
   "cell_type": "code",
   "execution_count": 26,
   "id": "cfa0921a",
   "metadata": {},
   "outputs": [
    {
     "data": {
      "image/png": "[encoded data removed]",
      "text/plain": [
       "<Figure size 720x720 with 2 Axes>"
      ]
     },
     "metadata": {
      "needs_background": "light"
     },
     "output_type": "display_data"
    }
   ],
   "source": [
    "fig, ax = plt.subplots(1, 2, figsize = (10, 10))\n",
    "topic_names = [\"{:>2} \".format(i) + \" \".join(words)\n",
    "              for i, words in enumerate(feature_names[sorting[:, :2]])]\n",
    "\n",
    "# two column bar chart\n",
    "for col in [0, 1]:\n",
    "    start = col * 50\n",
    "    end = (col +1) * 50\n",
    "    ax[col].barh(np.arange(50), np.sum(document_topics100, axis= 0)[start : end])\n",
    "    ax[col].set_yticks(np.arange(50))\n",
    "    ax[col].set_yticklabels(topic_names[start:end], ha = \"left\", va = \"top\")\n",
    "    ax[col].invert_yaxis()\n",
    "    ax[col].set_xlim(10,500)\n",
    "    yax = ax[col].get_yaxis()\n",
    "    yax.set_tick_params(pad = 130)\n",
    "    \n",
    "plt.tight_layout()\n",
    "    "
   ]
  },
  {
   "cell_type": "code",
   "execution_count": null,
   "id": "7a5c66be",
   "metadata": {},
   "outputs": [],
   "source": []
  }
 ],
 "metadata": {
  "kernelspec": {
   "display_name": "Python 3 (ipykernel)",
   "language": "python",
   "name": "python3"
  },
  "language_info": {
   "codemirror_mode": {
    "name": "ipython",
    "version": 3
   },
   "file_extension": ".py",
   "mimetype": "text/x-python",
   "name": "python",
   "nbconvert_exporter": "python",
   "pygments_lexer": "ipython3",
   "version": "3.9.12"
  }
 },
 "nbformat": 4,
 "nbformat_minor": 5
}
