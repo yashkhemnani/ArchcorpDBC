{
 "cells": [
  {
   "cell_type": "markdown",
   "id": "33022218",
   "metadata": {},
   "source": [
    "# SentenceTextProcessing_Normalisation\n"
   ]
  },
  {
   "cell_type": "markdown",
   "id": "23941c1f",
   "metadata": {},
   "source": [
    "## Importing Libraries"
   ]
  },
  {
   "cell_type": "code",
   "execution_count": 1,
   "id": "229a33d7",
   "metadata": {},
   "outputs": [],
   "source": [
    "import pandas as pd\n",
    "import numpy as np\n",
    "import seaborn as sns\n",
    "import matplotlib as mpl\n",
    "import matplotlib.pyplot as plt\n",
    "\n",
    "\n",
    "import re\n",
    "from nltk.corpus import stopwords"
   ]
  },
  {
   "cell_type": "code",
   "execution_count": 2,
   "id": "460c3e06",
   "metadata": {},
   "outputs": [],
   "source": [
    "from nltk import FreqDist"
   ]
  },
  {
   "cell_type": "code",
   "execution_count": 3,
   "id": "eb0d8168",
   "metadata": {},
   "outputs": [
    {
     "name": "stderr",
     "output_type": "stream",
     "text": [
      "[nltk_data] Downloading package stopwords to\n",
      "[nltk_data]     C:\\Users\\yash.hemnani\\AppData\\Roaming\\nltk_data...\n",
      "[nltk_data]   Package stopwords is already up-to-date!\n",
      "[nltk_data] Downloading package wordnet to\n",
      "[nltk_data]     C:\\Users\\yash.hemnani\\AppData\\Roaming\\nltk_data...\n",
      "[nltk_data]   Package wordnet is already up-to-date!\n"
     ]
    }
   ],
   "source": [
    "# Custom ProcessingAndNor.ipynb module to perform PreProcessing and Normalisation for Function reuse\n",
    "%run ProcessingAndNorm.ipynb"
   ]
  },
  {
   "cell_type": "markdown",
   "id": "9642d8d7",
   "metadata": {},
   "source": [
    "## Loading the Sentences Cleaned Dot New Line. CSV"
   ]
  },
  {
   "cell_type": "code",
   "execution_count": 4,
   "id": "5c11f419",
   "metadata": {},
   "outputs": [],
   "source": [
    "df_sc = pd.read_csv('SentencesCleanedDotNewLine.csv', index_col = [0])"
   ]
  },
  {
   "cell_type": "code",
   "execution_count": 5,
   "id": "c6da208a",
   "metadata": {},
   "outputs": [
    {
     "data": {
      "text/html": [
       "<div>\n",
       "<style scoped>\n",
       "    .dataframe tbody tr th:only-of-type {\n",
       "        vertical-align: middle;\n",
       "    }\n",
       "\n",
       "    .dataframe tbody tr th {\n",
       "        vertical-align: top;\n",
       "    }\n",
       "\n",
       "    .dataframe thead th {\n",
       "        text-align: right;\n",
       "    }\n",
       "</style>\n",
       "<table border=\"1\" class=\"dataframe\">\n",
       "  <thead>\n",
       "    <tr style=\"text-align: right;\">\n",
       "      <th></th>\n",
       "      <th>Sentences</th>\n",
       "      <th>Char_Count</th>\n",
       "    </tr>\n",
       "  </thead>\n",
       "  <tbody>\n",
       "    <tr>\n",
       "      <th>0</th>\n",
       "      <td>Dubai Building Code 2021 Edition Contents Part...</td>\n",
       "      <td>1140</td>\n",
       "    </tr>\n",
       "    <tr>\n",
       "      <th>1</th>\n",
       "      <td>The content of the DBC is based on the followi...</td>\n",
       "      <td>402</td>\n",
       "    </tr>\n",
       "    <tr>\n",
       "      <th>2</th>\n",
       "      <td>The DBC is arranged under themes to integrate ...</td>\n",
       "      <td>288</td>\n",
       "    </tr>\n",
       "    <tr>\n",
       "      <th>3</th>\n",
       "      <td>A 2 Dubai Building Code Part A: General A.2 De...</td>\n",
       "      <td>191</td>\n",
       "    </tr>\n",
       "    <tr>\n",
       "      <th>4</th>\n",
       "      <td>A.2.1 Terms Addition: Increase to a building’s...</td>\n",
       "      <td>98</td>\n",
       "    </tr>\n",
       "  </tbody>\n",
       "</table>\n",
       "</div>"
      ],
      "text/plain": [
       "                                           Sentences  Char_Count\n",
       "0  Dubai Building Code 2021 Edition Contents Part...        1140\n",
       "1  The content of the DBC is based on the followi...         402\n",
       "2  The DBC is arranged under themes to integrate ...         288\n",
       "3  A 2 Dubai Building Code Part A: General A.2 De...         191\n",
       "4  A.2.1 Terms Addition: Increase to a building’s...          98"
      ]
     },
     "execution_count": 5,
     "metadata": {},
     "output_type": "execute_result"
    }
   ],
   "source": [
    "df_sc.head()"
   ]
  },
  {
   "cell_type": "code",
   "execution_count": 6,
   "id": "aa5b01b9",
   "metadata": {},
   "outputs": [
    {
     "data": {
      "text/plain": [
       "Text(0.5, 1.0, 'Null values in given data')"
      ]
     },
     "execution_count": 6,
     "metadata": {},
     "output_type": "execute_result"
    },
    {
     "data": {
      "image/png": "[encoded data removed]",
      "text/plain": [
       "<Figure size 432x288 with 2 Axes>"
      ]
     },
     "metadata": {
      "needs_background": "light"
     },
     "output_type": "display_data"
    }
   ],
   "source": [
    "#Heatmap to check null/NaN Values\n",
    "sns.heatmap(df_sc.isnull(),cbar = True, yticklabels = False)\n",
    "plt.title('Null values in given data')"
   ]
  },
  {
   "cell_type": "markdown",
   "id": "5d087adb",
   "metadata": {},
   "source": [
    "## Function Definitions"
   ]
  },
  {
   "cell_type": "code",
   "execution_count": 7,
   "id": "94a4735b",
   "metadata": {},
   "outputs": [],
   "source": [
    "def Calculate_Len_NoOfWords(df):\n",
    "    df['length'] = df['Sentences'].apply(len)\n",
    "    df['word_count'] = df['Sentences'].apply(lambda x: len(str(x).split()))\n",
    "    return df\n",
    "\n",
    "#Function to plot more frequent terms\n",
    "\n",
    "def freq_words(x, terms = 30):\n",
    "    all_words = ' '.join([text for text in x])\n",
    "    all_words = all_words.split()\n",
    "    \n",
    "    fdist = FreqDist(all_words)\n",
    "    words_df = pd.DataFrame({'word':list(fdist.keys()), 'count':list(fdist.values())})\n",
    "    \n",
    "    \n",
    "    #selecting top 20 most frequent words\n",
    "    \n",
    "    d = words_df.nlargest(columns = \"count\", n = terms)\n",
    "    plt.figure(figsize = (20,5))\n",
    "    ax = sns.barplot(data = d, x = \"word\", y = 'count')\n",
    "    ax.set(ylabel = 'count')\n",
    "    plt.show()"
   ]
  },
  {
   "cell_type": "code",
   "execution_count": 8,
   "id": "207e1611",
   "metadata": {},
   "outputs": [
    {
     "data": {
      "text/html": [
       "<div>\n",
       "<style scoped>\n",
       "    .dataframe tbody tr th:only-of-type {\n",
       "        vertical-align: middle;\n",
       "    }\n",
       "\n",
       "    .dataframe tbody tr th {\n",
       "        vertical-align: top;\n",
       "    }\n",
       "\n",
       "    .dataframe thead th {\n",
       "        text-align: right;\n",
       "    }\n",
       "</style>\n",
       "<table border=\"1\" class=\"dataframe\">\n",
       "  <thead>\n",
       "    <tr style=\"text-align: right;\">\n",
       "      <th></th>\n",
       "      <th>Sentences</th>\n",
       "      <th>Char_Count</th>\n",
       "      <th>length</th>\n",
       "      <th>word_count</th>\n",
       "    </tr>\n",
       "  </thead>\n",
       "  <tbody>\n",
       "    <tr>\n",
       "      <th>0</th>\n",
       "      <td>Dubai Building Code 2021 Edition Contents Part...</td>\n",
       "      <td>1140</td>\n",
       "      <td>1140</td>\n",
       "      <td>181</td>\n",
       "    </tr>\n",
       "    <tr>\n",
       "      <th>1</th>\n",
       "      <td>The content of the DBC is based on the followi...</td>\n",
       "      <td>402</td>\n",
       "      <td>402</td>\n",
       "      <td>53</td>\n",
       "    </tr>\n",
       "    <tr>\n",
       "      <th>2</th>\n",
       "      <td>The DBC is arranged under themes to integrate ...</td>\n",
       "      <td>288</td>\n",
       "      <td>288</td>\n",
       "      <td>47</td>\n",
       "    </tr>\n",
       "    <tr>\n",
       "      <th>3</th>\n",
       "      <td>A 2 Dubai Building Code Part A: General A.2 De...</td>\n",
       "      <td>191</td>\n",
       "      <td>191</td>\n",
       "      <td>33</td>\n",
       "    </tr>\n",
       "    <tr>\n",
       "      <th>4</th>\n",
       "      <td>A.2.1 Terms Addition: Increase to a building’s...</td>\n",
       "      <td>98</td>\n",
       "      <td>98</td>\n",
       "      <td>16</td>\n",
       "    </tr>\n",
       "    <tr>\n",
       "      <th>...</th>\n",
       "      <td>...</td>\n",
       "      <td>...</td>\n",
       "      <td>...</td>\n",
       "      <td>...</td>\n",
       "    </tr>\n",
       "    <tr>\n",
       "      <th>5419</th>\n",
       "      <td>As a minimum, occupancy sensors shall be provi...</td>\n",
       "      <td>325</td>\n",
       "      <td>325</td>\n",
       "      <td>47</td>\n",
       "    </tr>\n",
       "    <tr>\n",
       "      <th>5420</th>\n",
       "      <td>K.10.5 Fire safety systems Emergency lighting ...</td>\n",
       "      <td>190</td>\n",
       "      <td>190</td>\n",
       "      <td>28</td>\n",
       "    </tr>\n",
       "    <tr>\n",
       "      <th>5421</th>\n",
       "      <td>Fire detection and alarm K.10.5.2 Table 8.13, ...</td>\n",
       "      <td>232</td>\n",
       "      <td>232</td>\n",
       "      <td>41</td>\n",
       "    </tr>\n",
       "    <tr>\n",
       "      <th>5422</th>\n",
       "      <td>The fire alarm control panel or the monitoring...</td>\n",
       "      <td>246</td>\n",
       "      <td>246</td>\n",
       "      <td>38</td>\n",
       "    </tr>\n",
       "    <tr>\n",
       "      <th>5423</th>\n",
       "      <td>K 171 Dubai Building Code Part K: Villas K.11 ...</td>\n",
       "      <td>208</td>\n",
       "      <td>208</td>\n",
       "      <td>37</td>\n",
       "    </tr>\n",
       "  </tbody>\n",
       "</table>\n",
       "<p>4672 rows × 4 columns</p>\n",
       "</div>"
      ],
      "text/plain": [
       "                                              Sentences  Char_Count  length  \\\n",
       "0     Dubai Building Code 2021 Edition Contents Part...        1140    1140   \n",
       "1     The content of the DBC is based on the followi...         402     402   \n",
       "2     The DBC is arranged under themes to integrate ...         288     288   \n",
       "3     A 2 Dubai Building Code Part A: General A.2 De...         191     191   \n",
       "4     A.2.1 Terms Addition: Increase to a building’s...          98      98   \n",
       "...                                                 ...         ...     ...   \n",
       "5419  As a minimum, occupancy sensors shall be provi...         325     325   \n",
       "5420  K.10.5 Fire safety systems Emergency lighting ...         190     190   \n",
       "5421  Fire detection and alarm K.10.5.2 Table 8.13, ...         232     232   \n",
       "5422  The fire alarm control panel or the monitoring...         246     246   \n",
       "5423  K 171 Dubai Building Code Part K: Villas K.11 ...         208     208   \n",
       "\n",
       "      word_count  \n",
       "0            181  \n",
       "1             53  \n",
       "2             47  \n",
       "3             33  \n",
       "4             16  \n",
       "...          ...  \n",
       "5419          47  \n",
       "5420          28  \n",
       "5421          41  \n",
       "5422          38  \n",
       "5423          37  \n",
       "\n",
       "[4672 rows x 4 columns]"
      ]
     },
     "execution_count": 8,
     "metadata": {},
     "output_type": "execute_result"
    }
   ],
   "source": [
    "df_sc = Calculate_Len_NoOfWords(df_sc)\n",
    "df_sc"
   ]
  },
  {
   "cell_type": "code",
   "execution_count": 9,
   "id": "cde91910",
   "metadata": {},
   "outputs": [
    {
     "data": {
      "text/html": [
       "<div>\n",
       "<style scoped>\n",
       "    .dataframe tbody tr th:only-of-type {\n",
       "        vertical-align: middle;\n",
       "    }\n",
       "\n",
       "    .dataframe tbody tr th {\n",
       "        vertical-align: top;\n",
       "    }\n",
       "\n",
       "    .dataframe thead th {\n",
       "        text-align: right;\n",
       "    }\n",
       "</style>\n",
       "<table border=\"1\" class=\"dataframe\">\n",
       "  <thead>\n",
       "    <tr style=\"text-align: right;\">\n",
       "      <th></th>\n",
       "      <th>Sentences</th>\n",
       "      <th>length</th>\n",
       "      <th>word_count</th>\n",
       "    </tr>\n",
       "  </thead>\n",
       "  <tbody>\n",
       "    <tr>\n",
       "      <th>0</th>\n",
       "      <td>Dubai Building Code 2021 Edition Contents Part...</td>\n",
       "      <td>1140</td>\n",
       "      <td>181</td>\n",
       "    </tr>\n",
       "    <tr>\n",
       "      <th>1</th>\n",
       "      <td>The content of the DBC is based on the followi...</td>\n",
       "      <td>402</td>\n",
       "      <td>53</td>\n",
       "    </tr>\n",
       "    <tr>\n",
       "      <th>2</th>\n",
       "      <td>The DBC is arranged under themes to integrate ...</td>\n",
       "      <td>288</td>\n",
       "      <td>47</td>\n",
       "    </tr>\n",
       "    <tr>\n",
       "      <th>3</th>\n",
       "      <td>A 2 Dubai Building Code Part A: General A.2 De...</td>\n",
       "      <td>191</td>\n",
       "      <td>33</td>\n",
       "    </tr>\n",
       "    <tr>\n",
       "      <th>4</th>\n",
       "      <td>A.2.1 Terms Addition: Increase to a building’s...</td>\n",
       "      <td>98</td>\n",
       "      <td>16</td>\n",
       "    </tr>\n",
       "  </tbody>\n",
       "</table>\n",
       "</div>"
      ],
      "text/plain": [
       "                                           Sentences  length  word_count\n",
       "0  Dubai Building Code 2021 Edition Contents Part...    1140         181\n",
       "1  The content of the DBC is based on the followi...     402          53\n",
       "2  The DBC is arranged under themes to integrate ...     288          47\n",
       "3  A 2 Dubai Building Code Part A: General A.2 De...     191          33\n",
       "4  A.2.1 Terms Addition: Increase to a building’s...      98          16"
      ]
     },
     "execution_count": 9,
     "metadata": {},
     "output_type": "execute_result"
    }
   ],
   "source": [
    "del df_sc['Char_Count']\n",
    "df_sc.head()"
   ]
  },
  {
   "cell_type": "markdown",
   "id": "e3e678cd",
   "metadata": {},
   "source": [
    "## Processing Experiments"
   ]
  },
  {
   "cell_type": "code",
   "execution_count": 10,
   "id": "a4c9190e",
   "metadata": {},
   "outputs": [],
   "source": [
    "df_sc_copy = df_sc.copy()"
   ]
  },
  {
   "cell_type": "code",
   "execution_count": 11,
   "id": "678412d9",
   "metadata": {
    "scrolled": true
   },
   "outputs": [
    {
     "data": {
      "text/html": [
       "<div>\n",
       "<style scoped>\n",
       "    .dataframe tbody tr th:only-of-type {\n",
       "        vertical-align: middle;\n",
       "    }\n",
       "\n",
       "    .dataframe tbody tr th {\n",
       "        vertical-align: top;\n",
       "    }\n",
       "\n",
       "    .dataframe thead th {\n",
       "        text-align: right;\n",
       "    }\n",
       "</style>\n",
       "<table border=\"1\" class=\"dataframe\">\n",
       "  <thead>\n",
       "    <tr style=\"text-align: right;\">\n",
       "      <th></th>\n",
       "      <th>Sentences</th>\n",
       "      <th>length</th>\n",
       "      <th>word_count</th>\n",
       "    </tr>\n",
       "  </thead>\n",
       "  <tbody>\n",
       "    <tr>\n",
       "      <th>0</th>\n",
       "      <td>Dubai Building Code 2021 Edition Contents Part...</td>\n",
       "      <td>1140</td>\n",
       "      <td>181</td>\n",
       "    </tr>\n",
       "    <tr>\n",
       "      <th>1</th>\n",
       "      <td>The content of the DBC is based on the followi...</td>\n",
       "      <td>402</td>\n",
       "      <td>53</td>\n",
       "    </tr>\n",
       "    <tr>\n",
       "      <th>2</th>\n",
       "      <td>The DBC is arranged under themes to integrate ...</td>\n",
       "      <td>288</td>\n",
       "      <td>47</td>\n",
       "    </tr>\n",
       "    <tr>\n",
       "      <th>3</th>\n",
       "      <td>A 2 Dubai Building Code Part A: General A.2 De...</td>\n",
       "      <td>191</td>\n",
       "      <td>33</td>\n",
       "    </tr>\n",
       "    <tr>\n",
       "      <th>4</th>\n",
       "      <td>A.2.1 Terms Addition: Increase to a building’s...</td>\n",
       "      <td>98</td>\n",
       "      <td>16</td>\n",
       "    </tr>\n",
       "  </tbody>\n",
       "</table>\n",
       "</div>"
      ],
      "text/plain": [
       "                                           Sentences  length  word_count\n",
       "0  Dubai Building Code 2021 Edition Contents Part...    1140         181\n",
       "1  The content of the DBC is based on the followi...     402          53\n",
       "2  The DBC is arranged under themes to integrate ...     288          47\n",
       "3  A 2 Dubai Building Code Part A: General A.2 De...     191          33\n",
       "4  A.2.1 Terms Addition: Increase to a building’s...      98          16"
      ]
     },
     "execution_count": 11,
     "metadata": {},
     "output_type": "execute_result"
    }
   ],
   "source": [
    "df_sc_copy.head()"
   ]
  },
  {
   "cell_type": "code",
   "execution_count": 12,
   "id": "93aa7f7a",
   "metadata": {},
   "outputs": [
    {
     "data": {
      "text/plain": [
       "'Right of way (ROW): Strip of land occupied or intended to be occupied by a road, sidewalk, crosswalk, railroad, electric transmission line, oil or gas pipeline, water line, sanitary storm sewer, and other similar uses; the right of one to pass over the property of another'"
      ]
     },
     "execution_count": 12,
     "metadata": {},
     "output_type": "execute_result"
    }
   ],
   "source": [
    "#Check Sample text\n",
    "df_sc_copy['Sentences'].loc[224]"
   ]
  },
  {
   "cell_type": "code",
   "execution_count": 13,
   "id": "53422312",
   "metadata": {},
   "outputs": [],
   "source": [
    "df_sc_copy = To_Lower(df_sc_copy, 'Sentences')\n",
    "df_sc_copy = Calculate_Len_NoOfWords(df_sc_copy)"
   ]
  },
  {
   "cell_type": "code",
   "execution_count": 14,
   "id": "66dac4f5",
   "metadata": {},
   "outputs": [
    {
     "data": {
      "text/plain": [
       "'the content of the dbc is based on the following inputs: 1) existing regulations and technical requirements produced by the various authorities and service providers; 2) interviews with government authorities, service providers, master developers, consultants and other stakeholders to understand gaps or inconsistencies between existing regulations; 3) benchmarking to international and regional codes'"
      ]
     },
     "execution_count": 14,
     "metadata": {},
     "output_type": "execute_result"
    }
   ],
   "source": [
    "df_sc_copy['Sentences'].loc[1]"
   ]
  },
  {
   "cell_type": "markdown",
   "id": "c8d0b645",
   "metadata": {},
   "source": [
    "Discussion: We can see that all the upper case has been changed into lower case. The effect can be seen later on when we create a vector representation which will have a smaller dictionary"
   ]
  },
  {
   "cell_type": "code",
   "execution_count": 15,
   "id": "3a90e938",
   "metadata": {},
   "outputs": [
    {
     "data": {
      "text/html": [
       "<div>\n",
       "<style scoped>\n",
       "    .dataframe tbody tr th:only-of-type {\n",
       "        vertical-align: middle;\n",
       "    }\n",
       "\n",
       "    .dataframe tbody tr th {\n",
       "        vertical-align: top;\n",
       "    }\n",
       "\n",
       "    .dataframe thead th {\n",
       "        text-align: right;\n",
       "    }\n",
       "</style>\n",
       "<table border=\"1\" class=\"dataframe\">\n",
       "  <thead>\n",
       "    <tr style=\"text-align: right;\">\n",
       "      <th></th>\n",
       "      <th>Sentences</th>\n",
       "      <th>length</th>\n",
       "      <th>word_count</th>\n",
       "    </tr>\n",
       "  </thead>\n",
       "  <tbody>\n",
       "    <tr>\n",
       "      <th>0</th>\n",
       "      <td>dubai building code 2021 edition contents part...</td>\n",
       "      <td>1140</td>\n",
       "      <td>181</td>\n",
       "    </tr>\n",
       "    <tr>\n",
       "      <th>1</th>\n",
       "      <td>the content of the dbc is based on the followi...</td>\n",
       "      <td>402</td>\n",
       "      <td>53</td>\n",
       "    </tr>\n",
       "    <tr>\n",
       "      <th>2</th>\n",
       "      <td>the dbc is arranged under themes to integrate ...</td>\n",
       "      <td>288</td>\n",
       "      <td>47</td>\n",
       "    </tr>\n",
       "    <tr>\n",
       "      <th>3</th>\n",
       "      <td>a 2 dubai building code part a: general a.2 de...</td>\n",
       "      <td>191</td>\n",
       "      <td>33</td>\n",
       "    </tr>\n",
       "    <tr>\n",
       "      <th>4</th>\n",
       "      <td>a.2.1 terms addition: increase to a building’s...</td>\n",
       "      <td>98</td>\n",
       "      <td>16</td>\n",
       "    </tr>\n",
       "    <tr>\n",
       "      <th>...</th>\n",
       "      <td>...</td>\n",
       "      <td>...</td>\n",
       "      <td>...</td>\n",
       "    </tr>\n",
       "    <tr>\n",
       "      <th>5419</th>\n",
       "      <td>as a minimum, occupancy sensors shall be provi...</td>\n",
       "      <td>325</td>\n",
       "      <td>47</td>\n",
       "    </tr>\n",
       "    <tr>\n",
       "      <th>5420</th>\n",
       "      <td>k.10.5 fire safety systems emergency lighting ...</td>\n",
       "      <td>190</td>\n",
       "      <td>28</td>\n",
       "    </tr>\n",
       "    <tr>\n",
       "      <th>5421</th>\n",
       "      <td>fire detection and alarm k.10.5.2 table 8.13, ...</td>\n",
       "      <td>232</td>\n",
       "      <td>41</td>\n",
       "    </tr>\n",
       "    <tr>\n",
       "      <th>5422</th>\n",
       "      <td>the fire alarm control panel or the monitoring...</td>\n",
       "      <td>246</td>\n",
       "      <td>38</td>\n",
       "    </tr>\n",
       "    <tr>\n",
       "      <th>5423</th>\n",
       "      <td>k 171 dubai building code part k: villas k.11 ...</td>\n",
       "      <td>208</td>\n",
       "      <td>37</td>\n",
       "    </tr>\n",
       "  </tbody>\n",
       "</table>\n",
       "<p>4672 rows × 3 columns</p>\n",
       "</div>"
      ],
      "text/plain": [
       "                                              Sentences  length  word_count\n",
       "0     dubai building code 2021 edition contents part...    1140         181\n",
       "1     the content of the dbc is based on the followi...     402          53\n",
       "2     the dbc is arranged under themes to integrate ...     288          47\n",
       "3     a 2 dubai building code part a: general a.2 de...     191          33\n",
       "4     a.2.1 terms addition: increase to a building’s...      98          16\n",
       "...                                                 ...     ...         ...\n",
       "5419  as a minimum, occupancy sensors shall be provi...     325          47\n",
       "5420  k.10.5 fire safety systems emergency lighting ...     190          28\n",
       "5421  fire detection and alarm k.10.5.2 table 8.13, ...     232          41\n",
       "5422  the fire alarm control panel or the monitoring...     246          38\n",
       "5423  k 171 dubai building code part k: villas k.11 ...     208          37\n",
       "\n",
       "[4672 rows x 3 columns]"
      ]
     },
     "execution_count": 15,
     "metadata": {},
     "output_type": "execute_result"
    }
   ],
   "source": [
    "df_sc_copy"
   ]
  },
  {
   "cell_type": "markdown",
   "id": "b1c8e639",
   "metadata": {},
   "source": [
    "### Removing Special Characters"
   ]
  },
  {
   "cell_type": "code",
   "execution_count": 16,
   "id": "4cfcfe1b",
   "metadata": {},
   "outputs": [
    {
     "name": "stderr",
     "output_type": "stream",
     "text": [
      "C:\\Users\\yash.hemnani\\AppData\\Local\\Temp\\ipykernel_14264\\2279212239.py:36: FutureWarning: The default value of regex will change from True to False in a future version.\n",
      "  df[column_name] = df[column_name].str.replace('[$@#;\\\\:\\[\\]\\']','')\n"
     ]
    },
    {
     "data": {
      "text/html": [
       "<div>\n",
       "<style scoped>\n",
       "    .dataframe tbody tr th:only-of-type {\n",
       "        vertical-align: middle;\n",
       "    }\n",
       "\n",
       "    .dataframe tbody tr th {\n",
       "        vertical-align: top;\n",
       "    }\n",
       "\n",
       "    .dataframe thead th {\n",
       "        text-align: right;\n",
       "    }\n",
       "</style>\n",
       "<table border=\"1\" class=\"dataframe\">\n",
       "  <thead>\n",
       "    <tr style=\"text-align: right;\">\n",
       "      <th></th>\n",
       "      <th>Sentences</th>\n",
       "      <th>length</th>\n",
       "      <th>word_count</th>\n",
       "    </tr>\n",
       "  </thead>\n",
       "  <tbody>\n",
       "    <tr>\n",
       "      <th>0</th>\n",
       "      <td>dubai building code 2021 edition contents part...</td>\n",
       "      <td>1140</td>\n",
       "      <td>181</td>\n",
       "    </tr>\n",
       "    <tr>\n",
       "      <th>1</th>\n",
       "      <td>the content of the dbc is based on the followi...</td>\n",
       "      <td>402</td>\n",
       "      <td>53</td>\n",
       "    </tr>\n",
       "    <tr>\n",
       "      <th>2</th>\n",
       "      <td>the dbc is arranged under themes to integrate ...</td>\n",
       "      <td>288</td>\n",
       "      <td>47</td>\n",
       "    </tr>\n",
       "    <tr>\n",
       "      <th>3</th>\n",
       "      <td>a 2 dubai building code part a general a.2 def...</td>\n",
       "      <td>191</td>\n",
       "      <td>33</td>\n",
       "    </tr>\n",
       "    <tr>\n",
       "      <th>4</th>\n",
       "      <td>a.2.1 terms addition increase to a building’s ...</td>\n",
       "      <td>98</td>\n",
       "      <td>16</td>\n",
       "    </tr>\n",
       "    <tr>\n",
       "      <th>...</th>\n",
       "      <td>...</td>\n",
       "      <td>...</td>\n",
       "      <td>...</td>\n",
       "    </tr>\n",
       "    <tr>\n",
       "      <th>5419</th>\n",
       "      <td>as a minimum, occupancy sensors shall be provi...</td>\n",
       "      <td>325</td>\n",
       "      <td>47</td>\n",
       "    </tr>\n",
       "    <tr>\n",
       "      <th>5420</th>\n",
       "      <td>k.10.5 fire safety systems emergency lighting ...</td>\n",
       "      <td>190</td>\n",
       "      <td>28</td>\n",
       "    </tr>\n",
       "    <tr>\n",
       "      <th>5421</th>\n",
       "      <td>fire detection and alarm k.10.5.2 table 8.13, ...</td>\n",
       "      <td>232</td>\n",
       "      <td>41</td>\n",
       "    </tr>\n",
       "    <tr>\n",
       "      <th>5422</th>\n",
       "      <td>the fire alarm control panel or the monitoring...</td>\n",
       "      <td>246</td>\n",
       "      <td>38</td>\n",
       "    </tr>\n",
       "    <tr>\n",
       "      <th>5423</th>\n",
       "      <td>k 171 dubai building code part k villas k.11 s...</td>\n",
       "      <td>208</td>\n",
       "      <td>37</td>\n",
       "    </tr>\n",
       "  </tbody>\n",
       "</table>\n",
       "<p>4672 rows × 3 columns</p>\n",
       "</div>"
      ],
      "text/plain": [
       "                                              Sentences  length  word_count\n",
       "0     dubai building code 2021 edition contents part...    1140         181\n",
       "1     the content of the dbc is based on the followi...     402          53\n",
       "2     the dbc is arranged under themes to integrate ...     288          47\n",
       "3     a 2 dubai building code part a general a.2 def...     191          33\n",
       "4     a.2.1 terms addition increase to a building’s ...      98          16\n",
       "...                                                 ...     ...         ...\n",
       "5419  as a minimum, occupancy sensors shall be provi...     325          47\n",
       "5420  k.10.5 fire safety systems emergency lighting ...     190          28\n",
       "5421  fire detection and alarm k.10.5.2 table 8.13, ...     232          41\n",
       "5422  the fire alarm control panel or the monitoring...     246          38\n",
       "5423  k 171 dubai building code part k villas k.11 s...     208          37\n",
       "\n",
       "[4672 rows x 3 columns]"
      ]
     },
     "execution_count": 16,
     "metadata": {},
     "output_type": "execute_result"
    }
   ],
   "source": [
    "df_sc_copy = Remove_Special_Char(df_sc_copy, 'Sentences')\n",
    "df_sc_copy"
   ]
  },
  {
   "cell_type": "code",
   "execution_count": 17,
   "id": "8a237d91",
   "metadata": {},
   "outputs": [],
   "source": [
    "df_sc_copy = Calculate_Len_NoOfWords(df_sc_copy)"
   ]
  },
  {
   "cell_type": "code",
   "execution_count": 18,
   "id": "366c55fa",
   "metadata": {},
   "outputs": [
    {
     "data": {
      "text/html": [
       "<div>\n",
       "<style scoped>\n",
       "    .dataframe tbody tr th:only-of-type {\n",
       "        vertical-align: middle;\n",
       "    }\n",
       "\n",
       "    .dataframe tbody tr th {\n",
       "        vertical-align: top;\n",
       "    }\n",
       "\n",
       "    .dataframe thead th {\n",
       "        text-align: right;\n",
       "    }\n",
       "</style>\n",
       "<table border=\"1\" class=\"dataframe\">\n",
       "  <thead>\n",
       "    <tr style=\"text-align: right;\">\n",
       "      <th></th>\n",
       "      <th>Sentences</th>\n",
       "      <th>length</th>\n",
       "      <th>word_count</th>\n",
       "    </tr>\n",
       "  </thead>\n",
       "  <tbody>\n",
       "    <tr>\n",
       "      <th>0</th>\n",
       "      <td>dubai building code 2021 edition contents part...</td>\n",
       "      <td>1136</td>\n",
       "      <td>181</td>\n",
       "    </tr>\n",
       "    <tr>\n",
       "      <th>1</th>\n",
       "      <td>the content of the dbc is based on the followi...</td>\n",
       "      <td>399</td>\n",
       "      <td>53</td>\n",
       "    </tr>\n",
       "    <tr>\n",
       "      <th>2</th>\n",
       "      <td>the dbc is arranged under themes to integrate ...</td>\n",
       "      <td>288</td>\n",
       "      <td>47</td>\n",
       "    </tr>\n",
       "    <tr>\n",
       "      <th>3</th>\n",
       "      <td>a 2 dubai building code part a general a.2 def...</td>\n",
       "      <td>189</td>\n",
       "      <td>33</td>\n",
       "    </tr>\n",
       "    <tr>\n",
       "      <th>4</th>\n",
       "      <td>a.2.1 terms addition increase to a building’s ...</td>\n",
       "      <td>97</td>\n",
       "      <td>16</td>\n",
       "    </tr>\n",
       "    <tr>\n",
       "      <th>...</th>\n",
       "      <td>...</td>\n",
       "      <td>...</td>\n",
       "      <td>...</td>\n",
       "    </tr>\n",
       "    <tr>\n",
       "      <th>5419</th>\n",
       "      <td>as a minimum, occupancy sensors shall be provi...</td>\n",
       "      <td>325</td>\n",
       "      <td>47</td>\n",
       "    </tr>\n",
       "    <tr>\n",
       "      <th>5420</th>\n",
       "      <td>k.10.5 fire safety systems emergency lighting ...</td>\n",
       "      <td>188</td>\n",
       "      <td>28</td>\n",
       "    </tr>\n",
       "    <tr>\n",
       "      <th>5421</th>\n",
       "      <td>fire detection and alarm k.10.5.2 table 8.13, ...</td>\n",
       "      <td>228</td>\n",
       "      <td>41</td>\n",
       "    </tr>\n",
       "    <tr>\n",
       "      <th>5422</th>\n",
       "      <td>the fire alarm control panel or the monitoring...</td>\n",
       "      <td>246</td>\n",
       "      <td>38</td>\n",
       "    </tr>\n",
       "    <tr>\n",
       "      <th>5423</th>\n",
       "      <td>k 171 dubai building code part k villas k.11 s...</td>\n",
       "      <td>206</td>\n",
       "      <td>37</td>\n",
       "    </tr>\n",
       "  </tbody>\n",
       "</table>\n",
       "<p>4672 rows × 3 columns</p>\n",
       "</div>"
      ],
      "text/plain": [
       "                                              Sentences  length  word_count\n",
       "0     dubai building code 2021 edition contents part...    1136         181\n",
       "1     the content of the dbc is based on the followi...     399          53\n",
       "2     the dbc is arranged under themes to integrate ...     288          47\n",
       "3     a 2 dubai building code part a general a.2 def...     189          33\n",
       "4     a.2.1 terms addition increase to a building’s ...      97          16\n",
       "...                                                 ...     ...         ...\n",
       "5419  as a minimum, occupancy sensors shall be provi...     325          47\n",
       "5420  k.10.5 fire safety systems emergency lighting ...     188          28\n",
       "5421  fire detection and alarm k.10.5.2 table 8.13, ...     228          41\n",
       "5422  the fire alarm control panel or the monitoring...     246          38\n",
       "5423  k 171 dubai building code part k villas k.11 s...     206          37\n",
       "\n",
       "[4672 rows x 3 columns]"
      ]
     },
     "execution_count": 18,
     "metadata": {},
     "output_type": "execute_result"
    }
   ],
   "source": [
    "df_sc_copy"
   ]
  },
  {
   "cell_type": "code",
   "execution_count": 19,
   "id": "365ba38a",
   "metadata": {},
   "outputs": [
    {
     "data": {
      "text/plain": [
       "2418    6469\n",
       "3587    5453\n",
       "2529    5082\n",
       "1589    4537\n",
       "4978    3605\n",
       "2417    3409\n",
       "3450    3361\n",
       "4136    3356\n",
       "1915    3346\n",
       "4447    3321\n",
       "Name: length, dtype: int64"
      ]
     },
     "execution_count": 19,
     "metadata": {},
     "output_type": "execute_result"
    }
   ],
   "source": [
    "df_sc['length'].nlargest(10)"
   ]
  },
  {
   "cell_type": "code",
   "execution_count": 20,
   "id": "d0864ad9",
   "metadata": {},
   "outputs": [
    {
     "data": {
      "text/plain": [
       "2418    6459\n",
       "3587    5443\n",
       "2529    4867\n",
       "1589    4516\n",
       "4978    3463\n",
       "2417    3406\n",
       "3450    3360\n",
       "1915    3339\n",
       "4136    3336\n",
       "4447    3318\n",
       "Name: length, dtype: int64"
      ]
     },
     "execution_count": 20,
     "metadata": {},
     "output_type": "execute_result"
    }
   ],
   "source": [
    "df_sc_copy['length'].nlargest(10)"
   ]
  },
  {
   "cell_type": "code",
   "execution_count": 21,
   "id": "36a24394",
   "metadata": {},
   "outputs": [
    {
     "data": {
      "text/plain": [
       "2418    952\n",
       "4210    887\n",
       "2529    824\n",
       "3587    757\n",
       "3159    739\n",
       "4208    727\n",
       "1589    716\n",
       "4212    696\n",
       "4214    675\n",
       "3450    666\n",
       "Name: word_count, dtype: int64"
      ]
     },
     "execution_count": 21,
     "metadata": {},
     "output_type": "execute_result"
    }
   ],
   "source": [
    "#Check change in largest 10 review word count to see any effect\n",
    "\n",
    "df_sc['word_count'].nlargest(10)"
   ]
  },
  {
   "cell_type": "code",
   "execution_count": 22,
   "id": "1ccc628e",
   "metadata": {},
   "outputs": [
    {
     "data": {
      "text/plain": [
       "2418    952\n",
       "4210    887\n",
       "3587    757\n",
       "3159    739\n",
       "4208    727\n",
       "1589    716\n",
       "4212    696\n",
       "4214    675\n",
       "3450    666\n",
       "2529    633\n",
       "Name: word_count, dtype: int64"
      ]
     },
     "execution_count": 22,
     "metadata": {},
     "output_type": "execute_result"
    }
   ],
   "source": [
    "df_sc_copy['word_count'].nlargest(10)"
   ]
  },
  {
   "cell_type": "code",
   "execution_count": 23,
   "id": "015bff05",
   "metadata": {},
   "outputs": [
    {
     "data": {
      "text/html": [
       "<div>\n",
       "<style scoped>\n",
       "    .dataframe tbody tr th:only-of-type {\n",
       "        vertical-align: middle;\n",
       "    }\n",
       "\n",
       "    .dataframe tbody tr th {\n",
       "        vertical-align: top;\n",
       "    }\n",
       "\n",
       "    .dataframe thead th {\n",
       "        text-align: right;\n",
       "    }\n",
       "</style>\n",
       "<table border=\"1\" class=\"dataframe\">\n",
       "  <thead>\n",
       "    <tr style=\"text-align: right;\">\n",
       "      <th></th>\n",
       "      <th>Sentences</th>\n",
       "      <th>length</th>\n",
       "      <th>word_count</th>\n",
       "    </tr>\n",
       "  </thead>\n",
       "  <tbody>\n",
       "    <tr>\n",
       "      <th>0</th>\n",
       "      <td>Dubai Building Code 2021 Edition Contents Part...</td>\n",
       "      <td>1140</td>\n",
       "      <td>181</td>\n",
       "    </tr>\n",
       "    <tr>\n",
       "      <th>1</th>\n",
       "      <td>The content of the DBC is based on the followi...</td>\n",
       "      <td>402</td>\n",
       "      <td>53</td>\n",
       "    </tr>\n",
       "    <tr>\n",
       "      <th>2</th>\n",
       "      <td>The DBC is arranged under themes to integrate ...</td>\n",
       "      <td>288</td>\n",
       "      <td>47</td>\n",
       "    </tr>\n",
       "    <tr>\n",
       "      <th>3</th>\n",
       "      <td>A 2 Dubai Building Code Part A: General A.2 De...</td>\n",
       "      <td>191</td>\n",
       "      <td>33</td>\n",
       "    </tr>\n",
       "    <tr>\n",
       "      <th>4</th>\n",
       "      <td>A.2.1 Terms Addition: Increase to a building’s...</td>\n",
       "      <td>98</td>\n",
       "      <td>16</td>\n",
       "    </tr>\n",
       "    <tr>\n",
       "      <th>...</th>\n",
       "      <td>...</td>\n",
       "      <td>...</td>\n",
       "      <td>...</td>\n",
       "    </tr>\n",
       "    <tr>\n",
       "      <th>5419</th>\n",
       "      <td>As a minimum, occupancy sensors shall be provi...</td>\n",
       "      <td>325</td>\n",
       "      <td>47</td>\n",
       "    </tr>\n",
       "    <tr>\n",
       "      <th>5420</th>\n",
       "      <td>K.10.5 Fire safety systems Emergency lighting ...</td>\n",
       "      <td>190</td>\n",
       "      <td>28</td>\n",
       "    </tr>\n",
       "    <tr>\n",
       "      <th>5421</th>\n",
       "      <td>Fire detection and alarm K.10.5.2 Table 8.13, ...</td>\n",
       "      <td>232</td>\n",
       "      <td>41</td>\n",
       "    </tr>\n",
       "    <tr>\n",
       "      <th>5422</th>\n",
       "      <td>The fire alarm control panel or the monitoring...</td>\n",
       "      <td>246</td>\n",
       "      <td>38</td>\n",
       "    </tr>\n",
       "    <tr>\n",
       "      <th>5423</th>\n",
       "      <td>K 171 Dubai Building Code Part K: Villas K.11 ...</td>\n",
       "      <td>208</td>\n",
       "      <td>37</td>\n",
       "    </tr>\n",
       "  </tbody>\n",
       "</table>\n",
       "<p>4672 rows × 3 columns</p>\n",
       "</div>"
      ],
      "text/plain": [
       "                                              Sentences  length  word_count\n",
       "0     Dubai Building Code 2021 Edition Contents Part...    1140         181\n",
       "1     The content of the DBC is based on the followi...     402          53\n",
       "2     The DBC is arranged under themes to integrate ...     288          47\n",
       "3     A 2 Dubai Building Code Part A: General A.2 De...     191          33\n",
       "4     A.2.1 Terms Addition: Increase to a building’s...      98          16\n",
       "...                                                 ...     ...         ...\n",
       "5419  As a minimum, occupancy sensors shall be provi...     325          47\n",
       "5420  K.10.5 Fire safety systems Emergency lighting ...     190          28\n",
       "5421  Fire detection and alarm K.10.5.2 Table 8.13, ...     232          41\n",
       "5422  The fire alarm control panel or the monitoring...     246          38\n",
       "5423  K 171 Dubai Building Code Part K: Villas K.11 ...     208          37\n",
       "\n",
       "[4672 rows x 3 columns]"
      ]
     },
     "execution_count": 23,
     "metadata": {},
     "output_type": "execute_result"
    }
   ],
   "source": [
    "df_sc"
   ]
  },
  {
   "cell_type": "code",
   "execution_count": 24,
   "id": "a398e818",
   "metadata": {},
   "outputs": [
    {
     "data": {
      "text/html": [
       "<div>\n",
       "<style scoped>\n",
       "    .dataframe tbody tr th:only-of-type {\n",
       "        vertical-align: middle;\n",
       "    }\n",
       "\n",
       "    .dataframe tbody tr th {\n",
       "        vertical-align: top;\n",
       "    }\n",
       "\n",
       "    .dataframe thead th {\n",
       "        text-align: right;\n",
       "    }\n",
       "</style>\n",
       "<table border=\"1\" class=\"dataframe\">\n",
       "  <thead>\n",
       "    <tr style=\"text-align: right;\">\n",
       "      <th></th>\n",
       "      <th>Sentences</th>\n",
       "      <th>length</th>\n",
       "      <th>word_count</th>\n",
       "    </tr>\n",
       "  </thead>\n",
       "  <tbody>\n",
       "    <tr>\n",
       "      <th>0</th>\n",
       "      <td>dubai building code 2021 edition contents part...</td>\n",
       "      <td>1136</td>\n",
       "      <td>181</td>\n",
       "    </tr>\n",
       "    <tr>\n",
       "      <th>1</th>\n",
       "      <td>the content of the dbc is based on the followi...</td>\n",
       "      <td>399</td>\n",
       "      <td>53</td>\n",
       "    </tr>\n",
       "    <tr>\n",
       "      <th>2</th>\n",
       "      <td>the dbc is arranged under themes to integrate ...</td>\n",
       "      <td>288</td>\n",
       "      <td>47</td>\n",
       "    </tr>\n",
       "    <tr>\n",
       "      <th>3</th>\n",
       "      <td>a 2 dubai building code part a general a.2 def...</td>\n",
       "      <td>189</td>\n",
       "      <td>33</td>\n",
       "    </tr>\n",
       "    <tr>\n",
       "      <th>4</th>\n",
       "      <td>a.2.1 terms addition increase to a building’s ...</td>\n",
       "      <td>97</td>\n",
       "      <td>16</td>\n",
       "    </tr>\n",
       "    <tr>\n",
       "      <th>...</th>\n",
       "      <td>...</td>\n",
       "      <td>...</td>\n",
       "      <td>...</td>\n",
       "    </tr>\n",
       "    <tr>\n",
       "      <th>5419</th>\n",
       "      <td>as a minimum, occupancy sensors shall be provi...</td>\n",
       "      <td>325</td>\n",
       "      <td>47</td>\n",
       "    </tr>\n",
       "    <tr>\n",
       "      <th>5420</th>\n",
       "      <td>k.10.5 fire safety systems emergency lighting ...</td>\n",
       "      <td>188</td>\n",
       "      <td>28</td>\n",
       "    </tr>\n",
       "    <tr>\n",
       "      <th>5421</th>\n",
       "      <td>fire detection and alarm k.10.5.2 table 8.13, ...</td>\n",
       "      <td>228</td>\n",
       "      <td>41</td>\n",
       "    </tr>\n",
       "    <tr>\n",
       "      <th>5422</th>\n",
       "      <td>the fire alarm control panel or the monitoring...</td>\n",
       "      <td>246</td>\n",
       "      <td>38</td>\n",
       "    </tr>\n",
       "    <tr>\n",
       "      <th>5423</th>\n",
       "      <td>k 171 dubai building code part k villas k.11 s...</td>\n",
       "      <td>206</td>\n",
       "      <td>37</td>\n",
       "    </tr>\n",
       "  </tbody>\n",
       "</table>\n",
       "<p>4672 rows × 3 columns</p>\n",
       "</div>"
      ],
      "text/plain": [
       "                                              Sentences  length  word_count\n",
       "0     dubai building code 2021 edition contents part...    1136         181\n",
       "1     the content of the dbc is based on the followi...     399          53\n",
       "2     the dbc is arranged under themes to integrate ...     288          47\n",
       "3     a 2 dubai building code part a general a.2 def...     189          33\n",
       "4     a.2.1 terms addition increase to a building’s ...      97          16\n",
       "...                                                 ...     ...         ...\n",
       "5419  as a minimum, occupancy sensors shall be provi...     325          47\n",
       "5420  k.10.5 fire safety systems emergency lighting ...     188          28\n",
       "5421  fire detection and alarm k.10.5.2 table 8.13, ...     228          41\n",
       "5422  the fire alarm control panel or the monitoring...     246          38\n",
       "5423  k 171 dubai building code part k villas k.11 s...     206          37\n",
       "\n",
       "[4672 rows x 3 columns]"
      ]
     },
     "execution_count": 24,
     "metadata": {},
     "output_type": "execute_result"
    }
   ],
   "source": [
    "df_sc_copy"
   ]
  },
  {
   "cell_type": "code",
   "execution_count": 25,
   "id": "ce3fab36",
   "metadata": {},
   "outputs": [
    {
     "data": {
      "text/html": [
       "<div>\n",
       "<style scoped>\n",
       "    .dataframe tbody tr th:only-of-type {\n",
       "        vertical-align: middle;\n",
       "    }\n",
       "\n",
       "    .dataframe tbody tr th {\n",
       "        vertical-align: top;\n",
       "    }\n",
       "\n",
       "    .dataframe thead th {\n",
       "        text-align: right;\n",
       "    }\n",
       "</style>\n",
       "<table border=\"1\" class=\"dataframe\">\n",
       "  <thead>\n",
       "    <tr style=\"text-align: right;\">\n",
       "      <th></th>\n",
       "      <th>Sentences</th>\n",
       "      <th>length</th>\n",
       "      <th>word_count</th>\n",
       "      <th>length_change</th>\n",
       "      <th>wordcount_change</th>\n",
       "    </tr>\n",
       "  </thead>\n",
       "  <tbody>\n",
       "    <tr>\n",
       "      <th>0</th>\n",
       "      <td>dubai building code 2021 edition contents part...</td>\n",
       "      <td>1136</td>\n",
       "      <td>181</td>\n",
       "      <td>4</td>\n",
       "      <td>0</td>\n",
       "    </tr>\n",
       "    <tr>\n",
       "      <th>1</th>\n",
       "      <td>the content of the dbc is based on the followi...</td>\n",
       "      <td>399</td>\n",
       "      <td>53</td>\n",
       "      <td>3</td>\n",
       "      <td>0</td>\n",
       "    </tr>\n",
       "    <tr>\n",
       "      <th>2</th>\n",
       "      <td>the dbc is arranged under themes to integrate ...</td>\n",
       "      <td>288</td>\n",
       "      <td>47</td>\n",
       "      <td>0</td>\n",
       "      <td>0</td>\n",
       "    </tr>\n",
       "    <tr>\n",
       "      <th>3</th>\n",
       "      <td>a 2 dubai building code part a general a.2 def...</td>\n",
       "      <td>189</td>\n",
       "      <td>33</td>\n",
       "      <td>2</td>\n",
       "      <td>0</td>\n",
       "    </tr>\n",
       "    <tr>\n",
       "      <th>4</th>\n",
       "      <td>a.2.1 terms addition increase to a building’s ...</td>\n",
       "      <td>97</td>\n",
       "      <td>16</td>\n",
       "      <td>1</td>\n",
       "      <td>0</td>\n",
       "    </tr>\n",
       "    <tr>\n",
       "      <th>...</th>\n",
       "      <td>...</td>\n",
       "      <td>...</td>\n",
       "      <td>...</td>\n",
       "      <td>...</td>\n",
       "      <td>...</td>\n",
       "    </tr>\n",
       "    <tr>\n",
       "      <th>5419</th>\n",
       "      <td>as a minimum, occupancy sensors shall be provi...</td>\n",
       "      <td>325</td>\n",
       "      <td>47</td>\n",
       "      <td>0</td>\n",
       "      <td>0</td>\n",
       "    </tr>\n",
       "    <tr>\n",
       "      <th>5420</th>\n",
       "      <td>k.10.5 fire safety systems emergency lighting ...</td>\n",
       "      <td>188</td>\n",
       "      <td>28</td>\n",
       "      <td>2</td>\n",
       "      <td>0</td>\n",
       "    </tr>\n",
       "    <tr>\n",
       "      <th>5421</th>\n",
       "      <td>fire detection and alarm k.10.5.2 table 8.13, ...</td>\n",
       "      <td>228</td>\n",
       "      <td>41</td>\n",
       "      <td>4</td>\n",
       "      <td>0</td>\n",
       "    </tr>\n",
       "    <tr>\n",
       "      <th>5422</th>\n",
       "      <td>the fire alarm control panel or the monitoring...</td>\n",
       "      <td>246</td>\n",
       "      <td>38</td>\n",
       "      <td>0</td>\n",
       "      <td>0</td>\n",
       "    </tr>\n",
       "    <tr>\n",
       "      <th>5423</th>\n",
       "      <td>k 171 dubai building code part k villas k.11 s...</td>\n",
       "      <td>206</td>\n",
       "      <td>37</td>\n",
       "      <td>2</td>\n",
       "      <td>0</td>\n",
       "    </tr>\n",
       "  </tbody>\n",
       "</table>\n",
       "<p>4672 rows × 5 columns</p>\n",
       "</div>"
      ],
      "text/plain": [
       "                                              Sentences  length  word_count  \\\n",
       "0     dubai building code 2021 edition contents part...    1136         181   \n",
       "1     the content of the dbc is based on the followi...     399          53   \n",
       "2     the dbc is arranged under themes to integrate ...     288          47   \n",
       "3     a 2 dubai building code part a general a.2 def...     189          33   \n",
       "4     a.2.1 terms addition increase to a building’s ...      97          16   \n",
       "...                                                 ...     ...         ...   \n",
       "5419  as a minimum, occupancy sensors shall be provi...     325          47   \n",
       "5420  k.10.5 fire safety systems emergency lighting ...     188          28   \n",
       "5421  fire detection and alarm k.10.5.2 table 8.13, ...     228          41   \n",
       "5422  the fire alarm control panel or the monitoring...     246          38   \n",
       "5423  k 171 dubai building code part k villas k.11 s...     206          37   \n",
       "\n",
       "      length_change  wordcount_change  \n",
       "0                 4                 0  \n",
       "1                 3                 0  \n",
       "2                 0                 0  \n",
       "3                 2                 0  \n",
       "4                 1                 0  \n",
       "...             ...               ...  \n",
       "5419              0                 0  \n",
       "5420              2                 0  \n",
       "5421              4                 0  \n",
       "5422              0                 0  \n",
       "5423              2                 0  \n",
       "\n",
       "[4672 rows x 5 columns]"
      ]
     },
     "execution_count": 25,
     "metadata": {},
     "output_type": "execute_result"
    }
   ],
   "source": [
    "df_sc_copy['length_change'] = df_sc['length']-df_sc_copy['length']\n",
    "df_sc_copy['wordcount_change'] = df_sc['word_count']-df_sc_copy['word_count']\n",
    "\n",
    "df_sc_copy"
   ]
  },
  {
   "cell_type": "code",
   "execution_count": 26,
   "id": "cb811986",
   "metadata": {},
   "outputs": [
    {
     "name": "stdout",
     "output_type": "stream",
     "text": [
      "Average reduction in length per Sentence is 1.611515410958904 characters\n"
     ]
    }
   ],
   "source": [
    "print('Average reduction in length per Sentence is', df_sc_copy['length_change'].sum()/(len(df_sc_copy['length_change'])), 'characters')"
   ]
  },
  {
   "cell_type": "code",
   "execution_count": 27,
   "id": "24e9ee48",
   "metadata": {},
   "outputs": [
    {
     "data": {
      "text/html": [
       "<div>\n",
       "<style scoped>\n",
       "    .dataframe tbody tr th:only-of-type {\n",
       "        vertical-align: middle;\n",
       "    }\n",
       "\n",
       "    .dataframe tbody tr th {\n",
       "        vertical-align: top;\n",
       "    }\n",
       "\n",
       "    .dataframe thead th {\n",
       "        text-align: right;\n",
       "    }\n",
       "</style>\n",
       "<table border=\"1\" class=\"dataframe\">\n",
       "  <thead>\n",
       "    <tr style=\"text-align: right;\">\n",
       "      <th></th>\n",
       "      <th>Sentences</th>\n",
       "      <th>length</th>\n",
       "      <th>word_count</th>\n",
       "      <th>length_change</th>\n",
       "      <th>wordcount_change</th>\n",
       "    </tr>\n",
       "  </thead>\n",
       "  <tbody>\n",
       "    <tr>\n",
       "      <th>0</th>\n",
       "      <td>dubai building code 2021 edition contents part...</td>\n",
       "      <td>1136</td>\n",
       "      <td>181</td>\n",
       "      <td>4</td>\n",
       "      <td>0</td>\n",
       "    </tr>\n",
       "    <tr>\n",
       "      <th>1</th>\n",
       "      <td>the content of the dbc is based on the followi...</td>\n",
       "      <td>399</td>\n",
       "      <td>53</td>\n",
       "      <td>3</td>\n",
       "      <td>0</td>\n",
       "    </tr>\n",
       "    <tr>\n",
       "      <th>2</th>\n",
       "      <td>the dbc is arranged under themes to integrate ...</td>\n",
       "      <td>288</td>\n",
       "      <td>47</td>\n",
       "      <td>0</td>\n",
       "      <td>0</td>\n",
       "    </tr>\n",
       "    <tr>\n",
       "      <th>3</th>\n",
       "      <td>a 2 dubai building code part a general a.2 def...</td>\n",
       "      <td>189</td>\n",
       "      <td>33</td>\n",
       "      <td>2</td>\n",
       "      <td>0</td>\n",
       "    </tr>\n",
       "    <tr>\n",
       "      <th>4</th>\n",
       "      <td>a.2.1 terms addition increase to a building’s ...</td>\n",
       "      <td>97</td>\n",
       "      <td>16</td>\n",
       "      <td>1</td>\n",
       "      <td>0</td>\n",
       "    </tr>\n",
       "    <tr>\n",
       "      <th>...</th>\n",
       "      <td>...</td>\n",
       "      <td>...</td>\n",
       "      <td>...</td>\n",
       "      <td>...</td>\n",
       "      <td>...</td>\n",
       "    </tr>\n",
       "    <tr>\n",
       "      <th>5419</th>\n",
       "      <td>as a minimum, occupancy sensors shall be provi...</td>\n",
       "      <td>325</td>\n",
       "      <td>47</td>\n",
       "      <td>0</td>\n",
       "      <td>0</td>\n",
       "    </tr>\n",
       "    <tr>\n",
       "      <th>5420</th>\n",
       "      <td>k.10.5 fire safety systems emergency lighting ...</td>\n",
       "      <td>188</td>\n",
       "      <td>28</td>\n",
       "      <td>2</td>\n",
       "      <td>0</td>\n",
       "    </tr>\n",
       "    <tr>\n",
       "      <th>5421</th>\n",
       "      <td>fire detection and alarm k.10.5.2 table 8.13, ...</td>\n",
       "      <td>228</td>\n",
       "      <td>41</td>\n",
       "      <td>4</td>\n",
       "      <td>0</td>\n",
       "    </tr>\n",
       "    <tr>\n",
       "      <th>5422</th>\n",
       "      <td>the fire alarm control panel or the monitoring...</td>\n",
       "      <td>246</td>\n",
       "      <td>38</td>\n",
       "      <td>0</td>\n",
       "      <td>0</td>\n",
       "    </tr>\n",
       "    <tr>\n",
       "      <th>5423</th>\n",
       "      <td>k 171 dubai building code part k villas k.11 s...</td>\n",
       "      <td>206</td>\n",
       "      <td>37</td>\n",
       "      <td>2</td>\n",
       "      <td>0</td>\n",
       "    </tr>\n",
       "  </tbody>\n",
       "</table>\n",
       "<p>4672 rows × 5 columns</p>\n",
       "</div>"
      ],
      "text/plain": [
       "                                              Sentences  length  word_count  \\\n",
       "0     dubai building code 2021 edition contents part...    1136         181   \n",
       "1     the content of the dbc is based on the followi...     399          53   \n",
       "2     the dbc is arranged under themes to integrate ...     288          47   \n",
       "3     a 2 dubai building code part a general a.2 def...     189          33   \n",
       "4     a.2.1 terms addition increase to a building’s ...      97          16   \n",
       "...                                                 ...     ...         ...   \n",
       "5419  as a minimum, occupancy sensors shall be provi...     325          47   \n",
       "5420  k.10.5 fire safety systems emergency lighting ...     188          28   \n",
       "5421  fire detection and alarm k.10.5.2 table 8.13, ...     228          41   \n",
       "5422  the fire alarm control panel or the monitoring...     246          38   \n",
       "5423  k 171 dubai building code part k villas k.11 s...     206          37   \n",
       "\n",
       "      length_change  wordcount_change  \n",
       "0                 4                 0  \n",
       "1                 3                 0  \n",
       "2                 0                 0  \n",
       "3                 2                 0  \n",
       "4                 1                 0  \n",
       "...             ...               ...  \n",
       "5419              0                 0  \n",
       "5420              2                 0  \n",
       "5421              4                 0  \n",
       "5422              0                 0  \n",
       "5423              2                 0  \n",
       "\n",
       "[4672 rows x 5 columns]"
      ]
     },
     "execution_count": 27,
     "metadata": {},
     "output_type": "execute_result"
    }
   ],
   "source": [
    "df_sc_copy"
   ]
  },
  {
   "cell_type": "markdown",
   "id": "75839c19",
   "metadata": {},
   "source": [
    "## Removing Stop Words"
   ]
  },
  {
   "cell_type": "code",
   "execution_count": 28,
   "id": "b8f6969d",
   "metadata": {},
   "outputs": [
    {
     "data": {
      "text/plain": [
       "'the content of the dbc is based on the following inputs 1) existing regulations and technical requirements produced by the various authorities and service providers 2) interviews with government authorities, service providers, master developers, consultants and other stakeholders to understand gaps or inconsistencies between existing regulations 3) benchmarking to international and regional codes'"
      ]
     },
     "execution_count": 28,
     "metadata": {},
     "output_type": "execute_result"
    }
   ],
   "source": [
    "#Sample Text\n",
    "\n",
    "df_sc_copy['Sentences'].loc[1]"
   ]
  },
  {
   "cell_type": "code",
   "execution_count": 29,
   "id": "703703f4",
   "metadata": {},
   "outputs": [],
   "source": [
    "stop = stopwords.words('english')"
   ]
  },
  {
   "cell_type": "code",
   "execution_count": 30,
   "id": "34459da7",
   "metadata": {},
   "outputs": [
    {
     "name": "stdout",
     "output_type": "stream",
     "text": [
      "['i', 'me', 'my', 'myself', 'we', 'our', 'ours', 'ourselves', 'you', \"you're\", \"you've\", \"you'll\", \"you'd\", 'your', 'yours', 'yourself', 'yourselves', 'he', 'him', 'his', 'himself', 'she', \"she's\", 'her', 'hers', 'herself', 'it', \"it's\", 'its', 'itself', 'they', 'them', 'their', 'theirs', 'themselves', 'what', 'which', 'who', 'whom', 'this', 'that', \"that'll\", 'these', 'those', 'am', 'is', 'are', 'was', 'were', 'be', 'been', 'being', 'have', 'has', 'had', 'having', 'do', 'does', 'did', 'doing', 'a', 'an', 'the', 'and', 'but', 'if', 'or', 'because', 'as', 'until', 'while', 'of', 'at', 'by', 'for', 'with', 'about', 'against', 'between', 'into', 'through', 'during', 'before', 'after', 'above', 'below', 'to', 'from', 'up', 'down', 'in', 'out', 'on', 'off', 'over', 'under', 'again', 'further', 'then', 'once', 'here', 'there', 'when', 'where', 'why', 'how', 'all', 'any', 'both', 'each', 'few', 'more', 'most', 'other', 'some', 'such', 'no', 'nor', 'not', 'only', 'own', 'same', 'so', 'than', 'too', 'very', 's', 't', 'can', 'will', 'just', 'don', \"don't\", 'should', \"should've\", 'now', 'd', 'll', 'm', 'o', 're', 've', 'y', 'ain', 'aren', \"aren't\", 'couldn', \"couldn't\", 'didn', \"didn't\", 'doesn', \"doesn't\", 'hadn', \"hadn't\", 'hasn', \"hasn't\", 'haven', \"haven't\", 'isn', \"isn't\", 'ma', 'mightn', \"mightn't\", 'mustn', \"mustn't\", 'needn', \"needn't\", 'shan', \"shan't\", 'shouldn', \"shouldn't\", 'wasn', \"wasn't\", 'weren', \"weren't\", 'won', \"won't\", 'wouldn', \"wouldn't\"]\n"
     ]
    }
   ],
   "source": [
    "print(stop)"
   ]
  },
  {
   "cell_type": "code",
   "execution_count": 31,
   "id": "b0ac5bcb",
   "metadata": {},
   "outputs": [],
   "source": [
    "words_not_tobe_removed = ['it', 'its', 'they', 'them', 'themselves', 'their', 'what', 'which', 'this', 'that', 'these', 'those', 'be', 'being', 'have', 'has', 'having',\n",
    "                         'do', 'does', 'did', 'and', 'but', 'if', 'or', 'because', 'as', 'until', 'while', 'of', 'at', 'there', 'by', 'for', 'with', 'about', 'against',\n",
    "                          'between', 'into', 'through', 'during', 'before', 'after', 'above', 'below', 'to', 'from', 'up', 'down', 'in', 'out', 'on', 'off', 'over',\n",
    "                          'under', 'again', 'further', 'then', 'once', 'here', 'there', 'when', 'where', 'why', 'how', 'all', 'any', 'both', 'each', 'few', 'more',\n",
    "                          'most', 'other', 'some', 'such', 'no', 'nor', 'not', 'only', 'own', 'same', 'so', 'than', 'too', 'very', 'can', 'will', 'just', 'don', \"don't\",\n",
    "                          'should', \"should've\", 'now', 'ain', 'aren', \"aren't\", 'couldn', \"couldn't\", 'didn', \"didn't\", 'doesn', \"doesn't\", 'hadn', \"hadn't\", 'hasn', \"hasn't\",\n",
    "                          'haven', \"haven't\", 'isn', \"isn't\", 'mightn', \"mightn't\", 'mustn', \"mustn't\", 'needn', \"needn't\", 'shan', \"shan't\", 'shouldn', \"shouldn't\", 'wasn', \"wasn't\",\n",
    "                          'weren', \"weren't\", 'won', \"won't\", 'wouldn', \"wouldn't\"]"
   ]
  },
  {
   "cell_type": "code",
   "execution_count": 32,
   "id": "7b211917",
   "metadata": {},
   "outputs": [],
   "source": [
    "final_stop_words = set([word for word in stop if word not in words_not_tobe_removed])"
   ]
  },
  {
   "cell_type": "code",
   "execution_count": 34,
   "id": "9210a9b0",
   "metadata": {},
   "outputs": [
    {
     "name": "stdout",
     "output_type": "stream",
     "text": [
      "{'himself', 'theirs', 'is', \"you're\", 'yourself', 'my', 'been', \"you've\", 'she', 'd', \"that'll\", 't', 'our', 'her', 'y', 'had', 's', \"you'd\", 'i', 'who', 'yours', 're', 'are', 'him', \"you'll\", 'ours', 'you', 'hers', 'ourselves', 'm', 'me', 'an', \"she's\", 'o', 'were', 'ma', 'your', 'yourselves', 'myself', 'the', 'whom', 'am', 'll', 'we', 'he', 'a', 'doing', 'was', 've', \"it's\", 'herself', 'his', 'itself'}\n"
     ]
    }
   ],
   "source": [
    "print(final_stop_words)"
   ]
  },
  {
   "cell_type": "code",
   "execution_count": 38,
   "id": "b94a05d5",
   "metadata": {},
   "outputs": [],
   "source": [
    "df_sc_copy['Sentences'] = df_sc_copy['Sentences'].apply(lambda x: ' '.join([word for word in x.split() if word not in (final_stop_words)]))"
   ]
  },
  {
   "cell_type": "code",
   "execution_count": 39,
   "id": "497d7af5",
   "metadata": {},
   "outputs": [
    {
     "data": {
      "text/plain": [
       "'content of dbc based on following inputs 1) existing regulations and technical requirements produced by various authorities and service providers 2) interviews with government authorities, service providers, master developers, consultants and other stakeholders to understand gaps or inconsistencies between existing regulations 3) benchmarking to international and regional codes'"
      ]
     },
     "execution_count": 39,
     "metadata": {},
     "output_type": "execute_result"
    }
   ],
   "source": [
    "df_sc_copy = Calculate_Len_NoOfWords(df_sc_copy)\n",
    "df_sc_copy['Sentences'].loc[1]"
   ]
  },
  {
   "cell_type": "code",
   "execution_count": 40,
   "id": "97dae8c1",
   "metadata": {},
   "outputs": [
    {
     "data": {
      "text/plain": [
       "2418    6469\n",
       "3587    5453\n",
       "2529    5082\n",
       "1589    4537\n",
       "4978    3605\n",
       "2417    3409\n",
       "3450    3361\n",
       "4136    3356\n",
       "1915    3346\n",
       "4447    3321\n",
       "Name: length, dtype: int64"
      ]
     },
     "execution_count": 40,
     "metadata": {},
     "output_type": "execute_result"
    }
   ],
   "source": [
    "df_sc['length'].nlargest(10)"
   ]
  },
  {
   "cell_type": "code",
   "execution_count": 41,
   "id": "dab74c1b",
   "metadata": {},
   "outputs": [
    {
     "data": {
      "text/plain": [
       "2418    6443\n",
       "3587    5407\n",
       "2529    4624\n",
       "1589    4396\n",
       "2417    3402\n",
       "3450    3356\n",
       "4978    3299\n",
       "4447    3298\n",
       "1915    3256\n",
       "4136    3207\n",
       "Name: length, dtype: int64"
      ]
     },
     "execution_count": 41,
     "metadata": {},
     "output_type": "execute_result"
    }
   ],
   "source": [
    "df_sc_copy['length'].nlargest(10)"
   ]
  },
  {
   "cell_type": "code",
   "execution_count": 42,
   "id": "b09b0094",
   "metadata": {},
   "outputs": [
    {
     "data": {
      "text/plain": [
       "2418    952\n",
       "4210    887\n",
       "2529    824\n",
       "3587    757\n",
       "3159    739\n",
       "4208    727\n",
       "1589    716\n",
       "4212    696\n",
       "4214    675\n",
       "3450    666\n",
       "Name: word_count, dtype: int64"
      ]
     },
     "execution_count": 42,
     "metadata": {},
     "output_type": "execute_result"
    }
   ],
   "source": [
    "#Check change in largest 10 review word count to see any effect\n",
    "\n",
    "df_sc['word_count'].nlargest(10)"
   ]
  },
  {
   "cell_type": "code",
   "execution_count": 43,
   "id": "c1bc52c1",
   "metadata": {},
   "outputs": [
    {
     "data": {
      "text/plain": [
       "2418    947\n",
       "3587    748\n",
       "1589    683\n",
       "3159    677\n",
       "3450    665\n",
       "2529    613\n",
       "4210    554\n",
       "1915    500\n",
       "2417    480\n",
       "529     477\n",
       "Name: word_count, dtype: int64"
      ]
     },
     "execution_count": 43,
     "metadata": {},
     "output_type": "execute_result"
    }
   ],
   "source": [
    "df_sc_copy['word_count'].nlargest(10)"
   ]
  },
  {
   "cell_type": "code",
   "execution_count": 44,
   "id": "cf73ba47",
   "metadata": {},
   "outputs": [
    {
     "data": {
      "text/html": [
       "<div>\n",
       "<style scoped>\n",
       "    .dataframe tbody tr th:only-of-type {\n",
       "        vertical-align: middle;\n",
       "    }\n",
       "\n",
       "    .dataframe tbody tr th {\n",
       "        vertical-align: top;\n",
       "    }\n",
       "\n",
       "    .dataframe thead th {\n",
       "        text-align: right;\n",
       "    }\n",
       "</style>\n",
       "<table border=\"1\" class=\"dataframe\">\n",
       "  <thead>\n",
       "    <tr style=\"text-align: right;\">\n",
       "      <th></th>\n",
       "      <th>Sentences</th>\n",
       "      <th>length</th>\n",
       "      <th>word_count</th>\n",
       "      <th>length_change</th>\n",
       "      <th>wordcount_change</th>\n",
       "    </tr>\n",
       "  </thead>\n",
       "  <tbody>\n",
       "    <tr>\n",
       "      <th>0</th>\n",
       "      <td>dubai building code 2021 edition contents part...</td>\n",
       "      <td>1076</td>\n",
       "      <td>163</td>\n",
       "      <td>64</td>\n",
       "      <td>18</td>\n",
       "    </tr>\n",
       "    <tr>\n",
       "      <th>1</th>\n",
       "      <td>content of dbc based on following inputs 1) ex...</td>\n",
       "      <td>380</td>\n",
       "      <td>48</td>\n",
       "      <td>22</td>\n",
       "      <td>5</td>\n",
       "    </tr>\n",
       "    <tr>\n",
       "      <th>2</th>\n",
       "      <td>dbc arranged under themes to integrate all rel...</td>\n",
       "      <td>251</td>\n",
       "      <td>37</td>\n",
       "      <td>37</td>\n",
       "      <td>10</td>\n",
       "    </tr>\n",
       "    <tr>\n",
       "      <th>3</th>\n",
       "      <td>2 dubai building code part general a.2 definit...</td>\n",
       "      <td>179</td>\n",
       "      <td>29</td>\n",
       "      <td>12</td>\n",
       "      <td>4</td>\n",
       "    </tr>\n",
       "    <tr>\n",
       "      <th>4</th>\n",
       "      <td>a.2.1 terms addition increase to building’s gr...</td>\n",
       "      <td>95</td>\n",
       "      <td>15</td>\n",
       "      <td>3</td>\n",
       "      <td>1</td>\n",
       "    </tr>\n",
       "    <tr>\n",
       "      <th>...</th>\n",
       "      <td>...</td>\n",
       "      <td>...</td>\n",
       "      <td>...</td>\n",
       "      <td>...</td>\n",
       "      <td>...</td>\n",
       "    </tr>\n",
       "    <tr>\n",
       "      <th>5419</th>\n",
       "      <td>as minimum, occupancy sensors shall be provide...</td>\n",
       "      <td>320</td>\n",
       "      <td>45</td>\n",
       "      <td>5</td>\n",
       "      <td>2</td>\n",
       "    </tr>\n",
       "    <tr>\n",
       "      <th>5420</th>\n",
       "      <td>k.10.5 fire safety systems emergency lighting ...</td>\n",
       "      <td>188</td>\n",
       "      <td>28</td>\n",
       "      <td>2</td>\n",
       "      <td>0</td>\n",
       "    </tr>\n",
       "    <tr>\n",
       "      <th>5421</th>\n",
       "      <td>fire detection and alarm k.10.5.2 table 8.13, ...</td>\n",
       "      <td>222</td>\n",
       "      <td>39</td>\n",
       "      <td>10</td>\n",
       "      <td>2</td>\n",
       "    </tr>\n",
       "    <tr>\n",
       "      <th>5422</th>\n",
       "      <td>fire alarm control panel or monitoring panel s...</td>\n",
       "      <td>222</td>\n",
       "      <td>32</td>\n",
       "      <td>24</td>\n",
       "      <td>6</td>\n",
       "    </tr>\n",
       "    <tr>\n",
       "      <th>5423</th>\n",
       "      <td>k 171 dubai building code part k villas k.11 s...</td>\n",
       "      <td>198</td>\n",
       "      <td>35</td>\n",
       "      <td>10</td>\n",
       "      <td>2</td>\n",
       "    </tr>\n",
       "  </tbody>\n",
       "</table>\n",
       "<p>4672 rows × 5 columns</p>\n",
       "</div>"
      ],
      "text/plain": [
       "                                              Sentences  length  word_count  \\\n",
       "0     dubai building code 2021 edition contents part...    1076         163   \n",
       "1     content of dbc based on following inputs 1) ex...     380          48   \n",
       "2     dbc arranged under themes to integrate all rel...     251          37   \n",
       "3     2 dubai building code part general a.2 definit...     179          29   \n",
       "4     a.2.1 terms addition increase to building’s gr...      95          15   \n",
       "...                                                 ...     ...         ...   \n",
       "5419  as minimum, occupancy sensors shall be provide...     320          45   \n",
       "5420  k.10.5 fire safety systems emergency lighting ...     188          28   \n",
       "5421  fire detection and alarm k.10.5.2 table 8.13, ...     222          39   \n",
       "5422  fire alarm control panel or monitoring panel s...     222          32   \n",
       "5423  k 171 dubai building code part k villas k.11 s...     198          35   \n",
       "\n",
       "      length_change  wordcount_change  \n",
       "0                64                18  \n",
       "1                22                 5  \n",
       "2                37                10  \n",
       "3                12                 4  \n",
       "4                 3                 1  \n",
       "...             ...               ...  \n",
       "5419              5                 2  \n",
       "5420              2                 0  \n",
       "5421             10                 2  \n",
       "5422             24                 6  \n",
       "5423             10                 2  \n",
       "\n",
       "[4672 rows x 5 columns]"
      ]
     },
     "execution_count": 44,
     "metadata": {},
     "output_type": "execute_result"
    }
   ],
   "source": [
    "df_sc_copy['length_change'] = df_sc['length']-df_sc_copy['length']\n",
    "df_sc_copy['wordcount_change'] = df_sc['word_count']-df_sc_copy['word_count']\n",
    "\n",
    "df_sc_copy"
   ]
  },
  {
   "cell_type": "code",
   "execution_count": 45,
   "id": "5b78481d",
   "metadata": {},
   "outputs": [
    {
     "name": "stdout",
     "output_type": "stream",
     "text": [
      "Average reduction in length per Sentence is 15.106592465753424 characters\n"
     ]
    }
   ],
   "source": [
    "print('Average reduction in length per Sentence is', df_sc_copy['length_change'].sum()/(len(df_sc_copy['length_change'])), 'characters')"
   ]
  },
  {
   "cell_type": "code",
   "execution_count": 46,
   "id": "2d12c993",
   "metadata": {},
   "outputs": [
    {
     "name": "stdout",
     "output_type": "stream",
     "text": [
      "Average reduction in length per Sentence is 4.224957191780822 words\n"
     ]
    }
   ],
   "source": [
    "print('Average reduction in length per Sentence is', df_sc_copy['wordcount_change'].sum()/(len(df_sc_copy['wordcount_change'])), 'words')"
   ]
  },
  {
   "cell_type": "code",
   "execution_count": 47,
   "id": "6c3769d6",
   "metadata": {},
   "outputs": [],
   "source": [
    "df_sc_copy.to_csv('df_sc_p.csv')"
   ]
  },
  {
   "cell_type": "code",
   "execution_count": null,
   "id": "97be1111",
   "metadata": {},
   "outputs": [],
   "source": []
  },
  {
   "cell_type": "markdown",
   "id": "9473cdff",
   "metadata": {},
   "source": [
    "## Normalization Experiments"
   ]
  },
  {
   "cell_type": "markdown",
   "id": "fff587e0",
   "metadata": {},
   "source": [
    "### Stemming"
   ]
  },
  {
   "cell_type": "code",
   "execution_count": 48,
   "id": "3954c59a",
   "metadata": {},
   "outputs": [],
   "source": [
    "df_sc_s = df_sc_copy.copy()"
   ]
  },
  {
   "cell_type": "code",
   "execution_count": 49,
   "id": "9376d373",
   "metadata": {},
   "outputs": [
    {
     "data": {
      "text/html": [
       "<div>\n",
       "<style scoped>\n",
       "    .dataframe tbody tr th:only-of-type {\n",
       "        vertical-align: middle;\n",
       "    }\n",
       "\n",
       "    .dataframe tbody tr th {\n",
       "        vertical-align: top;\n",
       "    }\n",
       "\n",
       "    .dataframe thead th {\n",
       "        text-align: right;\n",
       "    }\n",
       "</style>\n",
       "<table border=\"1\" class=\"dataframe\">\n",
       "  <thead>\n",
       "    <tr style=\"text-align: right;\">\n",
       "      <th></th>\n",
       "      <th>Sentences</th>\n",
       "      <th>length</th>\n",
       "      <th>word_count</th>\n",
       "      <th>length_change</th>\n",
       "      <th>wordcount_change</th>\n",
       "    </tr>\n",
       "  </thead>\n",
       "  <tbody>\n",
       "    <tr>\n",
       "      <th>0</th>\n",
       "      <td>dubai building code 2021 edition contents part...</td>\n",
       "      <td>1076</td>\n",
       "      <td>163</td>\n",
       "      <td>64</td>\n",
       "      <td>18</td>\n",
       "    </tr>\n",
       "    <tr>\n",
       "      <th>1</th>\n",
       "      <td>content of dbc based on following inputs 1) ex...</td>\n",
       "      <td>380</td>\n",
       "      <td>48</td>\n",
       "      <td>22</td>\n",
       "      <td>5</td>\n",
       "    </tr>\n",
       "    <tr>\n",
       "      <th>2</th>\n",
       "      <td>dbc arranged under themes to integrate all rel...</td>\n",
       "      <td>251</td>\n",
       "      <td>37</td>\n",
       "      <td>37</td>\n",
       "      <td>10</td>\n",
       "    </tr>\n",
       "    <tr>\n",
       "      <th>3</th>\n",
       "      <td>2 dubai building code part general a.2 definit...</td>\n",
       "      <td>179</td>\n",
       "      <td>29</td>\n",
       "      <td>12</td>\n",
       "      <td>4</td>\n",
       "    </tr>\n",
       "    <tr>\n",
       "      <th>4</th>\n",
       "      <td>a.2.1 terms addition increase to building’s gr...</td>\n",
       "      <td>95</td>\n",
       "      <td>15</td>\n",
       "      <td>3</td>\n",
       "      <td>1</td>\n",
       "    </tr>\n",
       "  </tbody>\n",
       "</table>\n",
       "</div>"
      ],
      "text/plain": [
       "                                           Sentences  length  word_count  \\\n",
       "0  dubai building code 2021 edition contents part...    1076         163   \n",
       "1  content of dbc based on following inputs 1) ex...     380          48   \n",
       "2  dbc arranged under themes to integrate all rel...     251          37   \n",
       "3  2 dubai building code part general a.2 definit...     179          29   \n",
       "4  a.2.1 terms addition increase to building’s gr...      95          15   \n",
       "\n",
       "   length_change  wordcount_change  \n",
       "0             64                18  \n",
       "1             22                 5  \n",
       "2             37                10  \n",
       "3             12                 4  \n",
       "4              3                 1  "
      ]
     },
     "execution_count": 49,
     "metadata": {},
     "output_type": "execute_result"
    }
   ],
   "source": [
    "df_sc_s.head()"
   ]
  },
  {
   "cell_type": "code",
   "execution_count": 50,
   "id": "06170f1c",
   "metadata": {},
   "outputs": [
    {
     "data": {
      "text/plain": [
       "'content of dbc based on following inputs 1) existing regulations and technical requirements produced by various authorities and service providers 2) interviews with government authorities, service providers, master developers, consultants and other stakeholders to understand gaps or inconsistencies between existing regulations 3) benchmarking to international and regional codes'"
      ]
     },
     "execution_count": 50,
     "metadata": {},
     "output_type": "execute_result"
    }
   ],
   "source": [
    "df_sc_copy['Sentences'].loc[1]"
   ]
  },
  {
   "cell_type": "code",
   "execution_count": 51,
   "id": "fdb277fc",
   "metadata": {},
   "outputs": [],
   "source": [
    "df_sc_s['Sentences'] = Perform_Stemming(df_sc_s['Sentences'])"
   ]
  },
  {
   "cell_type": "code",
   "execution_count": 52,
   "id": "c7bc729f",
   "metadata": {},
   "outputs": [
    {
     "data": {
      "text/plain": [
       "'content of dbc base on follow input 1) exist regul and technic requir produc by variou author and servic provid 2) interview with govern authorities, servic providers, master developers, consult and other stakehold to understand gap or inconsist between exist regul 3) benchmark to intern and region code'"
      ]
     },
     "execution_count": 52,
     "metadata": {},
     "output_type": "execute_result"
    }
   ],
   "source": [
    "df_sc_s = Calculate_Len_NoOfWords(df_sc_s)\n",
    "df_sc_s['Sentences'].loc[1]"
   ]
  },
  {
   "cell_type": "code",
   "execution_count": 53,
   "id": "714cdc35",
   "metadata": {},
   "outputs": [
    {
     "data": {
      "text/plain": [
       "2418    6443\n",
       "3587    5407\n",
       "2529    4624\n",
       "1589    4396\n",
       "2417    3402\n",
       "3450    3356\n",
       "4978    3299\n",
       "4447    3298\n",
       "1915    3256\n",
       "4136    3207\n",
       "Name: length, dtype: int64"
      ]
     },
     "execution_count": 53,
     "metadata": {},
     "output_type": "execute_result"
    }
   ],
   "source": [
    "#Check Change in largest 10 sentences to see any effect\n",
    "\n",
    "df_sc_copy['length'].nlargest(10)"
   ]
  },
  {
   "cell_type": "code",
   "execution_count": 54,
   "id": "5f5258b2",
   "metadata": {},
   "outputs": [
    {
     "data": {
      "text/plain": [
       "2418    5397\n",
       "3587    4697\n",
       "2529    4009\n",
       "1589    3712\n",
       "3450    3282\n",
       "2417    2964\n",
       "4978    2842\n",
       "3159    2841\n",
       "1915    2838\n",
       "4447    2837\n",
       "Name: length, dtype: int64"
      ]
     },
     "execution_count": 54,
     "metadata": {},
     "output_type": "execute_result"
    }
   ],
   "source": [
    "df_sc_s['length'].nlargest(10)"
   ]
  },
  {
   "cell_type": "code",
   "execution_count": 55,
   "id": "940a73ed",
   "metadata": {},
   "outputs": [
    {
     "data": {
      "text/plain": [
       "2418    947\n",
       "3587    748\n",
       "1589    683\n",
       "3159    677\n",
       "3450    665\n",
       "2529    613\n",
       "4210    554\n",
       "1915    500\n",
       "2417    480\n",
       "529     477\n",
       "Name: word_count, dtype: int64"
      ]
     },
     "execution_count": 55,
     "metadata": {},
     "output_type": "execute_result"
    }
   ],
   "source": [
    "#Check change in largest 10 review word count to see any effect\n",
    "\n",
    "df_sc_copy['word_count'].nlargest(10)"
   ]
  },
  {
   "cell_type": "code",
   "execution_count": 56,
   "id": "a2caf283",
   "metadata": {},
   "outputs": [
    {
     "data": {
      "text/plain": [
       "2418    947\n",
       "3587    748\n",
       "1589    683\n",
       "3159    677\n",
       "3450    665\n",
       "2529    613\n",
       "4210    554\n",
       "1915    500\n",
       "2417    480\n",
       "529     477\n",
       "Name: word_count, dtype: int64"
      ]
     },
     "execution_count": 56,
     "metadata": {},
     "output_type": "execute_result"
    }
   ],
   "source": [
    "df_sc_s['word_count'].nlargest(10)"
   ]
  },
  {
   "cell_type": "code",
   "execution_count": 57,
   "id": "5dcca5ba",
   "metadata": {},
   "outputs": [
    {
     "data": {
      "image/png": "[encoded data removed]",
      "text/plain": [
       "<Figure size 1440x360 with 1 Axes>"
      ]
     },
     "metadata": {
      "needs_background": "light"
     },
     "output_type": "display_data"
    }
   ],
   "source": [
    "freq_words(df_sc_copy['Sentences'])   #Before"
   ]
  },
  {
   "cell_type": "code",
   "execution_count": 58,
   "id": "19833d45",
   "metadata": {},
   "outputs": [
    {
     "data": {
      "image/png": "[encoded data removed]",
      "text/plain": [
       "<Figure size 1440x360 with 1 Axes>"
      ]
     },
     "metadata": {
      "needs_background": "light"
     },
     "output_type": "display_data"
    }
   ],
   "source": [
    "freq_words(df_sc_s['Sentences'])   #After"
   ]
  },
  {
   "cell_type": "code",
   "execution_count": 59,
   "id": "ac4aff61",
   "metadata": {},
   "outputs": [
    {
     "data": {
      "text/html": [
       "<div>\n",
       "<style scoped>\n",
       "    .dataframe tbody tr th:only-of-type {\n",
       "        vertical-align: middle;\n",
       "    }\n",
       "\n",
       "    .dataframe tbody tr th {\n",
       "        vertical-align: top;\n",
       "    }\n",
       "\n",
       "    .dataframe thead th {\n",
       "        text-align: right;\n",
       "    }\n",
       "</style>\n",
       "<table border=\"1\" class=\"dataframe\">\n",
       "  <thead>\n",
       "    <tr style=\"text-align: right;\">\n",
       "      <th></th>\n",
       "      <th>Sentences</th>\n",
       "      <th>length</th>\n",
       "      <th>word_count</th>\n",
       "      <th>length_change</th>\n",
       "      <th>wordcount_change</th>\n",
       "    </tr>\n",
       "  </thead>\n",
       "  <tbody>\n",
       "    <tr>\n",
       "      <th>0</th>\n",
       "      <td>dubai build code 2021 edit content part part b...</td>\n",
       "      <td>893</td>\n",
       "      <td>163</td>\n",
       "      <td>64</td>\n",
       "      <td>18</td>\n",
       "    </tr>\n",
       "    <tr>\n",
       "      <th>1</th>\n",
       "      <td>content of dbc base on follow input 1) exist r...</td>\n",
       "      <td>304</td>\n",
       "      <td>48</td>\n",
       "      <td>22</td>\n",
       "      <td>5</td>\n",
       "    </tr>\n",
       "    <tr>\n",
       "      <th>2</th>\n",
       "      <td>dbc arrang under theme to integr all relev ele...</td>\n",
       "      <td>209</td>\n",
       "      <td>37</td>\n",
       "      <td>37</td>\n",
       "      <td>10</td>\n",
       "    </tr>\n",
       "    <tr>\n",
       "      <th>3</th>\n",
       "      <td>2 dubai build code part gener a.2 definit note...</td>\n",
       "      <td>160</td>\n",
       "      <td>29</td>\n",
       "      <td>12</td>\n",
       "      <td>4</td>\n",
       "    </tr>\n",
       "    <tr>\n",
       "      <th>4</th>\n",
       "      <td>a.2.1 term addit increas to building’ gross ar...</td>\n",
       "      <td>89</td>\n",
       "      <td>15</td>\n",
       "      <td>3</td>\n",
       "      <td>1</td>\n",
       "    </tr>\n",
       "  </tbody>\n",
       "</table>\n",
       "</div>"
      ],
      "text/plain": [
       "                                           Sentences  length  word_count  \\\n",
       "0  dubai build code 2021 edit content part part b...     893         163   \n",
       "1  content of dbc base on follow input 1) exist r...     304          48   \n",
       "2  dbc arrang under theme to integr all relev ele...     209          37   \n",
       "3  2 dubai build code part gener a.2 definit note...     160          29   \n",
       "4  a.2.1 term addit increas to building’ gross ar...      89          15   \n",
       "\n",
       "   length_change  wordcount_change  \n",
       "0             64                18  \n",
       "1             22                 5  \n",
       "2             37                10  \n",
       "3             12                 4  \n",
       "4              3                 1  "
      ]
     },
     "execution_count": 59,
     "metadata": {},
     "output_type": "execute_result"
    }
   ],
   "source": [
    "df_sc_s.head()"
   ]
  },
  {
   "cell_type": "code",
   "execution_count": 61,
   "id": "7396a776",
   "metadata": {},
   "outputs": [],
   "source": [
    "df_sc_s['length_change'] = df_sc_copy['length']-df_sc_s['length']\n",
    "df_sc_s['wordcount_change'] = df_sc_copy['word_count']-df_sc_s['word_count']\n",
    "df_sc_s.to_csv('df_sc_s.csv')"
   ]
  }
 ],
 "metadata": {
  "kernelspec": {
   "display_name": "Python 3 (ipykernel)",
   "language": "python",
   "name": "python3"
  },
  "language_info": {
   "codemirror_mode": {
    "name": "ipython",
    "version": 3
   },
   "file_extension": ".py",
   "mimetype": "text/x-python",
   "name": "python",
   "nbconvert_exporter": "python",
   "pygments_lexer": "ipython3",
   "version": "3.9.12"
  }
 },
 "nbformat": 4,
 "nbformat_minor": 5
}
