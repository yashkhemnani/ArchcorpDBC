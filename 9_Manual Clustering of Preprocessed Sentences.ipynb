{
 "cells": [
  {
   "cell_type": "markdown",
   "id": "a8e04ba5",
   "metadata": {},
   "source": [
    "## Importing Libraries"
   ]
  },
  {
   "cell_type": "code",
   "execution_count": 6,
   "id": "1bcef695",
   "metadata": {},
   "outputs": [],
   "source": [
    "import pandas as pd\n",
    "import numpy as np\n",
    "\n",
    "import seaborn as sms\n",
    "import matplotlib.pyplot as plt\n",
    "\n",
    "from sklearn.pipeline import Pipeline\n",
    "\n",
    "from sklearn.cluster import KMeans\n",
    "\n",
    "# vectorizer = TfidfVectorizer(stop_words={'english'})\n",
    "# X = vectorizer.fit_transform(text)"
   ]
  },
  {
   "cell_type": "markdown",
   "id": "681157a5",
   "metadata": {},
   "source": [
    "## File Input"
   ]
  },
  {
   "cell_type": "code",
   "execution_count": 7,
   "id": "4b1b1f08",
   "metadata": {},
   "outputs": [
    {
     "data": {
      "text/html": [
       "<div>\n",
       "<style scoped>\n",
       "    .dataframe tbody tr th:only-of-type {\n",
       "        vertical-align: middle;\n",
       "    }\n",
       "\n",
       "    .dataframe tbody tr th {\n",
       "        vertical-align: top;\n",
       "    }\n",
       "\n",
       "    .dataframe thead th {\n",
       "        text-align: right;\n",
       "    }\n",
       "</style>\n",
       "<table border=\"1\" class=\"dataframe\">\n",
       "  <thead>\n",
       "    <tr style=\"text-align: right;\">\n",
       "      <th></th>\n",
       "      <th>Sentences</th>\n",
       "      <th>length</th>\n",
       "      <th>word_count</th>\n",
       "      <th>length_change</th>\n",
       "      <th>wordcount_change</th>\n",
       "    </tr>\n",
       "  </thead>\n",
       "  <tbody>\n",
       "    <tr>\n",
       "      <th>0</th>\n",
       "      <td>dubai build code 2021 edit content part part b...</td>\n",
       "      <td>893</td>\n",
       "      <td>163</td>\n",
       "      <td>183</td>\n",
       "      <td>0</td>\n",
       "    </tr>\n",
       "    <tr>\n",
       "      <th>1</th>\n",
       "      <td>content of dbc base on follow input 1) exist r...</td>\n",
       "      <td>304</td>\n",
       "      <td>48</td>\n",
       "      <td>76</td>\n",
       "      <td>0</td>\n",
       "    </tr>\n",
       "    <tr>\n",
       "      <th>2</th>\n",
       "      <td>dbc arrang under theme to integr all relev ele...</td>\n",
       "      <td>209</td>\n",
       "      <td>37</td>\n",
       "      <td>42</td>\n",
       "      <td>0</td>\n",
       "    </tr>\n",
       "    <tr>\n",
       "      <th>3</th>\n",
       "      <td>2 dubai build code part gener a.2 definit note...</td>\n",
       "      <td>160</td>\n",
       "      <td>29</td>\n",
       "      <td>19</td>\n",
       "      <td>0</td>\n",
       "    </tr>\n",
       "    <tr>\n",
       "      <th>4</th>\n",
       "      <td>a.2.1 term addit increas to building’ gross ar...</td>\n",
       "      <td>89</td>\n",
       "      <td>15</td>\n",
       "      <td>6</td>\n",
       "      <td>0</td>\n",
       "    </tr>\n",
       "  </tbody>\n",
       "</table>\n",
       "</div>"
      ],
      "text/plain": [
       "                                           Sentences  length  word_count  \\\n",
       "0  dubai build code 2021 edit content part part b...     893         163   \n",
       "1  content of dbc base on follow input 1) exist r...     304          48   \n",
       "2  dbc arrang under theme to integr all relev ele...     209          37   \n",
       "3  2 dubai build code part gener a.2 definit note...     160          29   \n",
       "4  a.2.1 term addit increas to building’ gross ar...      89          15   \n",
       "\n",
       "   length_change  wordcount_change  \n",
       "0            183                 0  \n",
       "1             76                 0  \n",
       "2             42                 0  \n",
       "3             19                 0  \n",
       "4              6                 0  "
      ]
     },
     "execution_count": 7,
     "metadata": {},
     "output_type": "execute_result"
    }
   ],
   "source": [
    "#File Input - Preprocessed and Stemming Normalised Sentence data from SentenceTextPreprocessingAndNormalisation\n",
    "df_sc_s = pd.read_csv('df_sc_s.csv',  index_col = [0])\n",
    "df_sc_s.head()"
   ]
  },
  {
   "cell_type": "code",
   "execution_count": 8,
   "id": "70de0f96",
   "metadata": {},
   "outputs": [
    {
     "data": {
      "text/html": [
       "<div>\n",
       "<style scoped>\n",
       "    .dataframe tbody tr th:only-of-type {\n",
       "        vertical-align: middle;\n",
       "    }\n",
       "\n",
       "    .dataframe tbody tr th {\n",
       "        vertical-align: top;\n",
       "    }\n",
       "\n",
       "    .dataframe thead th {\n",
       "        text-align: right;\n",
       "    }\n",
       "</style>\n",
       "<table border=\"1\" class=\"dataframe\">\n",
       "  <thead>\n",
       "    <tr style=\"text-align: right;\">\n",
       "      <th></th>\n",
       "      <th>Sentences</th>\n",
       "      <th>length</th>\n",
       "      <th>word_count</th>\n",
       "      <th>length_change</th>\n",
       "      <th>wordcount_change</th>\n",
       "    </tr>\n",
       "  </thead>\n",
       "  <tbody>\n",
       "    <tr>\n",
       "      <th>0</th>\n",
       "      <td>dubai building code 2021 edition contents part...</td>\n",
       "      <td>1076</td>\n",
       "      <td>163</td>\n",
       "      <td>64</td>\n",
       "      <td>18</td>\n",
       "    </tr>\n",
       "    <tr>\n",
       "      <th>1</th>\n",
       "      <td>content of dbc based on following inputs 1) ex...</td>\n",
       "      <td>380</td>\n",
       "      <td>48</td>\n",
       "      <td>22</td>\n",
       "      <td>5</td>\n",
       "    </tr>\n",
       "    <tr>\n",
       "      <th>2</th>\n",
       "      <td>dbc arranged under themes to integrate all rel...</td>\n",
       "      <td>251</td>\n",
       "      <td>37</td>\n",
       "      <td>37</td>\n",
       "      <td>10</td>\n",
       "    </tr>\n",
       "    <tr>\n",
       "      <th>3</th>\n",
       "      <td>2 dubai building code part general a.2 definit...</td>\n",
       "      <td>179</td>\n",
       "      <td>29</td>\n",
       "      <td>12</td>\n",
       "      <td>4</td>\n",
       "    </tr>\n",
       "    <tr>\n",
       "      <th>4</th>\n",
       "      <td>a.2.1 terms addition increase to buildings gro...</td>\n",
       "      <td>94</td>\n",
       "      <td>15</td>\n",
       "      <td>4</td>\n",
       "      <td>1</td>\n",
       "    </tr>\n",
       "  </tbody>\n",
       "</table>\n",
       "</div>"
      ],
      "text/plain": [
       "                                           Sentences  length  word_count  \\\n",
       "0  dubai building code 2021 edition contents part...    1076         163   \n",
       "1  content of dbc based on following inputs 1) ex...     380          48   \n",
       "2  dbc arranged under themes to integrate all rel...     251          37   \n",
       "3  2 dubai building code part general a.2 definit...     179          29   \n",
       "4  a.2.1 terms addition increase to buildings gro...      94          15   \n",
       "\n",
       "   length_change  wordcount_change  \n",
       "0             64                18  \n",
       "1             22                 5  \n",
       "2             37                10  \n",
       "3             12                 4  \n",
       "4              4                 1  "
      ]
     },
     "execution_count": 8,
     "metadata": {},
     "output_type": "execute_result"
    }
   ],
   "source": [
    "#File Input - Preprocessed Sentence data from SentenceTextPreprocessingAndNormalisation\n",
    "df_sc_p = pd.read_csv('df_sc_p.csv',  index_col = [0])\n",
    "df_sc_p.head()"
   ]
  },
  {
   "cell_type": "code",
   "execution_count": 9,
   "id": "fd030a32",
   "metadata": {},
   "outputs": [
    {
     "name": "stdout",
     "output_type": "stream",
     "text": [
      "<class 'pandas.core.frame.DataFrame'>\n",
      "Int64Index: 4672 entries, 0 to 5423\n",
      "Data columns (total 5 columns):\n",
      " #   Column            Non-Null Count  Dtype \n",
      "---  ------            --------------  ----- \n",
      " 0   Sentences         4672 non-null   object\n",
      " 1   length            4672 non-null   int64 \n",
      " 2   word_count        4672 non-null   int64 \n",
      " 3   length_change     4672 non-null   int64 \n",
      " 4   wordcount_change  4672 non-null   int64 \n",
      "dtypes: int64(4), object(1)\n",
      "memory usage: 219.0+ KB\n"
     ]
    }
   ],
   "source": [
    "df_sc_p.info()"
   ]
  },
  {
   "cell_type": "code",
   "execution_count": null,
   "id": "fce176e8",
   "metadata": {},
   "outputs": [],
   "source": []
  },
  {
   "cell_type": "code",
   "execution_count": 10,
   "id": "0ca9f5b3",
   "metadata": {},
   "outputs": [
    {
     "data": {
      "text/html": [
       "<div>\n",
       "<style scoped>\n",
       "    .dataframe tbody tr th:only-of-type {\n",
       "        vertical-align: middle;\n",
       "    }\n",
       "\n",
       "    .dataframe tbody tr th {\n",
       "        vertical-align: top;\n",
       "    }\n",
       "\n",
       "    .dataframe thead th {\n",
       "        text-align: right;\n",
       "    }\n",
       "</style>\n",
       "<table border=\"1\" class=\"dataframe\">\n",
       "  <thead>\n",
       "    <tr style=\"text-align: right;\">\n",
       "      <th></th>\n",
       "      <th>Index</th>\n",
       "      <th>Heading</th>\n",
       "    </tr>\n",
       "    <tr>\n",
       "      <th>Sr. No.</th>\n",
       "      <th></th>\n",
       "      <th></th>\n",
       "    </tr>\n",
       "  </thead>\n",
       "  <tbody>\n",
       "    <tr>\n",
       "      <th>1</th>\n",
       "      <td>B.9.4.7</td>\n",
       "      <td>Ablution spaces</td>\n",
       "    </tr>\n",
       "    <tr>\n",
       "      <th>2</th>\n",
       "      <td>D.9.8.2</td>\n",
       "      <td>Acceleration and jerk</td>\n",
       "    </tr>\n",
       "    <tr>\n",
       "      <th>3</th>\n",
       "      <td>C.5.4.3</td>\n",
       "      <td>Access control barriers</td>\n",
       "    </tr>\n",
       "    <tr>\n",
       "      <th>4</th>\n",
       "      <td>B.4.2.5.3</td>\n",
       "      <td>Access doors</td>\n",
       "    </tr>\n",
       "    <tr>\n",
       "      <th>5</th>\n",
       "      <td>H.6.3.2</td>\n",
       "      <td>Access to drainage systems</td>\n",
       "    </tr>\n",
       "  </tbody>\n",
       "</table>\n",
       "</div>"
      ],
      "text/plain": [
       "             Index                     Heading\n",
       "Sr. No.                                       \n",
       "1          B.9.4.7             Ablution spaces\n",
       "2          D.9.8.2       Acceleration and jerk\n",
       "3          C.5.4.3     Access control barriers\n",
       "4        B.4.2.5.3                Access doors\n",
       "5          H.6.3.2  Access to drainage systems"
      ]
     },
     "execution_count": 10,
     "metadata": {},
     "output_type": "execute_result"
    }
   ],
   "source": [
    "#File Input - Preprocessed Sentence data from SentenceTextPreprocessingAndNormalisation\n",
    "df_index= pd.read_csv('Index_heading.csv',  index_col = [0])\n",
    "df_index.head()"
   ]
  },
  {
   "cell_type": "markdown",
   "id": "04faeab1",
   "metadata": {},
   "source": [
    "## Sorting Experiments"
   ]
  },
  {
   "cell_type": "code",
   "execution_count": 11,
   "id": "7f7ace0d",
   "metadata": {},
   "outputs": [],
   "source": [
    "list_doors = []\n",
    "\n",
    "for sentence in df_sc_p['Sentences']:\n",
    "    if \"access doors\" in sentence:\n",
    "        list_doors.append(sentence)"
   ]
  },
  {
   "cell_type": "code",
   "execution_count": 12,
   "id": "58921f62",
   "metadata": {},
   "outputs": [
    {
     "name": "stdout",
     "output_type": "stream",
     "text": [
      "['dubai building code part b architecture 01 100 100 02 , 0 0 2 1  5 6 8  b 0 0 1  (a) guardrail with stepping feature within 865 mm from ffl (b) guardrail without stepping feature within 865 mm from ffl figure b.18 guardrail specifications key 01 gaps more than 100 mm not acceptable 02 stepping feature within 865 mm of base of guardrail not acceptable b 30 dubai building code part b architecture 01 100 02 0 0 2 , 1  5 6 8  b 0 0 1  b.4.2.5.3 access doors balconies and terraces shall not have self-closing, self-latching or self-locking doors, which can accidentally lock people outside in balcony or terrace', 'elevators b 52 figure b.42 examples of compliant stair treads, flights and arrangements dubai building code part b architecture b.6.5 building openings doors b.6.5.1 door clear width shall be not less than minimum values given in table b.7 and figure b.43. door location entry doors, general bathrooms and toilets (excluding toilet stalls) exit doors, exit access doors minimum door clear width (mm) 915 815 915 or greater depending upon occupant load served, as specified in section 3, ch. 3 of uae flsc ref. b.1 table b.7 minimum door clear width 01 915 key 01 door clear width 02 door 02 clear distance between two doors openings shall be not less than 1.2 m, as shown in figure b.44', 'at least one exit door with door swing in direction of egress shall be provided. if door in 2 h fire rated fire rated wall, then door shall be 90 min fire rated. equipment access doors maybe sufficient to meet this requirement', 'n equipment access doors may include louvers, but they shall be protected by automatic fire rated shutters or fire rated curtains on landlord side of louvers. fire curtains/shutters will close in fire and block equipment doors therefore alternative exit shall be provided and equipment doors shall not be marked as exit. l j k n p p j k figure g.50 details of substation louvers l g 94 dubai building code part g incoming utilities b) door plan key 01 3.05 m, or 2.44 if located where it opens onto sikka/road, or as per plan 02 slot central mullion b 40 mm  20 mm bracing aluminium box c heavy duty hinges heavy duty aluminium drop with locking hook e heavy duty brass tower bolt (750 mm) f heavy duty brass tower bolt (300 mm) g handles h rawl bolt c) details of additional locking arrangement figure g.51 details of substation doors a) elevation g 95 dubai building code part g incoming utilities 4 x 1,000 kva figure g.52 forced ventilation of transformer room in basement g 96 dubai building code part g incoming utilities 5.00 0.77 0.90 0.77 1.28 03 04 5.00 03 0.20 0.40 04 05 0.85 01 02 0 2 4', 'all internal roof or paved areas that open to sky (that have catchment area of 16 m2 or less) shall be provided with floor drains to enable rainwater pipework to connect to nearest gully or waste discharge stack. all other areas that open to sky shall be provided with rainwater drain that provides free discharge to external area. for all air ventilation shafts, access doors shall be provided at lower level of well to facilitate cleaning and maintenance of rainwater drainage system. routing of rainwater pipework through sensitive areas of building should be avoided. sensitive areas might include, but not limited to 1) areas of architectural significance 2) pipework routes through areas of different ownership or tenancy and 3) areas where access to drainage pipework might be restricted. where routing pipework through these areas cannot be avoided, pipework installation shall be configured to mitigate risk of pipework leaks. this shall be achieved by using pipework materials that have limited pipework joints, or pipe in pipe installation techniques', 'all internal roof or paved areas that open to sky (that have catchment area of 16 m2 or less) shall be provided with floor drains to enable rainwater pipework to connect to nearest gully or waste discharge stack. all other open to sky areas shall be provided with rainwater drain that provides free discharge to external area. for all air ventilation shafts, access doors shall be provided at lower level of well to facilitate cleaning and maintenance of rainwater drainage system']\n"
     ]
    }
   ],
   "source": [
    "print(list_doors)"
   ]
  },
  {
   "cell_type": "code",
   "execution_count": 13,
   "id": "4f4b8d94",
   "metadata": {},
   "outputs": [
    {
     "name": "stdout",
     "output_type": "stream",
     "text": [
      "6\n"
     ]
    }
   ],
   "source": [
    "print(len(list_doors))"
   ]
  },
  {
   "cell_type": "code",
   "execution_count": 14,
   "id": "cdd23196",
   "metadata": {},
   "outputs": [],
   "source": [
    "s = ['my name is yash', 'i live in a small town', 'i live in a small house']\n",
    "d = ['My name','is yash', 'I live', 'in a small', 'house']\n"
   ]
  },
  {
   "cell_type": "code",
   "execution_count": 15,
   "id": "2b6da2e9",
   "metadata": {},
   "outputs": [],
   "source": [
    "new_list = [''] * len(d)"
   ]
  },
  {
   "cell_type": "code",
   "execution_count": 16,
   "id": "fcdaf338",
   "metadata": {},
   "outputs": [],
   "source": [
    "for idx, topic in enumerate(d):\n",
    "    for sentence in s:\n",
    "        if topic.lower() in sentence:\n",
    "            new_list[idx] = '\\n'.join([new_list[idx], sentence])"
   ]
  },
  {
   "cell_type": "code",
   "execution_count": 17,
   "id": "2e2856ad",
   "metadata": {},
   "outputs": [
    {
     "name": "stdout",
     "output_type": "stream",
     "text": [
      "['\\nmy name is yash', '\\nmy name is yash', '\\ni live in a small town\\ni live in a small house', '\\ni live in a small town\\ni live in a small house', '\\ni live in a small house']\n"
     ]
    }
   ],
   "source": [
    "print(new_list)"
   ]
  },
  {
   "cell_type": "markdown",
   "id": "04fc8da6",
   "metadata": {},
   "source": [
    "### Converting All the headings to lower case"
   ]
  },
  {
   "cell_type": "code",
   "execution_count": 18,
   "id": "e3d820fb",
   "metadata": {},
   "outputs": [],
   "source": [
    "# Dataframe which holds lower case of headings from df_index['Heading']\n",
    "\n",
    "df_heads= pd.DataFrame()\n"
   ]
  },
  {
   "cell_type": "code",
   "execution_count": 19,
   "id": "dfbc9e61",
   "metadata": {},
   "outputs": [],
   "source": [
    "df_heads['headings'] = df_index['Heading'].str.lower()"
   ]
  },
  {
   "cell_type": "code",
   "execution_count": 20,
   "id": "8837c0da",
   "metadata": {},
   "outputs": [
    {
     "data": {
      "text/html": [
       "<div>\n",
       "<style scoped>\n",
       "    .dataframe tbody tr th:only-of-type {\n",
       "        vertical-align: middle;\n",
       "    }\n",
       "\n",
       "    .dataframe tbody tr th {\n",
       "        vertical-align: top;\n",
       "    }\n",
       "\n",
       "    .dataframe thead th {\n",
       "        text-align: right;\n",
       "    }\n",
       "</style>\n",
       "<table border=\"1\" class=\"dataframe\">\n",
       "  <thead>\n",
       "    <tr style=\"text-align: right;\">\n",
       "      <th></th>\n",
       "      <th>headings</th>\n",
       "    </tr>\n",
       "    <tr>\n",
       "      <th>Sr. No.</th>\n",
       "      <th></th>\n",
       "    </tr>\n",
       "  </thead>\n",
       "  <tbody>\n",
       "    <tr>\n",
       "      <th>1</th>\n",
       "      <td>ablution spaces</td>\n",
       "    </tr>\n",
       "    <tr>\n",
       "      <th>2</th>\n",
       "      <td>acceleration and jerk</td>\n",
       "    </tr>\n",
       "    <tr>\n",
       "      <th>3</th>\n",
       "      <td>access control barriers</td>\n",
       "    </tr>\n",
       "    <tr>\n",
       "      <th>4</th>\n",
       "      <td>access doors</td>\n",
       "    </tr>\n",
       "    <tr>\n",
       "      <th>5</th>\n",
       "      <td>access to drainage systems</td>\n",
       "    </tr>\n",
       "    <tr>\n",
       "      <th>...</th>\n",
       "      <td>...</td>\n",
       "    </tr>\n",
       "    <tr>\n",
       "      <th>603</th>\n",
       "      <td>wiring diagram datasheets</td>\n",
       "    </tr>\n",
       "    <tr>\n",
       "      <th>604</th>\n",
       "      <td>wiring installation exposed to high temperatures</td>\n",
       "    </tr>\n",
       "    <tr>\n",
       "      <th>605</th>\n",
       "      <td>wiring installations in hazardous areas</td>\n",
       "    </tr>\n",
       "    <tr>\n",
       "      <th>606</th>\n",
       "      <td>wiring systems and distribution boards</td>\n",
       "    </tr>\n",
       "    <tr>\n",
       "      <th>607</th>\n",
       "      <td>women’s prayer halls in mosques</td>\n",
       "    </tr>\n",
       "  </tbody>\n",
       "</table>\n",
       "<p>607 rows × 1 columns</p>\n",
       "</div>"
      ],
      "text/plain": [
       "                                                 headings\n",
       "Sr. No.                                                  \n",
       "1                                         ablution spaces\n",
       "2                                   acceleration and jerk\n",
       "3                                 access control barriers\n",
       "4                                            access doors\n",
       "5                              access to drainage systems\n",
       "...                                                   ...\n",
       "603                             wiring diagram datasheets\n",
       "604      wiring installation exposed to high temperatures\n",
       "605               wiring installations in hazardous areas\n",
       "606                wiring systems and distribution boards\n",
       "607                       women’s prayer halls in mosques\n",
       "\n",
       "[607 rows x 1 columns]"
      ]
     },
     "execution_count": 20,
     "metadata": {},
     "output_type": "execute_result"
    }
   ],
   "source": [
    "df_heads"
   ]
  },
  {
   "cell_type": "markdown",
   "id": "16334862",
   "metadata": {},
   "source": [
    "## Clustering Sentences"
   ]
  },
  {
   "cell_type": "code",
   "execution_count": 21,
   "id": "fd601cc8",
   "metadata": {},
   "outputs": [
    {
     "data": {
      "text/html": [
       "<div>\n",
       "<style scoped>\n",
       "    .dataframe tbody tr th:only-of-type {\n",
       "        vertical-align: middle;\n",
       "    }\n",
       "\n",
       "    .dataframe tbody tr th {\n",
       "        vertical-align: top;\n",
       "    }\n",
       "\n",
       "    .dataframe thead th {\n",
       "        text-align: right;\n",
       "    }\n",
       "</style>\n",
       "<table border=\"1\" class=\"dataframe\">\n",
       "  <thead>\n",
       "    <tr style=\"text-align: right;\">\n",
       "      <th></th>\n",
       "      <th>headings</th>\n",
       "    </tr>\n",
       "    <tr>\n",
       "      <th>Sr. No.</th>\n",
       "      <th></th>\n",
       "    </tr>\n",
       "  </thead>\n",
       "  <tbody>\n",
       "    <tr>\n",
       "      <th>1</th>\n",
       "      <td>ablution spaces</td>\n",
       "    </tr>\n",
       "    <tr>\n",
       "      <th>2</th>\n",
       "      <td>acceleration and jerk</td>\n",
       "    </tr>\n",
       "    <tr>\n",
       "      <th>3</th>\n",
       "      <td>access control barriers</td>\n",
       "    </tr>\n",
       "    <tr>\n",
       "      <th>4</th>\n",
       "      <td>access doors</td>\n",
       "    </tr>\n",
       "    <tr>\n",
       "      <th>5</th>\n",
       "      <td>access to drainage systems</td>\n",
       "    </tr>\n",
       "  </tbody>\n",
       "</table>\n",
       "</div>"
      ],
      "text/plain": [
       "                           headings\n",
       "Sr. No.                            \n",
       "1                   ablution spaces\n",
       "2             acceleration and jerk\n",
       "3           access control barriers\n",
       "4                      access doors\n",
       "5        access to drainage systems"
      ]
     },
     "execution_count": 21,
     "metadata": {},
     "output_type": "execute_result"
    }
   ],
   "source": [
    "df_heads.head()"
   ]
  },
  {
   "cell_type": "code",
   "execution_count": 22,
   "id": "9922da6e",
   "metadata": {},
   "outputs": [
    {
     "data": {
      "text/html": [
       "<div>\n",
       "<style scoped>\n",
       "    .dataframe tbody tr th:only-of-type {\n",
       "        vertical-align: middle;\n",
       "    }\n",
       "\n",
       "    .dataframe tbody tr th {\n",
       "        vertical-align: top;\n",
       "    }\n",
       "\n",
       "    .dataframe thead th {\n",
       "        text-align: right;\n",
       "    }\n",
       "</style>\n",
       "<table border=\"1\" class=\"dataframe\">\n",
       "  <thead>\n",
       "    <tr style=\"text-align: right;\">\n",
       "      <th></th>\n",
       "      <th>Sentences</th>\n",
       "      <th>length</th>\n",
       "      <th>word_count</th>\n",
       "      <th>length_change</th>\n",
       "      <th>wordcount_change</th>\n",
       "    </tr>\n",
       "  </thead>\n",
       "  <tbody>\n",
       "    <tr>\n",
       "      <th>0</th>\n",
       "      <td>dubai building code 2021 edition contents part...</td>\n",
       "      <td>1076</td>\n",
       "      <td>163</td>\n",
       "      <td>64</td>\n",
       "      <td>18</td>\n",
       "    </tr>\n",
       "    <tr>\n",
       "      <th>1</th>\n",
       "      <td>content of dbc based on following inputs 1) ex...</td>\n",
       "      <td>380</td>\n",
       "      <td>48</td>\n",
       "      <td>22</td>\n",
       "      <td>5</td>\n",
       "    </tr>\n",
       "    <tr>\n",
       "      <th>2</th>\n",
       "      <td>dbc arranged under themes to integrate all rel...</td>\n",
       "      <td>251</td>\n",
       "      <td>37</td>\n",
       "      <td>37</td>\n",
       "      <td>10</td>\n",
       "    </tr>\n",
       "    <tr>\n",
       "      <th>3</th>\n",
       "      <td>2 dubai building code part general a.2 definit...</td>\n",
       "      <td>179</td>\n",
       "      <td>29</td>\n",
       "      <td>12</td>\n",
       "      <td>4</td>\n",
       "    </tr>\n",
       "    <tr>\n",
       "      <th>4</th>\n",
       "      <td>a.2.1 terms addition increase to buildings gro...</td>\n",
       "      <td>94</td>\n",
       "      <td>15</td>\n",
       "      <td>4</td>\n",
       "      <td>1</td>\n",
       "    </tr>\n",
       "  </tbody>\n",
       "</table>\n",
       "</div>"
      ],
      "text/plain": [
       "                                           Sentences  length  word_count  \\\n",
       "0  dubai building code 2021 edition contents part...    1076         163   \n",
       "1  content of dbc based on following inputs 1) ex...     380          48   \n",
       "2  dbc arranged under themes to integrate all rel...     251          37   \n",
       "3  2 dubai building code part general a.2 definit...     179          29   \n",
       "4  a.2.1 terms addition increase to buildings gro...      94          15   \n",
       "\n",
       "   length_change  wordcount_change  \n",
       "0             64                18  \n",
       "1             22                 5  \n",
       "2             37                10  \n",
       "3             12                 4  \n",
       "4              4                 1  "
      ]
     },
     "execution_count": 22,
     "metadata": {},
     "output_type": "execute_result"
    }
   ],
   "source": [
    "df_sc_p.head()"
   ]
  },
  {
   "cell_type": "code",
   "execution_count": 23,
   "id": "82b255ed",
   "metadata": {},
   "outputs": [],
   "source": [
    "df_hns = pd.DataFrame()"
   ]
  },
  {
   "cell_type": "code",
   "execution_count": 24,
   "id": "c0f4356b",
   "metadata": {},
   "outputs": [],
   "source": [
    "df_hns['headings'] = df_heads['headings']"
   ]
  },
  {
   "cell_type": "code",
   "execution_count": 25,
   "id": "7cc1f3c3",
   "metadata": {},
   "outputs": [],
   "source": [
    "df_hns['Description'] = ''"
   ]
  },
  {
   "cell_type": "code",
   "execution_count": 26,
   "id": "53779ac4",
   "metadata": {},
   "outputs": [
    {
     "data": {
      "text/html": [
       "<div>\n",
       "<style scoped>\n",
       "    .dataframe tbody tr th:only-of-type {\n",
       "        vertical-align: middle;\n",
       "    }\n",
       "\n",
       "    .dataframe tbody tr th {\n",
       "        vertical-align: top;\n",
       "    }\n",
       "\n",
       "    .dataframe thead th {\n",
       "        text-align: right;\n",
       "    }\n",
       "</style>\n",
       "<table border=\"1\" class=\"dataframe\">\n",
       "  <thead>\n",
       "    <tr style=\"text-align: right;\">\n",
       "      <th></th>\n",
       "      <th>headings</th>\n",
       "      <th>Description</th>\n",
       "    </tr>\n",
       "    <tr>\n",
       "      <th>Sr. No.</th>\n",
       "      <th></th>\n",
       "      <th></th>\n",
       "    </tr>\n",
       "  </thead>\n",
       "  <tbody>\n",
       "    <tr>\n",
       "      <th>1</th>\n",
       "      <td>ablution spaces</td>\n",
       "      <td></td>\n",
       "    </tr>\n",
       "    <tr>\n",
       "      <th>2</th>\n",
       "      <td>acceleration and jerk</td>\n",
       "      <td></td>\n",
       "    </tr>\n",
       "    <tr>\n",
       "      <th>3</th>\n",
       "      <td>access control barriers</td>\n",
       "      <td></td>\n",
       "    </tr>\n",
       "    <tr>\n",
       "      <th>4</th>\n",
       "      <td>access doors</td>\n",
       "      <td></td>\n",
       "    </tr>\n",
       "    <tr>\n",
       "      <th>5</th>\n",
       "      <td>access to drainage systems</td>\n",
       "      <td></td>\n",
       "    </tr>\n",
       "  </tbody>\n",
       "</table>\n",
       "</div>"
      ],
      "text/plain": [
       "                           headings Description\n",
       "Sr. No.                                        \n",
       "1                   ablution spaces            \n",
       "2             acceleration and jerk            \n",
       "3           access control barriers            \n",
       "4                      access doors            \n",
       "5        access to drainage systems            "
      ]
     },
     "execution_count": 26,
     "metadata": {},
     "output_type": "execute_result"
    }
   ],
   "source": [
    "df_hns.head()"
   ]
  },
  {
   "cell_type": "code",
   "execution_count": 27,
   "id": "78ae0824",
   "metadata": {},
   "outputs": [
    {
     "data": {
      "text/html": [
       "<div>\n",
       "<style scoped>\n",
       "    .dataframe tbody tr th:only-of-type {\n",
       "        vertical-align: middle;\n",
       "    }\n",
       "\n",
       "    .dataframe tbody tr th {\n",
       "        vertical-align: top;\n",
       "    }\n",
       "\n",
       "    .dataframe thead th {\n",
       "        text-align: right;\n",
       "    }\n",
       "</style>\n",
       "<table border=\"1\" class=\"dataframe\">\n",
       "  <thead>\n",
       "    <tr style=\"text-align: right;\">\n",
       "      <th></th>\n",
       "      <th>headings</th>\n",
       "      <th>Description</th>\n",
       "    </tr>\n",
       "  </thead>\n",
       "  <tbody>\n",
       "    <tr>\n",
       "      <th>count</th>\n",
       "      <td>607</td>\n",
       "      <td>607</td>\n",
       "    </tr>\n",
       "    <tr>\n",
       "      <th>unique</th>\n",
       "      <td>607</td>\n",
       "      <td>1</td>\n",
       "    </tr>\n",
       "    <tr>\n",
       "      <th>top</th>\n",
       "      <td>ablution spaces</td>\n",
       "      <td></td>\n",
       "    </tr>\n",
       "    <tr>\n",
       "      <th>freq</th>\n",
       "      <td>1</td>\n",
       "      <td>607</td>\n",
       "    </tr>\n",
       "  </tbody>\n",
       "</table>\n",
       "</div>"
      ],
      "text/plain": [
       "               headings Description\n",
       "count               607         607\n",
       "unique              607           1\n",
       "top     ablution spaces            \n",
       "freq                  1         607"
      ]
     },
     "execution_count": 27,
     "metadata": {},
     "output_type": "execute_result"
    }
   ],
   "source": [
    "df_hns.describe()"
   ]
  },
  {
   "cell_type": "code",
   "execution_count": 28,
   "id": "9a194a77",
   "metadata": {},
   "outputs": [
    {
     "name": "stdout",
     "output_type": "stream",
     "text": [
      "<class 'pandas.core.frame.DataFrame'>\n",
      "Int64Index: 607 entries, 1 to 607\n",
      "Data columns (total 2 columns):\n",
      " #   Column       Non-Null Count  Dtype \n",
      "---  ------       --------------  ----- \n",
      " 0   headings     607 non-null    object\n",
      " 1   Description  607 non-null    object\n",
      "dtypes: object(2)\n",
      "memory usage: 14.2+ KB\n"
     ]
    }
   ],
   "source": [
    "df_hns.info()"
   ]
  },
  {
   "cell_type": "code",
   "execution_count": 29,
   "id": "99145d36",
   "metadata": {},
   "outputs": [
    {
     "name": "stdout",
     "output_type": "stream",
     "text": [
      "1) \n",
      "2) \n",
      "3) \n",
      "4) \n",
      "5) \n",
      "6) \n",
      "7) \n",
      "8) \n",
      "9) \n",
      "10) \n"
     ]
    }
   ],
   "source": [
    "count = 0\n",
    "for i in range(10):\n",
    "    count +=1\n",
    "    print(str(count) + ') ')"
   ]
  },
  {
   "cell_type": "code",
   "execution_count": 30,
   "id": "8aeffa46",
   "metadata": {},
   "outputs": [],
   "source": [
    "for idx in df_hns.index:\n",
    "    count = 0\n",
    "    for sentence in df_sc_p['Sentences']:\n",
    "        if df_hns['headings'][idx] in sentence:\n",
    "            count+=1\n",
    "            p = '. ' + str(count) + ') '\n",
    "            df_hns['Description'][idx] = p.join([df_hns['Description'][idx], sentence])"
   ]
  },
  {
   "cell_type": "code",
   "execution_count": 31,
   "id": "56464eb9",
   "metadata": {},
   "outputs": [
    {
     "name": "stdout",
     "output_type": "stream",
     "text": [
      "                           headings  \\\n",
      "Sr. No.                               \n",
      "1                   ablution spaces   \n",
      "2             acceleration and jerk   \n",
      "3           access control barriers   \n",
      "4                      access doors   \n",
      "5        access to drainage systems   \n",
      "\n",
      "                                               Description  \n",
      "Sr. No.                                                     \n",
      "1        . 1) swimming pools use water closets washbasi...  \n",
      "2        . 1) acceleration and jerk d.9.8.2 lower accel...  \n",
      "3        . 1) access control barriers c.5.4.3 where acc...  \n",
      "4        . 1) dubai building code part b architecture 0...  \n",
      "5        . 1) maximum distances between types of access...  \n"
     ]
    }
   ],
   "source": [
    "print(df_hns.head())"
   ]
  },
  {
   "cell_type": "code",
   "execution_count": 32,
   "id": "2ac4c257",
   "metadata": {},
   "outputs": [
    {
     "name": "stdout",
     "output_type": "stream",
     "text": [
      ". 1) swimming pools use water closets washbasins male female male female 1 per 100 worshippers 1 per 100 worshippers mosques, prayer rooms ablution spaces 1 per 50 worshippers table b.19 minimum number of sanitary fixtures for mosques and prayer rooms male female male female male 1 per 200 occupants 1 per 150 occupants 1 per 10 occupants 1 per 75 for first 1500 occupants 1 per 120 occupants for remainder exceeding 1,500 1 per 40 for first 1,600 occupants 1 per 60 occupants for remainder exceeding 1,600 female 1 per 10 occupants table b.20 minimum number of sanitary fixtures for swimming pools b 82 dubai building code part b architecture public toilets requirements b.8.1.4 b.8.1.4.1 minimum space dimensions for toilet stalls toilet stalls in public toilet shall have minimum dimensions shown in table b.21 and figure b.75. internal corridors in public toilet shall be not less than 1.05 in width. if accessible stalls provided inside public toilet block, they shall conform to c.8.3. door opening in stall width (mm) length (mm) inside outside 900 900 table b.21 minimum space dimensions 1,500 1,250 900 900 0 5 2 1  , 0 5 0 , 1  0 0 5 , 1  0 5 0 , 1  figure b.75 stall clearance dimensions b 83 b.8.1.4.2 privacy requirements for public toilets following requirements and recommendations apply to privacy for water closets and urinals. 2) building occupancy minimum prayer room capacity less than 300 occupants 8% 300 or more occupants 5% (for all occupants exceeding first 300 occupants) table b.26 prayer room capacity ratio of male to female prayer rooms shall be based on occupancy estimates. equal space shall be allowed for both genders (50% for each) unless otherwise justified by expected occupancy (for example, if building specifically planned for larger use of single gender, such as single-gender schools). prayer rooms should conform to mosque prayer hall requirements in b.9.4.4 in terms of orientation, provisions and layout. when prayer room layout cannot be aligned to qibla directions precisely, indication of qibla through carpet lines and ornamental mihrab acceptable, although not preferred. prayer rooms shall be provided with ablution spaces in accordance with b.9.4.7. number of ablutions spaces provided shall conform to b.8.1.3.2. prayer rooms should provide adequate space for shoe storage and lobby area for prayer room access. prayer rooms do not require separate toilet facilities if building provides adequate toilet facilities for number of occupants as set in b.8.1. 3) 600 04 02 03 01 05 06 06 1,500 figure b.88 prayer hall general arrangement example key 01 prayer hall 02 qibla direction 03 mihrab 04 area for each worshipper 05 clear entry 06 racks for shoes 07 door should be clear of prayer space 07 b 103 dubai building code part b architecture b.9.4.5 womens prayer halls in mosques all mosques (except for those located in industrial areas) shall provide womens prayer hall with required number of sanitary facilities and ablution spaces. area of womens prayer halls shall be sufficient to expected number of female worshippers and shall be sized to accommodate at least 20% of total planned number of worshippers. position of womens prayer halls shall be planned such that imam position in front of all of praying group. prayer hall shall not be adjacent to mens toilet blocks or located in remote area of mosque (see figure b.89). privacy of womens entrance and prayer hall shall be taken into account. provision shall be made for direct and private circulation between womens prayer hall and womens facilities in mosque (see figure b.89). b 104 01 03 02 01 02 04 03 figure b.89 prayer hall general arrangement example key 01 men main prayer hall 02 men secondary prayer hall 03 women prayer hall 04 prayer prohibited in this area when imam in secondary prayer hall dubai building code part b architecture womens prayer hall shall be located near to main road access and parking areas and shall not be allocated in mosque basement floor. 4) key 01 men main prayer hall 02 men secondary prayer hall 03 women prayer hall 04 minaret 05 iwan 06 ablution 07 toilet 03 07 06 01 02 05 figure b.92 jumaa mosque layout example b 107 dubai building code part b architecture ablution spaces b.9.4.7 ablution spaces shall be well planned to avoid restriction of movement during ablution. fixture clearances shall conform to b.8.1.5. 5) ablution spaces shall meet following requirements. 6) a) required number of ablution spaces (calculated in accordance with b.8.1.3.2) shall be provided with fixed seats or height adjustable rotatable stools. 7) b) accessible ablution spaces shall be provided in accordance with c.8.6. 8) 02 04 01 1.5 03 figure b.93 example of ablution area separation from toilets key 01 ablution 02 wash basins 03 entrance lobby 04 toilet b 108 dubai building code part b architecture ablution wash basins and standing ablution spaces with faucets optional. 9) 4) imam and moazen residences shall each be provided with dedicated outdoor open space or courtyard. mosque-specific sanitary requirements b.9.4.9 positioning of mosque toilets shall be planned carefully with cognisance of wind direction. toilets shall not be positioned in front of or adjacent to prayer hall. entrance of toilets shall be separated from ablution spaces to maintain purity of ablution spaces\n"
     ]
    }
   ],
   "source": [
    "print(df_hns['Description'][1])"
   ]
  },
  {
   "cell_type": "code",
   "execution_count": 33,
   "id": "b8d96dc7",
   "metadata": {},
   "outputs": [],
   "source": [
    "# df_hns.to_csv('df_hns.csv')"
   ]
  },
  {
   "cell_type": "code",
   "execution_count": 43,
   "id": "197530bf",
   "metadata": {},
   "outputs": [],
   "source": [
    "#Creating a dataframe for separate sentences for headings\n",
    "\n",
    "column_names = [\"headings\", \"Description\"]\n",
    "\n",
    "df_hns_s = pd.DataFrame(columns = column_names)\n",
    "i = 0"
   ]
  },
  {
   "cell_type": "code",
   "execution_count": 44,
   "id": "07b3d5f6",
   "metadata": {},
   "outputs": [
    {
     "name": "stdout",
     "output_type": "stream",
     "text": [
      "Empty DataFrame\n",
      "Columns: [headings, Description]\n",
      "Index: []\n"
     ]
    }
   ],
   "source": [
    "print(df_hns_s)"
   ]
  },
  {
   "cell_type": "code",
   "execution_count": 45,
   "id": "1216a0dc",
   "metadata": {},
   "outputs": [],
   "source": [
    "# df_hns_s.loc[0] = ['yash', 'Very good man.']"
   ]
  },
  {
   "cell_type": "code",
   "execution_count": 46,
   "id": "cbdd561d",
   "metadata": {},
   "outputs": [],
   "source": [
    "\n",
    "for sentence in df_sc_p['Sentences']:\n",
    "    count=0\n",
    "    for idx in df_hns.index: \n",
    "        if df_hns['headings'][idx] in sentence:\n",
    "            df_hns_s.loc[i] = [df_hns['headings'][idx], sentence]\n",
    "            i+=1\n",
    "            count+=1\n",
    "    if count==0:\n",
    "        df_hns_s.loc[i] = ['NULL', sentence]\n",
    "        i+=1"
   ]
  },
  {
   "cell_type": "code",
   "execution_count": 47,
   "id": "6e6a384e",
   "metadata": {},
   "outputs": [
    {
     "name": "stdout",
     "output_type": "stream",
     "text": [
      "                      headings  \\\n",
      "0                        scope   \n",
      "1                         NULL   \n",
      "2                    standards   \n",
      "3                         NULL   \n",
      "4                built-up area   \n",
      "...                        ...   \n",
      "5951        emergency lighting   \n",
      "5952               fire safety   \n",
      "5953  fire detection and alarm   \n",
      "5954                      NULL   \n",
      "5955                      NULL   \n",
      "\n",
      "                                            Description  \n",
      "0     dubai building code 2021 edition contents part...  \n",
      "1     content of dbc based on following inputs 1) ex...  \n",
      "2     dbc arranged under themes to integrate all rel...  \n",
      "3     2 dubai building code part general a.2 definit...  \n",
      "4     a.2.1 terms addition increase to buildings gro...  \n",
      "...                                                 ...  \n",
      "5951  k.10.5 fire safety systems emergency lighting ...  \n",
      "5952  k.10.5 fire safety systems emergency lighting ...  \n",
      "5953  fire detection and alarm k.10.5.2 table 8.13, ...  \n",
      "5954  fire alarm control panel or monitoring panel s...  \n",
      "5955  k 171 dubai building code part k villas k.11 s...  \n",
      "\n",
      "[5956 rows x 2 columns]\n"
     ]
    }
   ],
   "source": [
    "print(df_hns_s)"
   ]
  },
  {
   "cell_type": "code",
   "execution_count": 48,
   "id": "4bcff73b",
   "metadata": {},
   "outputs": [
    {
     "name": "stdout",
     "output_type": "stream",
     "text": [
      "<class 'pandas.core.frame.DataFrame'>\n",
      "Int64Index: 5956 entries, 0 to 5955\n",
      "Data columns (total 2 columns):\n",
      " #   Column       Non-Null Count  Dtype \n",
      "---  ------       --------------  ----- \n",
      " 0   headings     5956 non-null   object\n",
      " 1   Description  5956 non-null   object\n",
      "dtypes: object(2)\n",
      "memory usage: 139.6+ KB\n"
     ]
    }
   ],
   "source": [
    "df_hns_s.info()"
   ]
  },
  {
   "cell_type": "code",
   "execution_count": 49,
   "id": "cd68e5b5",
   "metadata": {},
   "outputs": [
    {
     "data": {
      "text/html": [
       "<div>\n",
       "<style scoped>\n",
       "    .dataframe tbody tr th:only-of-type {\n",
       "        vertical-align: middle;\n",
       "    }\n",
       "\n",
       "    .dataframe tbody tr th {\n",
       "        vertical-align: top;\n",
       "    }\n",
       "\n",
       "    .dataframe thead th {\n",
       "        text-align: right;\n",
       "    }\n",
       "</style>\n",
       "<table border=\"1\" class=\"dataframe\">\n",
       "  <thead>\n",
       "    <tr style=\"text-align: right;\">\n",
       "      <th></th>\n",
       "      <th>headings</th>\n",
       "      <th>Description</th>\n",
       "    </tr>\n",
       "  </thead>\n",
       "  <tbody>\n",
       "    <tr>\n",
       "      <th>count</th>\n",
       "      <td>5956</td>\n",
       "      <td>5956</td>\n",
       "    </tr>\n",
       "    <tr>\n",
       "      <th>unique</th>\n",
       "      <td>597</td>\n",
       "      <td>4660</td>\n",
       "    </tr>\n",
       "    <tr>\n",
       "      <th>top</th>\n",
       "      <td>NULL</td>\n",
       "      <td>bs 4662, boxes for flush mounting of electrica...</td>\n",
       "    </tr>\n",
       "    <tr>\n",
       "      <th>freq</th>\n",
       "      <td>2690</td>\n",
       "      <td>9</td>\n",
       "    </tr>\n",
       "  </tbody>\n",
       "</table>\n",
       "</div>"
      ],
      "text/plain": [
       "       headings                                        Description\n",
       "count      5956                                               5956\n",
       "unique      597                                               4660\n",
       "top        NULL  bs 4662, boxes for flush mounting of electrica...\n",
       "freq       2690                                                  9"
      ]
     },
     "execution_count": 49,
     "metadata": {},
     "output_type": "execute_result"
    }
   ],
   "source": [
    "df_hns_s.describe()"
   ]
  },
  {
   "cell_type": "code",
   "execution_count": 50,
   "id": "ec89c419",
   "metadata": {},
   "outputs": [
    {
     "data": {
      "text/plain": [
       "2690"
      ]
     },
     "execution_count": 50,
     "metadata": {},
     "output_type": "execute_result"
    }
   ],
   "source": [
    "df_hns_s['headings'].value_counts()['NULL']"
   ]
  },
  {
   "cell_type": "code",
   "execution_count": 51,
   "id": "749f140a",
   "metadata": {},
   "outputs": [
    {
     "data": {
      "text/plain": [
       "2690"
      ]
     },
     "execution_count": 51,
     "metadata": {},
     "output_type": "execute_result"
    }
   ],
   "source": [
    "len(df_hns_s[df_hns_s.headings == 'NULL'])"
   ]
  },
  {
   "cell_type": "code",
   "execution_count": 55,
   "id": "558d471a",
   "metadata": {},
   "outputs": [
    {
     "data": {
      "text/html": [
       "<div>\n",
       "<style scoped>\n",
       "    .dataframe tbody tr th:only-of-type {\n",
       "        vertical-align: middle;\n",
       "    }\n",
       "\n",
       "    .dataframe tbody tr th {\n",
       "        vertical-align: top;\n",
       "    }\n",
       "\n",
       "    .dataframe thead th {\n",
       "        text-align: right;\n",
       "    }\n",
       "</style>\n",
       "<table border=\"1\" class=\"dataframe\">\n",
       "  <thead>\n",
       "    <tr style=\"text-align: right;\">\n",
       "      <th></th>\n",
       "      <th>headings</th>\n",
       "      <th>Description</th>\n",
       "    </tr>\n",
       "  </thead>\n",
       "  <tbody>\n",
       "    <tr>\n",
       "      <th>count</th>\n",
       "      <td>2690</td>\n",
       "      <td>2690</td>\n",
       "    </tr>\n",
       "    <tr>\n",
       "      <th>unique</th>\n",
       "      <td>1</td>\n",
       "      <td>2679</td>\n",
       "    </tr>\n",
       "    <tr>\n",
       "      <th>top</th>\n",
       "      <td>NULL</td>\n",
       "      <td>b) all works of shoring systems shall be carri...</td>\n",
       "    </tr>\n",
       "    <tr>\n",
       "      <th>freq</th>\n",
       "      <td>2690</td>\n",
       "      <td>2</td>\n",
       "    </tr>\n",
       "  </tbody>\n",
       "</table>\n",
       "</div>"
      ],
      "text/plain": [
       "       headings                                        Description\n",
       "count      2690                                               2690\n",
       "unique        1                                               2679\n",
       "top        NULL  b) all works of shoring systems shall be carri...\n",
       "freq       2690                                                  2"
      ]
     },
     "execution_count": 55,
     "metadata": {},
     "output_type": "execute_result"
    }
   ],
   "source": [
    "(df_hns_s[df_hns_s.headings == 'NULL']).describe()"
   ]
  },
  {
   "cell_type": "code",
   "execution_count": 56,
   "id": "02f0b999",
   "metadata": {},
   "outputs": [],
   "source": [
    "df_hns_s = df_hns_s.drop_duplicates(keep='first')"
   ]
  },
  {
   "cell_type": "code",
   "execution_count": 57,
   "id": "e41f964f",
   "metadata": {
    "scrolled": true
   },
   "outputs": [
    {
     "data": {
      "text/html": [
       "<div>\n",
       "<style scoped>\n",
       "    .dataframe tbody tr th:only-of-type {\n",
       "        vertical-align: middle;\n",
       "    }\n",
       "\n",
       "    .dataframe tbody tr th {\n",
       "        vertical-align: top;\n",
       "    }\n",
       "\n",
       "    .dataframe thead th {\n",
       "        text-align: right;\n",
       "    }\n",
       "</style>\n",
       "<table border=\"1\" class=\"dataframe\">\n",
       "  <thead>\n",
       "    <tr style=\"text-align: right;\">\n",
       "      <th></th>\n",
       "      <th>headings</th>\n",
       "      <th>Description</th>\n",
       "    </tr>\n",
       "  </thead>\n",
       "  <tbody>\n",
       "    <tr>\n",
       "      <th>count</th>\n",
       "      <td>2679</td>\n",
       "      <td>2679</td>\n",
       "    </tr>\n",
       "    <tr>\n",
       "      <th>unique</th>\n",
       "      <td>1</td>\n",
       "      <td>2679</td>\n",
       "    </tr>\n",
       "    <tr>\n",
       "      <th>top</th>\n",
       "      <td>NULL</td>\n",
       "      <td>content of dbc based on following inputs 1) ex...</td>\n",
       "    </tr>\n",
       "    <tr>\n",
       "      <th>freq</th>\n",
       "      <td>2679</td>\n",
       "      <td>1</td>\n",
       "    </tr>\n",
       "  </tbody>\n",
       "</table>\n",
       "</div>"
      ],
      "text/plain": [
       "       headings                                        Description\n",
       "count      2679                                               2679\n",
       "unique        1                                               2679\n",
       "top        NULL  content of dbc based on following inputs 1) ex...\n",
       "freq       2679                                                  1"
      ]
     },
     "execution_count": 57,
     "metadata": {},
     "output_type": "execute_result"
    }
   ],
   "source": [
    "(df_hns_s[df_hns_s.headings == 'NULL']).describe()"
   ]
  },
  {
   "cell_type": "code",
   "execution_count": 58,
   "id": "7cfc3dc8",
   "metadata": {},
   "outputs": [
    {
     "data": {
      "text/html": [
       "<div>\n",
       "<style scoped>\n",
       "    .dataframe tbody tr th:only-of-type {\n",
       "        vertical-align: middle;\n",
       "    }\n",
       "\n",
       "    .dataframe tbody tr th {\n",
       "        vertical-align: top;\n",
       "    }\n",
       "\n",
       "    .dataframe thead th {\n",
       "        text-align: right;\n",
       "    }\n",
       "</style>\n",
       "<table border=\"1\" class=\"dataframe\">\n",
       "  <thead>\n",
       "    <tr style=\"text-align: right;\">\n",
       "      <th></th>\n",
       "      <th>headings</th>\n",
       "      <th>Description</th>\n",
       "    </tr>\n",
       "  </thead>\n",
       "  <tbody>\n",
       "    <tr>\n",
       "      <th>count</th>\n",
       "      <td>5943</td>\n",
       "      <td>5943</td>\n",
       "    </tr>\n",
       "    <tr>\n",
       "      <th>unique</th>\n",
       "      <td>597</td>\n",
       "      <td>4660</td>\n",
       "    </tr>\n",
       "    <tr>\n",
       "      <th>top</th>\n",
       "      <td>NULL</td>\n",
       "      <td>industrial and storage factories, workshops an...</td>\n",
       "    </tr>\n",
       "    <tr>\n",
       "      <th>freq</th>\n",
       "      <td>2679</td>\n",
       "      <td>9</td>\n",
       "    </tr>\n",
       "  </tbody>\n",
       "</table>\n",
       "</div>"
      ],
      "text/plain": [
       "       headings                                        Description\n",
       "count      5943                                               5943\n",
       "unique      597                                               4660\n",
       "top        NULL  industrial and storage factories, workshops an...\n",
       "freq       2679                                                  9"
      ]
     },
     "execution_count": 58,
     "metadata": {},
     "output_type": "execute_result"
    }
   ],
   "source": [
    "df_hns_s.describe()"
   ]
  },
  {
   "cell_type": "code",
   "execution_count": 59,
   "id": "c167a9be",
   "metadata": {},
   "outputs": [],
   "source": [
    "# counting the duplicates\n",
    "# dups = df_hns_s.pivot_table(index = ['Description'], aggfunc ='size')"
   ]
  },
  {
   "cell_type": "code",
   "execution_count": 61,
   "id": "316f906f",
   "metadata": {},
   "outputs": [
    {
     "name": "stdout",
     "output_type": "stream",
     "text": [
      "Description\n",
      " 1 , 0 0 0 1,000 0 8 2  5 0 3  figure k.27 example of villa stair key 01 continuous 02 dual guardrail 03 equal to tread depth k 42 dubai building code part k villas k.5.5.2.5 handrails stairs shall have handrails on open side of stair as shown in figure k.28                                                                                                                                                                                                                                                                                            1\n",
      " 1 , 5 0 0 key 01 double side desk 02 single side desk 0 0 0 1  , 0 0 5 , 1  0 0 5 , 1  figure c.113 circulation spaces between study tables/desks ( british standards institute. figure extracted from bs 83002018. permission to reproduce extracts from british standards granted by bsi standards limited (bsi). no other use of this material permitted)                                                                                                                                                                                                 2\n",
      " 1,5 0 0 figure c.45 curved ramp key 01 landing 02 ramp run c 32 dubai building code part c accessibility c.5.9.1.6 ramp handrails ramp handrails shall conform to following requirements                                                                                                                                                                                                                                                                                                                                                                     1\n",
      " 1,5 0 0 pool chair lifts shall be located over deck and at minimum of 400 mm from edge of pool                                                                                                                                                                                                                                                                                                                                                                                                                                                               1\n",
      " firefighting elevator or one of passenger elevators could be used as service elevator. where passenger elevator used as service elevator, scheduled operation for service mode required                                                                                                                                                                                                                                                                                                                                                                      1\n",
      "                                                                                                                                                                                                                                                                                                                                                                                                                                                                                                                                                             ..\n",
      "working surfaces for preparation of food shall be manufactured from stainless steel or other approved impervious material to facilitate cleaning and maintenance of hygienic conditions                                                                                                                                                                                                                                                                                                                                                                       1\n",
      "x figure b.67 bicycle stand minimum dimensions b 71 dubai building code part b architecture b.7.3 service and maintenance access to buildings loading and unloading areas b.7.3.1 b.7.3.1.1 general site layout shall allow for loading and unloading of vehicles to take place within plot boundaries. loading areas shall be located and designed such that vehicle intended to use them can manoeuvre safely and conveniently to and from row and can complete loading and unloading without obstructing or interfering with any row or any parking bay    1\n",
      "x) mtr for minimum of two sps xi) rack space and sp cabling allowances in mtr for two sps dubai building code part g incoming utilities g.11.2 responsibility matrix developers shall comply with design and supply requirements of responsibility matrix in table g.34                                                                                                                                                                                                                                                                                       1\n",
      "xlpe cable cross linked polyethylene as insulation of cable                                                                                                                                                                                                                                                                                                                                                                                                                                                                                                   1\n",
      "zone for manifestation or visual detection elements illustrated in figure c.71. zone shall 1) be located between 750 mm and 1,500 mm above ffl there no possibility of user confusing it with access glazing                                                                                                                                                                                                                                                                                                                                                  1\n",
      "Length: 4660, dtype: int64\n"
     ]
    }
   ],
   "source": [
    "# print(dups)"
   ]
  },
  {
   "cell_type": "code",
   "execution_count": 63,
   "id": "5188e6d0",
   "metadata": {},
   "outputs": [
    {
     "data": {
      "text/plain": [
       "0       False\n",
       "1       False\n",
       "2       False\n",
       "3       False\n",
       "4       False\n",
       "        ...  \n",
       "5951    False\n",
       "5952     True\n",
       "5953    False\n",
       "5954    False\n",
       "5955    False\n",
       "Name: Description, Length: 5943, dtype: bool"
      ]
     },
     "execution_count": 63,
     "metadata": {},
     "output_type": "execute_result"
    }
   ],
   "source": [
    "df_hns_s.Description.duplicated()"
   ]
  },
  {
   "cell_type": "code",
   "execution_count": 74,
   "id": "c3fd7959",
   "metadata": {},
   "outputs": [],
   "source": [
    "df_hns_s = df_hns_s.reset_index(drop=True)"
   ]
  },
  {
   "cell_type": "code",
   "execution_count": 75,
   "id": "4df0e942",
   "metadata": {},
   "outputs": [
    {
     "name": "stdout",
     "output_type": "stream",
     "text": [
      "<class 'pandas.core.frame.DataFrame'>\n",
      "RangeIndex: 5943 entries, 0 to 5942\n",
      "Data columns (total 2 columns):\n",
      " #   Column       Non-Null Count  Dtype \n",
      "---  ------       --------------  ----- \n",
      " 0   headings     5943 non-null   object\n",
      " 1   Description  5943 non-null   object\n",
      "dtypes: object(2)\n",
      "memory usage: 93.0+ KB\n"
     ]
    }
   ],
   "source": [
    "df_hns_s.info()"
   ]
  },
  {
   "cell_type": "code",
   "execution_count": 76,
   "id": "e3e88d5a",
   "metadata": {},
   "outputs": [],
   "source": [
    "# Dataframe of headings and sentences with separate sentences\n",
    "df_hns_s.to_csv('df_hns_s.csv')"
   ]
  },
  {
   "cell_type": "code",
   "execution_count": null,
   "id": "9c5b4ce0",
   "metadata": {},
   "outputs": [],
   "source": []
  },
  {
   "cell_type": "code",
   "execution_count": null,
   "id": "9cbc4b54",
   "metadata": {},
   "outputs": [],
   "source": []
  },
  {
   "cell_type": "code",
   "execution_count": null,
   "id": "1af0c80f",
   "metadata": {},
   "outputs": [],
   "source": []
  }
 ],
 "metadata": {
  "kernelspec": {
   "display_name": "Python 3 (ipykernel)",
   "language": "python",
   "name": "python3"
  },
  "language_info": {
   "codemirror_mode": {
    "name": "ipython",
    "version": 3
   },
   "file_extension": ".py",
   "mimetype": "text/x-python",
   "name": "python",
   "nbconvert_exporter": "python",
   "pygments_lexer": "ipython3",
   "version": "3.9.12"
  }
 },
 "nbformat": 4,
 "nbformat_minor": 5
}
